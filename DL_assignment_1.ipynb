{
  "nbformat": 4,
  "nbformat_minor": 0,
  "metadata": {
    "colab": {
      "provenance": [],
      "authorship_tag": "ABX9TyMtt6H6w417sOXQ6ievJNWn",
      "include_colab_link": true
    },
    "kernelspec": {
      "name": "python3",
      "display_name": "Python 3"
    },
    "language_info": {
      "name": "python"
    },
    "widgets": {
      "application/vnd.jupyter.widget-state+json": {
        "623b64b8028d44e9b86177efa2e039a4": {
          "model_module": "@jupyter-widgets/controls",
          "model_name": "VBoxModel",
          "model_module_version": "1.5.0",
          "state": {
            "_dom_classes": [],
            "_model_module": "@jupyter-widgets/controls",
            "_model_module_version": "1.5.0",
            "_model_name": "VBoxModel",
            "_view_count": null,
            "_view_module": "@jupyter-widgets/controls",
            "_view_module_version": "1.5.0",
            "_view_name": "VBoxView",
            "box_style": "",
            "children": [
              "IPY_MODEL_6f923ba384824256b22f9cd4a962b2a6",
              "IPY_MODEL_b1726fc5f7f94c4bb6b7b45aa58abe1f"
            ],
            "layout": "IPY_MODEL_5eb55d96887e416d99a281bb112a9d55"
          }
        },
        "6f923ba384824256b22f9cd4a962b2a6": {
          "model_module": "@jupyter-widgets/controls",
          "model_name": "LabelModel",
          "model_module_version": "1.5.0",
          "state": {
            "_dom_classes": [],
            "_model_module": "@jupyter-widgets/controls",
            "_model_module_version": "1.5.0",
            "_model_name": "LabelModel",
            "_view_count": null,
            "_view_module": "@jupyter-widgets/controls",
            "_view_module_version": "1.5.0",
            "_view_name": "LabelView",
            "description": "",
            "description_tooltip": null,
            "layout": "IPY_MODEL_8ec20cea9958429f8464077b9fdfbed1",
            "placeholder": "​",
            "style": "IPY_MODEL_8cb55f11e91d45dd92a19ae32c8c3af0",
            "value": "Waiting for wandb.init()...\r"
          }
        },
        "b1726fc5f7f94c4bb6b7b45aa58abe1f": {
          "model_module": "@jupyter-widgets/controls",
          "model_name": "FloatProgressModel",
          "model_module_version": "1.5.0",
          "state": {
            "_dom_classes": [],
            "_model_module": "@jupyter-widgets/controls",
            "_model_module_version": "1.5.0",
            "_model_name": "FloatProgressModel",
            "_view_count": null,
            "_view_module": "@jupyter-widgets/controls",
            "_view_module_version": "1.5.0",
            "_view_name": "ProgressView",
            "bar_style": "",
            "description": "",
            "description_tooltip": null,
            "layout": "IPY_MODEL_56f5b84226684f24ba2f008ef7a05049",
            "max": 1,
            "min": 0,
            "orientation": "horizontal",
            "style": "IPY_MODEL_bb9763d6582c40d6a3b76b221fd91037",
            "value": 1
          }
        },
        "5eb55d96887e416d99a281bb112a9d55": {
          "model_module": "@jupyter-widgets/base",
          "model_name": "LayoutModel",
          "model_module_version": "1.2.0",
          "state": {
            "_model_module": "@jupyter-widgets/base",
            "_model_module_version": "1.2.0",
            "_model_name": "LayoutModel",
            "_view_count": null,
            "_view_module": "@jupyter-widgets/base",
            "_view_module_version": "1.2.0",
            "_view_name": "LayoutView",
            "align_content": null,
            "align_items": null,
            "align_self": null,
            "border": null,
            "bottom": null,
            "display": null,
            "flex": null,
            "flex_flow": null,
            "grid_area": null,
            "grid_auto_columns": null,
            "grid_auto_flow": null,
            "grid_auto_rows": null,
            "grid_column": null,
            "grid_gap": null,
            "grid_row": null,
            "grid_template_areas": null,
            "grid_template_columns": null,
            "grid_template_rows": null,
            "height": null,
            "justify_content": null,
            "justify_items": null,
            "left": null,
            "margin": null,
            "max_height": null,
            "max_width": null,
            "min_height": null,
            "min_width": null,
            "object_fit": null,
            "object_position": null,
            "order": null,
            "overflow": null,
            "overflow_x": null,
            "overflow_y": null,
            "padding": null,
            "right": null,
            "top": null,
            "visibility": null,
            "width": null
          }
        },
        "8ec20cea9958429f8464077b9fdfbed1": {
          "model_module": "@jupyter-widgets/base",
          "model_name": "LayoutModel",
          "model_module_version": "1.2.0",
          "state": {
            "_model_module": "@jupyter-widgets/base",
            "_model_module_version": "1.2.0",
            "_model_name": "LayoutModel",
            "_view_count": null,
            "_view_module": "@jupyter-widgets/base",
            "_view_module_version": "1.2.0",
            "_view_name": "LayoutView",
            "align_content": null,
            "align_items": null,
            "align_self": null,
            "border": null,
            "bottom": null,
            "display": null,
            "flex": null,
            "flex_flow": null,
            "grid_area": null,
            "grid_auto_columns": null,
            "grid_auto_flow": null,
            "grid_auto_rows": null,
            "grid_column": null,
            "grid_gap": null,
            "grid_row": null,
            "grid_template_areas": null,
            "grid_template_columns": null,
            "grid_template_rows": null,
            "height": null,
            "justify_content": null,
            "justify_items": null,
            "left": null,
            "margin": null,
            "max_height": null,
            "max_width": null,
            "min_height": null,
            "min_width": null,
            "object_fit": null,
            "object_position": null,
            "order": null,
            "overflow": null,
            "overflow_x": null,
            "overflow_y": null,
            "padding": null,
            "right": null,
            "top": null,
            "visibility": null,
            "width": null
          }
        },
        "8cb55f11e91d45dd92a19ae32c8c3af0": {
          "model_module": "@jupyter-widgets/controls",
          "model_name": "DescriptionStyleModel",
          "model_module_version": "1.5.0",
          "state": {
            "_model_module": "@jupyter-widgets/controls",
            "_model_module_version": "1.5.0",
            "_model_name": "DescriptionStyleModel",
            "_view_count": null,
            "_view_module": "@jupyter-widgets/base",
            "_view_module_version": "1.2.0",
            "_view_name": "StyleView",
            "description_width": ""
          }
        },
        "56f5b84226684f24ba2f008ef7a05049": {
          "model_module": "@jupyter-widgets/base",
          "model_name": "LayoutModel",
          "model_module_version": "1.2.0",
          "state": {
            "_model_module": "@jupyter-widgets/base",
            "_model_module_version": "1.2.0",
            "_model_name": "LayoutModel",
            "_view_count": null,
            "_view_module": "@jupyter-widgets/base",
            "_view_module_version": "1.2.0",
            "_view_name": "LayoutView",
            "align_content": null,
            "align_items": null,
            "align_self": null,
            "border": null,
            "bottom": null,
            "display": null,
            "flex": null,
            "flex_flow": null,
            "grid_area": null,
            "grid_auto_columns": null,
            "grid_auto_flow": null,
            "grid_auto_rows": null,
            "grid_column": null,
            "grid_gap": null,
            "grid_row": null,
            "grid_template_areas": null,
            "grid_template_columns": null,
            "grid_template_rows": null,
            "height": null,
            "justify_content": null,
            "justify_items": null,
            "left": null,
            "margin": null,
            "max_height": null,
            "max_width": null,
            "min_height": null,
            "min_width": null,
            "object_fit": null,
            "object_position": null,
            "order": null,
            "overflow": null,
            "overflow_x": null,
            "overflow_y": null,
            "padding": null,
            "right": null,
            "top": null,
            "visibility": null,
            "width": null
          }
        },
        "bb9763d6582c40d6a3b76b221fd91037": {
          "model_module": "@jupyter-widgets/controls",
          "model_name": "ProgressStyleModel",
          "model_module_version": "1.5.0",
          "state": {
            "_model_module": "@jupyter-widgets/controls",
            "_model_module_version": "1.5.0",
            "_model_name": "ProgressStyleModel",
            "_view_count": null,
            "_view_module": "@jupyter-widgets/base",
            "_view_module_version": "1.2.0",
            "_view_name": "StyleView",
            "bar_color": null,
            "description_width": ""
          }
        }
      }
    }
  },
  "cells": [
    {
      "cell_type": "markdown",
      "metadata": {
        "id": "view-in-github",
        "colab_type": "text"
      },
      "source": [
        "<a href=\"https://colab.research.google.com/github/sankarvinayak/DL-assignment1/blob/main/DL_assignment_1.ipynb\" target=\"_parent\"><img src=\"https://colab.research.google.com/assets/colab-badge.svg\" alt=\"Open In Colab\"/></a>"
      ]
    },
    {
      "cell_type": "markdown",
      "source": [
        "# Assignment 1 DA6401 Deeplearning\n",
        "## Sankar Vinayak E P"
      ],
      "metadata": {
        "id": "zZ9fpn6qxs04"
      }
    },
    {
      "cell_type": "code",
      "source": [
        "!pip install wandb\n",
        "!wandb login"
      ],
      "metadata": {
        "colab": {
          "base_uri": "https://localhost:8080/"
        },
        "id": "w08wqkqpxsRg",
        "outputId": "71912568-5316-47d1-e382-d7373aa1271c"
      },
      "execution_count": 1,
      "outputs": [
        {
          "output_type": "stream",
          "name": "stdout",
          "text": [
            "Requirement already satisfied: wandb in /usr/local/lib/python3.11/dist-packages (0.19.6)\n",
            "Requirement already satisfied: click!=8.0.0,>=7.1 in /usr/local/lib/python3.11/dist-packages (from wandb) (8.1.8)\n",
            "Requirement already satisfied: docker-pycreds>=0.4.0 in /usr/local/lib/python3.11/dist-packages (from wandb) (0.4.0)\n",
            "Requirement already satisfied: gitpython!=3.1.29,>=1.0.0 in /usr/local/lib/python3.11/dist-packages (from wandb) (3.1.44)\n",
            "Requirement already satisfied: platformdirs in /usr/local/lib/python3.11/dist-packages (from wandb) (4.3.6)\n",
            "Requirement already satisfied: protobuf!=4.21.0,!=5.28.0,<6,>=3.19.0 in /usr/local/lib/python3.11/dist-packages (from wandb) (4.25.6)\n",
            "Requirement already satisfied: psutil>=5.0.0 in /usr/local/lib/python3.11/dist-packages (from wandb) (5.9.5)\n",
            "Requirement already satisfied: pydantic<3,>=2.6 in /usr/local/lib/python3.11/dist-packages (from wandb) (2.10.6)\n",
            "Requirement already satisfied: pyyaml in /usr/local/lib/python3.11/dist-packages (from wandb) (6.0.2)\n",
            "Requirement already satisfied: requests<3,>=2.0.0 in /usr/local/lib/python3.11/dist-packages (from wandb) (2.32.3)\n",
            "Requirement already satisfied: sentry-sdk>=2.0.0 in /usr/local/lib/python3.11/dist-packages (from wandb) (2.22.0)\n",
            "Requirement already satisfied: setproctitle in /usr/local/lib/python3.11/dist-packages (from wandb) (1.3.4)\n",
            "Requirement already satisfied: setuptools in /usr/local/lib/python3.11/dist-packages (from wandb) (75.1.0)\n",
            "Requirement already satisfied: typing-extensions<5,>=4.4 in /usr/local/lib/python3.11/dist-packages (from wandb) (4.12.2)\n",
            "Requirement already satisfied: six>=1.4.0 in /usr/local/lib/python3.11/dist-packages (from docker-pycreds>=0.4.0->wandb) (1.17.0)\n",
            "Requirement already satisfied: gitdb<5,>=4.0.1 in /usr/local/lib/python3.11/dist-packages (from gitpython!=3.1.29,>=1.0.0->wandb) (4.0.12)\n",
            "Requirement already satisfied: annotated-types>=0.6.0 in /usr/local/lib/python3.11/dist-packages (from pydantic<3,>=2.6->wandb) (0.7.0)\n",
            "Requirement already satisfied: pydantic-core==2.27.2 in /usr/local/lib/python3.11/dist-packages (from pydantic<3,>=2.6->wandb) (2.27.2)\n",
            "Requirement already satisfied: charset-normalizer<4,>=2 in /usr/local/lib/python3.11/dist-packages (from requests<3,>=2.0.0->wandb) (3.4.1)\n",
            "Requirement already satisfied: idna<4,>=2.5 in /usr/local/lib/python3.11/dist-packages (from requests<3,>=2.0.0->wandb) (3.10)\n",
            "Requirement already satisfied: urllib3<3,>=1.21.1 in /usr/local/lib/python3.11/dist-packages (from requests<3,>=2.0.0->wandb) (2.3.0)\n",
            "Requirement already satisfied: certifi>=2017.4.17 in /usr/local/lib/python3.11/dist-packages (from requests<3,>=2.0.0->wandb) (2025.1.31)\n",
            "Requirement already satisfied: smmap<6,>=3.0.1 in /usr/local/lib/python3.11/dist-packages (from gitdb<5,>=4.0.1->gitpython!=3.1.29,>=1.0.0->wandb) (5.0.2)\n",
            "\u001b[34m\u001b[1mwandb\u001b[0m: Logging into wandb.ai. (Learn how to deploy a W&B server locally: https://wandb.me/wandb-server)\n",
            "\u001b[34m\u001b[1mwandb\u001b[0m: You can find your API key in your browser here: https://wandb.ai/authorize\n",
            "\u001b[34m\u001b[1mwandb\u001b[0m: Paste an API key from your profile and hit enter, or press ctrl+c to quit: \n",
            "\u001b[34m\u001b[1mwandb\u001b[0m: Appending key for api.wandb.ai to your netrc file: /root/.netrc\n",
            "\u001b[34m\u001b[1mwandb\u001b[0m: Currently logged in as: \u001b[33mcs24m041\u001b[0m (\u001b[33mcs24m041-iit-madras\u001b[0m) to \u001b[32mhttps://api.wandb.ai\u001b[0m. Use \u001b[1m`wandb login --relogin`\u001b[0m to force relogin\n"
          ]
        }
      ]
    },
    {
      "cell_type": "code",
      "execution_count": 2,
      "metadata": {
        "id": "bjP80yJTvBUI"
      },
      "outputs": [],
      "source": [
        "import wandb\n",
        "import matplotlib.pyplot as plt\n",
        "from keras.datasets import fashion_mnist\n",
        "import numpy as np\n",
        "np.random.seed(42)"
      ]
    },
    {
      "cell_type": "markdown",
      "source": [
        "## Question 1\n",
        "Plot fasion-mnist dataset\n"
      ],
      "metadata": {
        "id": "YtUM2IAmytUJ"
      }
    },
    {
      "cell_type": "code",
      "source": [
        "wandb.init(project=\"CS6401\")\n",
        "(train_images, train_labels), (test_images, test_labels) = fashion_mnist.load_data()"
      ],
      "metadata": {
        "colab": {
          "base_uri": "https://localhost:8080/",
          "height": 300
        },
        "id": "9kBr5UEoyzzM",
        "outputId": "0871db1d-3412-41a8-944f-2ca5c59a2ade"
      },
      "execution_count": null,
      "outputs": [
        {
          "output_type": "stream",
          "name": "stderr",
          "text": [
            "\u001b[34m\u001b[1mwandb\u001b[0m: Currently logged in as: \u001b[33mcs24m041\u001b[0m (\u001b[33mcs24m041-iit-madras\u001b[0m) to \u001b[32mhttps://api.wandb.ai\u001b[0m. Use \u001b[1m`wandb login --relogin`\u001b[0m to force relogin\n",
            "\u001b[34m\u001b[1mwandb\u001b[0m: Using wandb-core as the SDK backend.  Please refer to https://wandb.me/wandb-core for more information.\n"
          ]
        },
        {
          "output_type": "display_data",
          "data": {
            "text/plain": [
              "<IPython.core.display.HTML object>"
            ],
            "text/html": [
              "Tracking run with wandb version 0.19.6"
            ]
          },
          "metadata": {}
        },
        {
          "output_type": "display_data",
          "data": {
            "text/plain": [
              "<IPython.core.display.HTML object>"
            ],
            "text/html": [
              "Run data is saved locally in <code>/content/wandb/run-20250222_035955-ccteo8uo</code>"
            ]
          },
          "metadata": {}
        },
        {
          "output_type": "display_data",
          "data": {
            "text/plain": [
              "<IPython.core.display.HTML object>"
            ],
            "text/html": [
              "Syncing run <strong><a href='https://wandb.ai/cs24m041-iit-madras/CS6401/runs/ccteo8uo' target=\"_blank\">ruby-sound-1</a></strong> to <a href='https://wandb.ai/cs24m041-iit-madras/CS6401' target=\"_blank\">Weights & Biases</a> (<a href='https://wandb.me/developer-guide' target=\"_blank\">docs</a>)<br>"
            ]
          },
          "metadata": {}
        },
        {
          "output_type": "display_data",
          "data": {
            "text/plain": [
              "<IPython.core.display.HTML object>"
            ],
            "text/html": [
              " View project at <a href='https://wandb.ai/cs24m041-iit-madras/CS6401' target=\"_blank\">https://wandb.ai/cs24m041-iit-madras/CS6401</a>"
            ]
          },
          "metadata": {}
        },
        {
          "output_type": "display_data",
          "data": {
            "text/plain": [
              "<IPython.core.display.HTML object>"
            ],
            "text/html": [
              " View run at <a href='https://wandb.ai/cs24m041-iit-madras/CS6401/runs/ccteo8uo' target=\"_blank\">https://wandb.ai/cs24m041-iit-madras/CS6401/runs/ccteo8uo</a>"
            ]
          },
          "metadata": {}
        },
        {
          "output_type": "stream",
          "name": "stdout",
          "text": [
            "Downloading data from https://storage.googleapis.com/tensorflow/tf-keras-datasets/train-labels-idx1-ubyte.gz\n",
            "\u001b[1m29515/29515\u001b[0m \u001b[32m━━━━━━━━━━━━━━━━━━━━\u001b[0m\u001b[37m\u001b[0m \u001b[1m0s\u001b[0m 0us/step\n",
            "Downloading data from https://storage.googleapis.com/tensorflow/tf-keras-datasets/train-images-idx3-ubyte.gz\n",
            "\u001b[1m26421880/26421880\u001b[0m \u001b[32m━━━━━━━━━━━━━━━━━━━━\u001b[0m\u001b[37m\u001b[0m \u001b[1m0s\u001b[0m 0us/step\n",
            "Downloading data from https://storage.googleapis.com/tensorflow/tf-keras-datasets/t10k-labels-idx1-ubyte.gz\n",
            "\u001b[1m5148/5148\u001b[0m \u001b[32m━━━━━━━━━━━━━━━━━━━━\u001b[0m\u001b[37m\u001b[0m \u001b[1m0s\u001b[0m 0us/step\n",
            "Downloading data from https://storage.googleapis.com/tensorflow/tf-keras-datasets/t10k-images-idx3-ubyte.gz\n",
            "\u001b[1m4422102/4422102\u001b[0m \u001b[32m━━━━━━━━━━━━━━━━━━━━\u001b[0m\u001b[37m\u001b[0m \u001b[1m0s\u001b[0m 0us/step\n"
          ]
        }
      ]
    },
    {
      "cell_type": "code",
      "source": [
        "train_labels"
      ],
      "metadata": {
        "colab": {
          "base_uri": "https://localhost:8080/"
        },
        "id": "7vFkebcQz8-X",
        "outputId": "64dae65b-445b-42f2-d07f-e57535ac796d"
      },
      "execution_count": null,
      "outputs": [
        {
          "output_type": "execute_result",
          "data": {
            "text/plain": [
              "array([9, 0, 0, ..., 3, 0, 5], dtype=uint8)"
            ]
          },
          "metadata": {},
          "execution_count": 5
        }
      ]
    },
    {
      "cell_type": "code",
      "source": [
        "import wandb\n",
        "import matplotlib.pyplot as plt\n",
        "import numpy as np\n",
        "from keras.datasets import fashion_mnist\n",
        "run=wandb.init(project=\"fmnist\")\n",
        "(train_images, train_labels), _ = fashion_mnist.load_data()\n",
        "class_names = ['T-shirt/top', 'Trouser', 'Pullover', 'Dress', 'Coat',\n",
        "               'Sandal', 'Shirt', 'Sneaker', 'Bag', 'Ankle boot']\n",
        "\n",
        "sample_images = {}\n",
        "for label in range(10):\n",
        "    idx = np.where(train_labels == label)[0][0]\n",
        "    sample_images[label] = train_images[idx]\n",
        "\n",
        "list_log = []\n",
        "for label in sorted(sample_images.keys()):\n",
        "    caption = class_names[label]\n",
        "    im = sample_images[label]\n",
        "    list_log.append(wandb.Image(im, caption=caption))\n",
        "wandb.log({\"fasion mnist each class samples\": list_log})\n",
        "\n",
        "wandb.finish()\n"
      ],
      "metadata": {
        "colab": {
          "base_uri": "https://localhost:8080/",
          "height": 177
        },
        "id": "0NB48sGX0GHX",
        "outputId": "8de00e20-54f3-4b3c-e39b-7cc1ad3e6cfb"
      },
      "execution_count": 26,
      "outputs": [
        {
          "output_type": "display_data",
          "data": {
            "text/plain": [
              "<IPython.core.display.HTML object>"
            ],
            "text/html": [
              "Tracking run with wandb version 0.19.6"
            ]
          },
          "metadata": {}
        },
        {
          "output_type": "display_data",
          "data": {
            "text/plain": [
              "<IPython.core.display.HTML object>"
            ],
            "text/html": [
              "Run data is saved locally in <code>/content/wandb/run-20250224_125501-lyyskqqp</code>"
            ]
          },
          "metadata": {}
        },
        {
          "output_type": "display_data",
          "data": {
            "text/plain": [
              "<IPython.core.display.HTML object>"
            ],
            "text/html": [
              "Syncing run <strong><a href='https://wandb.ai/cs24m041-iit-madras/fmnist/runs/lyyskqqp' target=\"_blank\">dashing-blaze-2</a></strong> to <a href='https://wandb.ai/cs24m041-iit-madras/fmnist' target=\"_blank\">Weights & Biases</a> (<a href='https://wandb.me/developer-guide' target=\"_blank\">docs</a>)<br>"
            ]
          },
          "metadata": {}
        },
        {
          "output_type": "display_data",
          "data": {
            "text/plain": [
              "<IPython.core.display.HTML object>"
            ],
            "text/html": [
              " View project at <a href='https://wandb.ai/cs24m041-iit-madras/fmnist' target=\"_blank\">https://wandb.ai/cs24m041-iit-madras/fmnist</a>"
            ]
          },
          "metadata": {}
        },
        {
          "output_type": "display_data",
          "data": {
            "text/plain": [
              "<IPython.core.display.HTML object>"
            ],
            "text/html": [
              " View run at <a href='https://wandb.ai/cs24m041-iit-madras/fmnist/runs/lyyskqqp' target=\"_blank\">https://wandb.ai/cs24m041-iit-madras/fmnist/runs/lyyskqqp</a>"
            ]
          },
          "metadata": {}
        },
        {
          "output_type": "display_data",
          "data": {
            "text/plain": [
              "<IPython.core.display.HTML object>"
            ],
            "text/html": []
          },
          "metadata": {}
        },
        {
          "output_type": "display_data",
          "data": {
            "text/plain": [
              "<IPython.core.display.HTML object>"
            ],
            "text/html": [
              " View run <strong style=\"color:#cdcd00\">dashing-blaze-2</strong> at: <a href='https://wandb.ai/cs24m041-iit-madras/fmnist/runs/lyyskqqp' target=\"_blank\">https://wandb.ai/cs24m041-iit-madras/fmnist/runs/lyyskqqp</a><br> View project at: <a href='https://wandb.ai/cs24m041-iit-madras/fmnist' target=\"_blank\">https://wandb.ai/cs24m041-iit-madras/fmnist</a><br>Synced 5 W&B file(s), 10 media file(s), 0 artifact file(s) and 0 other file(s)"
            ]
          },
          "metadata": {}
        },
        {
          "output_type": "display_data",
          "data": {
            "text/plain": [
              "<IPython.core.display.HTML object>"
            ],
            "text/html": [
              "Find logs at: <code>./wandb/run-20250224_125501-lyyskqqp/logs</code>"
            ]
          },
          "metadata": {}
        }
      ]
    },
    {
      "cell_type": "markdown",
      "source": [
        "## Question 2\n",
        "Impliment feedforward neural network"
      ],
      "metadata": {
        "id": "YV49Jkl63SAC"
      }
    },
    {
      "cell_type": "markdown",
      "source": [
        "#### Actvation functions"
      ],
      "metadata": {
        "id": "tZI23ywT7rgT"
      }
    },
    {
      "cell_type": "code",
      "source": [
        "from abc import abstractmethod\n",
        "class ActivationFn:\n",
        "  @abstractmethod\n",
        "  def forward(self,X):\n",
        "      pass\n",
        "  @abstractmethod\n",
        "  def grad(self,X):\n",
        "      pass\n",
        "class Sigmoid(ActivationFn):\n",
        "  def forward(self, X):\n",
        "      return 1/(1 + np.exp(-X))\n",
        "  def grad(self,X):\n",
        "      forward_x = self.forward(X)\n",
        "      return forward_x*(1 - forward_x)\n",
        "class Tanh(ActivationFn):\n",
        "  def forward(self,X):\n",
        "    return np.tanh(X)\n",
        "  def grad(self,X):\n",
        "    return 1-self.forward(X)**2\n",
        "class ReLU(ActivationFn):\n",
        "  def forward(self,X):\n",
        "    return np.maximum(0,X)\n",
        "  def grad(self,X):\n",
        "    return np.where(X > 0, 1, 0)\n",
        "class Softmax(ActivationFn):\n",
        "  def forward(self,X):\n",
        "    X=X-np.max(X,axis=1,keepdims=True)\n",
        "    # print(np.sum(X))\n",
        "    exps=np.exp(X)\n",
        "    return exps/np.sum(exps,axis=1,keepdims=True)\n",
        "  def grad():\n",
        "    pass\n",
        "class Linear(ActivationFn):\n",
        "  def forward(self,X):\n",
        "    return X\n",
        "  def grad():\n",
        "    return 1"
      ],
      "metadata": {
        "id": "68hmN7R_-cuv"
      },
      "execution_count": 3,
      "outputs": []
    },
    {
      "cell_type": "code",
      "source": [],
      "metadata": {
        "id": "LKtcqjZ7R91b"
      },
      "execution_count": 2,
      "outputs": []
    },
    {
      "cell_type": "markdown",
      "source": [
        "#### Loss functions"
      ],
      "metadata": {
        "id": "z91LzAQRIqWh"
      }
    },
    {
      "cell_type": "code",
      "source": [
        "def MSE(prediction,actual):\n",
        "  assert prediction.shape==actual.shape, \"Shapes of prediction and actual must be the same\"\n",
        "  diff=prediction-actual\n",
        "  sqr=diff**2\n",
        "  return np.mean(sqr)\n",
        "# def CrossEntropy(prediction,actual):\n",
        "#   return -np.sum(actual*np.log(prediction)+1e-8,axis=1)\n",
        "#   # return -np.log(prediction[np.arange(len(prediction)), np.argmax(actual, axis=1)])\n",
        "\n",
        "def CrossEntropy(prediction, actual):\n",
        "    # Clip predictions to avoid log(0)\n",
        "    prediction = np.clip(prediction, 1e-15, 1.0)\n",
        "    return -np.sum(actual * np.log(prediction), axis=1)"
      ],
      "metadata": {
        "id": "Jvj_N6QlIxma"
      },
      "execution_count": 4,
      "outputs": []
    },
    {
      "cell_type": "code",
      "source": [
        "def one_hot_encode(labels, num_classes):\n",
        "    return np.eye(num_classes)[labels]"
      ],
      "metadata": {
        "id": "MPVIcY6F5v8N"
      },
      "execution_count": 5,
      "outputs": []
    },
    {
      "cell_type": "code",
      "source": [
        "def accuracy(y_true,y_pred):\n",
        "  y_pred=np.argmax(y_pred,axis=1)\n",
        "  return np.mean(y_pred==y_true)"
      ],
      "metadata": {
        "id": "c089kRuYyeKN"
      },
      "execution_count": 6,
      "outputs": []
    },
    {
      "cell_type": "markdown",
      "source": [
        "#### Layer"
      ],
      "metadata": {
        "id": "klFmzTvp-70o"
      }
    },
    {
      "cell_type": "code",
      "source": [
        "class fc_layer:\n",
        "  def __init__(self,n_inputs,n_output,activation_fn:ActivationFn=Sigmoid(),initialization=\"random\"):\n",
        "    if initialization==\"Xavier\":\n",
        "      pass\n",
        "    else:\n",
        "      self.weights=np.random.randn(n_inputs, n_output)*0.1\n",
        "      self.bias=np.random.randn(1, n_output)\n",
        "    self.grad_w=np.zeros_like(self.weights)\n",
        "    self.grad_b=np.zeros_like(self.bias)\n",
        "    self.u_w=np.zeros_like(self.weights)\n",
        "    self.u_b=np.zeros_like(self.bias)\n",
        "    self.activation_fn=activation_fn\n",
        "  def forward_pass(self, h_prev):\n",
        "    self.h_prev=h_prev\n",
        "    self.a_layer=np.dot(h_prev,self.weights)+self.bias\n",
        "    self.h_this=self.activation_fn.forward(self.a_layer)\n",
        "    return self.h_this\n",
        "  def zeroGrad(self):\n",
        "    self.grad_w=np.zeros_like(self.weights)\n",
        "    self.grad_b=np.zeros_like(self.bias)"
      ],
      "metadata": {
        "id": "IT1pKvU5-_Lg"
      },
      "execution_count": 7,
      "outputs": []
    },
    {
      "cell_type": "markdown",
      "source": [
        "#### Network"
      ],
      "metadata": {
        "id": "BfS4zQTQutNJ"
      }
    },
    {
      "cell_type": "code",
      "source": [
        "class Network:\n",
        "  def __init__(self):\n",
        "    self.layers=[]\n",
        "  def append_layer(self,layer:fc_layer):\n",
        "    self.layers.append(layer)\n",
        "  def forward_pass_network(self,X):\n",
        "    self.input=X\n",
        "    temp=X\n",
        "    # print(temp.shape)\n",
        "    for layer in self.layers:\n",
        "        temp=layer.forward_pass(temp)\n",
        "    self.output=temp\n",
        "    return self.output\n",
        "  def calculate_grad(self,Y_hat,Y_true):\n",
        "    batch_size=Y_true.shape[0]\n",
        "    grad_aL=-(Y_true-Y_hat)/batch_size\n",
        "    grad_ak=grad_aL\n",
        "    for k in reversed(range(len(self.layers))):\n",
        "        layer=self.layers[k]\n",
        "        if k==0:\n",
        "            h_prev=self.input\n",
        "        else:\n",
        "            h_prev=self.layers[k-1].h_this\n",
        "        layer.grad_w=np.dot(h_prev.T,grad_ak)\n",
        "        layer.grad_b=np.sum(grad_ak,axis=0,keepdims=True)\n",
        "        if k > 0:\n",
        "            grad_h=np.dot(grad_ak, layer.weights.T)\n",
        "            prev_layer=self.layers[k-1]\n",
        "            grad_ak=grad_h*prev_layer.activation_fn.grad(prev_layer.a_layer)\n",
        "  def zero_grad(self):\n",
        "    for layer in self.layers:\n",
        "        layer.zeroGrad()"
      ],
      "metadata": {
        "id": "KIDEK_OyBpEQ"
      },
      "execution_count": 8,
      "outputs": []
    },
    {
      "cell_type": "code",
      "source": [
        "np.random.seed(1)\n",
        "nn=Network()\n",
        "fc_layer1=fc_layer(n_inputs=2,n_output=3)\n",
        "fc_layer2=fc_layer(n_inputs=3,n_output=2,activation_fn=Softmax())\n",
        "nn.append_layer(fc_layer1)\n",
        "nn.append_layer(fc_layer2)\n",
        "X=np.array([[1,2],[3,4],[5,6]])\n",
        "print(X.shape)\n",
        "Y=nn.forward_pass_network(X)\n",
        "print(Y)"
      ],
      "metadata": {
        "colab": {
          "base_uri": "https://localhost:8080/"
        },
        "id": "ob1i4ya5C43O",
        "outputId": "77a55f45-87a5-45fe-b49b-4cfdd39fae63"
      },
      "execution_count": 8,
      "outputs": [
        {
          "output_type": "stream",
          "name": "stdout",
          "text": [
            "(3, 2)\n",
            "[[0.23144163 0.76855837]\n",
            " [0.23426373 0.76573627]\n",
            " [0.23647384 0.76352616]]\n"
          ]
        }
      ]
    },
    {
      "cell_type": "code",
      "source": [
        "CrossEntropy(Y,np.array([[1,0],[0,1],[0,1]]))"
      ],
      "metadata": {
        "colab": {
          "base_uri": "https://localhost:8080/"
        },
        "id": "XLAKxvAcO5Lj",
        "outputId": "3d5e02da-5b76-42f3-bc22-a678227910cb"
      },
      "execution_count": null,
      "outputs": [
        {
          "output_type": "execute_result",
          "data": {
            "text/plain": [
              "array([3.3214944 , 0.02419299, 0.01866977])"
            ]
          },
          "metadata": {},
          "execution_count": 8
        }
      ]
    },
    {
      "cell_type": "markdown",
      "source": [
        "## Question 3\n",
        "Impliment backprop"
      ],
      "metadata": {
        "id": "-xDfSkh10hN2"
      }
    },
    {
      "cell_type": "code",
      "source": [
        "def train_loop(X,Y,max_iter:int,model:Network,batch_size:int=None,beta=0.0,loss_fn=CrossEntropy,eta=0.01,print_iter=10,grad_algo=None,gd_type=None):\n",
        "    n_samples=X.shape[0]\n",
        "    if batch_size is None:\n",
        "      batch_size=n_samples\n",
        "    elif gd_type==\"SGD\":\n",
        "      batch_size=1\n",
        "    for epoch in range(max_iter):\n",
        "      permutation=np.random.permutation(n_samples)\n",
        "      X_shuffled=X[permutation]\n",
        "      Y_shuffled=Y[permutation]\n",
        "      epoch_loss=0\n",
        "      num_batches=0\n",
        "\n",
        "      for i in range(0, n_samples, batch_size):\n",
        "        batch_end=min(i + batch_size, n_samples)\n",
        "        X_batch=X_shuffled[i:batch_end]\n",
        "        Y_batch=Y_shuffled[i:batch_end]\n",
        "        if grad_algo==None:\n",
        "          batch_loss=vanilla_gradient_descent(X_batch,Y_batch,model,loss_fn,beta,eta)\n",
        "        elif grad_algo==\"momentum\":\n",
        "          batch_loss=momentum_based_gradient_descent(X_batch,Y_batch,model,loss_fn,beta,eta)\n",
        "        elif grad_algo==\"nesterov\":\n",
        "          batch_loss=nestrov_accelerated_gradient_descent(X_batch,Y_batch,model,loss_fn,beta,eta)\n",
        "        num_batches += 1\n",
        "        epoch_loss+=batch_loss\n",
        "\n",
        "      epoch_loss/=num_batches\n",
        "      if epoch%print_iter==0:\n",
        "          print(f\"Epoch {epoch}: Loss = {epoch_loss:.4f}\")\n",
        "\n",
        "def vanilla_gradient_descent(X_batch,Y_batch,model:Network,loss_fn,beta,eta):\n",
        "  model.zero_grad()\n",
        "  Y_hat=model.forward_pass_network(X_batch)\n",
        "  batch_loss_vec=loss_fn(Y_hat,Y_batch)\n",
        "  batch_loss=np.mean(batch_loss_vec)\n",
        "  model.calculate_grad(Y_hat,Y_batch)\n",
        "  for layer in model.layers:\n",
        "    layer.u_w=beta*layer.u_w+eta*layer.grad_w\n",
        "    layer.u_b=beta*layer.u_b+eta*layer.grad_b\n",
        "    layer.weights-=layer.u_w\n",
        "    layer.bias-=layer.u_b\n",
        "  return batch_loss"
      ],
      "metadata": {
        "id": "XHP4emhNQcDS"
      },
      "execution_count": 9,
      "outputs": []
    },
    {
      "cell_type": "code",
      "source": [
        "# Create a dummy dataset for classification\n",
        "n_samples = 100    # number of samples\n",
        "n_features = 4       # input features\n",
        "n_outputs = 3        # number of classes\n",
        "\n",
        "X = np.random.randn(n_samples, n_features)\n",
        "\n",
        "# Generate dummy one-hot encoded labels:\n",
        "Y_indices = np.random.randint(0, n_outputs, size=n_samples)\n",
        "Y = np.zeros((n_samples, n_outputs))\n",
        "Y[np.arange(n_samples), Y_indices] = 1\n",
        "# Build the network:\n",
        "net = Network()\n",
        "net.append_layer(fc_layer(n_inputs=n_features, n_output=5, activation_fn=Sigmoid()))\n",
        "net.append_layer(fc_layer(n_inputs=5, n_output=n_outputs, activation_fn=Softmax()))\n",
        "\n",
        "# Train using gradient descent with momentum:\n",
        "train_loop(X, Y, max_iter=10, model=net,  loss_fn=CrossEntropy, eta=0.01)\n",
        "print(X.shape,Y.shape)\n"
      ],
      "metadata": {
        "colab": {
          "base_uri": "https://localhost:8080/"
        },
        "id": "GGPtv6gKUy_D",
        "outputId": "272cd94f-cc7f-4da6-fefd-c75f7d7110aa"
      },
      "execution_count": null,
      "outputs": [
        {
          "output_type": "stream",
          "name": "stdout",
          "text": [
            "Epoch 0: Loss = 1.3191\n",
            "(100, 4) (100, 3)\n"
          ]
        }
      ]
    },
    {
      "cell_type": "markdown",
      "source": [
        "#### Fasion Mnist"
      ],
      "metadata": {
        "id": "a2hSEkoKwxqn"
      }
    },
    {
      "cell_type": "code",
      "source": [],
      "metadata": {
        "colab": {
          "base_uri": "https://localhost:8080/"
        },
        "id": "O67DOumww0dW",
        "outputId": "523e33c7-2bb6-41a8-b833-bc6fd041c0c3"
      },
      "execution_count": null,
      "outputs": [
        {
          "output_type": "stream",
          "name": "stdout",
          "text": [
            "Downloading data from https://storage.googleapis.com/tensorflow/tf-keras-datasets/train-labels-idx1-ubyte.gz\n",
            "\u001b[1m29515/29515\u001b[0m \u001b[32m━━━━━━━━━━━━━━━━━━━━\u001b[0m\u001b[37m\u001b[0m \u001b[1m0s\u001b[0m 0us/step\n",
            "Downloading data from https://storage.googleapis.com/tensorflow/tf-keras-datasets/train-images-idx3-ubyte.gz\n",
            "\u001b[1m26421880/26421880\u001b[0m \u001b[32m━━━━━━━━━━━━━━━━━━━━\u001b[0m\u001b[37m\u001b[0m \u001b[1m0s\u001b[0m 0us/step\n",
            "Downloading data from https://storage.googleapis.com/tensorflow/tf-keras-datasets/t10k-labels-idx1-ubyte.gz\n",
            "\u001b[1m5148/5148\u001b[0m \u001b[32m━━━━━━━━━━━━━━━━━━━━\u001b[0m\u001b[37m\u001b[0m \u001b[1m0s\u001b[0m 0us/step\n",
            "Downloading data from https://storage.googleapis.com/tensorflow/tf-keras-datasets/t10k-images-idx3-ubyte.gz\n",
            "\u001b[1m4422102/4422102\u001b[0m \u001b[32m━━━━━━━━━━━━━━━━━━━━\u001b[0m\u001b[37m\u001b[0m \u001b[1m0s\u001b[0m 0us/step\n"
          ]
        },
        {
          "output_type": "execute_result",
          "data": {
            "text/plain": [
              "(60000, 28, 28)"
            ]
          },
          "metadata": {},
          "execution_count": 13
        }
      ]
    },
    {
      "cell_type": "code",
      "source": [],
      "metadata": {
        "colab": {
          "base_uri": "https://localhost:8080/"
        },
        "id": "LtDuk6Mvw2px",
        "outputId": "8d2bb3c9-2591-4f7d-f5c3-6530a102641d"
      },
      "execution_count": null,
      "outputs": [
        {
          "output_type": "execute_result",
          "data": {
            "text/plain": [
              "((60000, 784), (10000, 784), (60000,), (10000,), 10)"
            ]
          },
          "metadata": {},
          "execution_count": 14
        }
      ]
    },
    {
      "cell_type": "code",
      "source": [],
      "metadata": {
        "id": "uau5F4Jjw4SA"
      },
      "execution_count": null,
      "outputs": []
    },
    {
      "cell_type": "code",
      "source": [],
      "metadata": {
        "colab": {
          "base_uri": "https://localhost:8080/"
        },
        "id": "6fANNvDHw4kU",
        "outputId": "da3fc966-8a48-4cd1-c767-da8d8c778522"
      },
      "execution_count": null,
      "outputs": [
        {
          "output_type": "stream",
          "name": "stderr",
          "text": [
            "<ipython-input-2-20d5c034241c>:11: RuntimeWarning: overflow encountered in exp\n",
            "  return 1/(1 + np.exp(-X))\n"
          ]
        },
        {
          "output_type": "stream",
          "name": "stdout",
          "text": [
            "Epoch 0: Loss = 2.6389\n",
            "Epoch 10: Loss = 2.3533\n",
            "Epoch 20: Loss = 2.3101\n",
            "Epoch 30: Loss = 2.3032\n",
            "Epoch 40: Loss = 2.3021\n",
            "Epoch 50: Loss = 2.3018\n",
            "Epoch 60: Loss = 2.3016\n",
            "Epoch 70: Loss = 2.3014\n",
            "Epoch 80: Loss = 2.3013\n",
            "Epoch 90: Loss = 2.3011\n"
          ]
        }
      ]
    },
    {
      "cell_type": "code",
      "source": [],
      "metadata": {
        "id": "__ymZHnryeHd",
        "colab": {
          "base_uri": "https://localhost:8080/"
        },
        "outputId": "34dc7b2e-2e8a-400c-b649-cf1b10e6e8e1"
      },
      "execution_count": null,
      "outputs": [
        {
          "output_type": "stream",
          "name": "stderr",
          "text": [
            "<ipython-input-2-20d5c034241c>:11: RuntimeWarning: overflow encountered in exp\n",
            "  return 1/(1 + np.exp(-X))\n"
          ]
        },
        {
          "output_type": "execute_result",
          "data": {
            "text/plain": [
              "0.21468333333333334"
            ]
          },
          "metadata": {},
          "execution_count": 62
        }
      ]
    },
    {
      "cell_type": "code",
      "source": [],
      "metadata": {
        "id": "bvQT8_ILyeE3"
      },
      "execution_count": null,
      "outputs": []
    },
    {
      "cell_type": "code",
      "source": [],
      "metadata": {
        "id": "axZvG-qwyeC1"
      },
      "execution_count": null,
      "outputs": []
    },
    {
      "cell_type": "code",
      "source": [],
      "metadata": {
        "id": "YSAnNZKTyeBn"
      },
      "execution_count": null,
      "outputs": []
    },
    {
      "cell_type": "code",
      "source": [],
      "metadata": {
        "id": "BTzA5tijyd9F"
      },
      "execution_count": null,
      "outputs": []
    },
    {
      "cell_type": "markdown",
      "source": [
        "### Gradient Descent"
      ],
      "metadata": {
        "id": "C-Pvx_Ap3FFe"
      }
    },
    {
      "cell_type": "markdown",
      "source": [
        "### Stochastic Gradient descent"
      ],
      "metadata": {
        "id": "_1qPJh6x3Ic8"
      }
    },
    {
      "cell_type": "code",
      "source": [],
      "metadata": {
        "id": "7WaihuCPP13Y"
      },
      "execution_count": null,
      "outputs": []
    },
    {
      "cell_type": "code",
      "source": [
        "\n",
        "# Build the network:\n",
        "net = Network()\n",
        "net.append_layer(fc_layer(n_inputs=n_features, n_output=5, activation_fn=Sigmoid()))\n",
        "net.append_layer(fc_layer(n_inputs=5, n_output=n_outputs, activation_fn=Softmax()))\n",
        "\n",
        "\n",
        "# SGD\n",
        "train_loop(X, Y, max_iter=10, model=net,  loss_fn=CrossEntropy, eta=0.01,gd_type=\"SGD\")\n",
        "\n"
      ],
      "metadata": {
        "colab": {
          "base_uri": "https://localhost:8080/"
        },
        "id": "anR9oYpEoDsK",
        "outputId": "446e4c74-cbb7-45c5-db88-bf218fced800"
      },
      "execution_count": null,
      "outputs": [
        {
          "output_type": "stream",
          "name": "stdout",
          "text": [
            "Epoch 0: Loss = 1.3723\n"
          ]
        }
      ]
    },
    {
      "cell_type": "markdown",
      "source": [
        "### Moementum based Gradient descent"
      ],
      "metadata": {
        "id": "zgyf4eS03Zj7"
      }
    },
    {
      "cell_type": "code",
      "source": [
        "def momentum_based_gradient_descent(X_batch,Y_batch,model:Network,loss_fn,beta,eta):\n",
        "  return vanilla_gradient_descent(X_batch,Y_batch,model,loss_fn,beta,eta)"
      ],
      "metadata": {
        "id": "zAhA9LsgQPYs"
      },
      "execution_count": 10,
      "outputs": []
    },
    {
      "cell_type": "code",
      "source": [
        "\n",
        "net = Network()\n",
        "net.append_layer(fc_layer(n_inputs=n_features, n_output=5, activation_fn=Sigmoid()))\n",
        "net.append_layer(fc_layer(n_inputs=5, n_output=n_outputs, activation_fn=Softmax()))\n",
        "\n",
        "\n",
        "# Train using gradient descent with momentum:\n",
        "train_loop(X, Y, max_iter=100, model=net,  loss_fn=CrossEntropy, eta=0.01,beta=0.8,grad_algo=\"momentum\")\n",
        "\n"
      ],
      "metadata": {
        "colab": {
          "base_uri": "https://localhost:8080/"
        },
        "id": "CQdSr0vsocVz",
        "outputId": "4f4c6713-eea7-4816-f16e-85b89737427b"
      },
      "execution_count": null,
      "outputs": [
        {
          "output_type": "stream",
          "name": "stdout",
          "text": [
            "Epoch 0: Loss = 1.3796\n",
            "Epoch 10: Loss = 1.2808\n",
            "Epoch 20: Loss = 1.1870\n",
            "Epoch 30: Loss = 1.1367\n",
            "Epoch 40: Loss = 1.1127\n",
            "Epoch 50: Loss = 1.1020\n",
            "Epoch 60: Loss = 1.0975\n",
            "Epoch 70: Loss = 1.0956\n",
            "Epoch 80: Loss = 1.0948\n",
            "Epoch 90: Loss = 1.0944\n"
          ]
        }
      ]
    },
    {
      "cell_type": "markdown",
      "source": [
        "### Nestrov accelerated gradient descent"
      ],
      "metadata": {
        "id": "YLj6nXRd3e0L"
      }
    },
    {
      "cell_type": "code",
      "source": [
        "# def nestrov_accelerated_gradient_descent(X,Y,max_iter:int,model:Network,batch_size:int=None,beta=0.0,loss_fn=CrossEntropy,eta=0.01):\n",
        "#     n_samples=X.shape[0]\n",
        "#     if batch_size is None:\n",
        "#       batch_size=n_samples\n",
        "#     for epoch in range(max_iter):\n",
        "#       permutation=np.random.permutation(n_samples)\n",
        "#       X_shuffled=X[permutation]\n",
        "#       Y_shuffled=Y[permutation]\n",
        "#       epoch_loss=0\n",
        "#       num_batches=0\n",
        "#       for i in range(0, n_samples, batch_size):\n",
        "#         batch_end=min(i + batch_size, n_samples)\n",
        "#         X_batch=X_shuffled[i:batch_end]\n",
        "#         Y_batch=Y_shuffled[i:batch_end]\n",
        "#         batch_loss=nestrov_accelerated_gradient_descent(X_batch,Y_batch,model:Network,loss_fn,beta,eta)\n",
        "#       epoch_loss/=num_batches\n",
        "#       if epoch%100==0:\n",
        "#           print(f\"Epoch {epoch}: Loss = {epoch_loss:.4f}\")\n",
        "def nestrov_accelerated_gradient_descent(X_batch,Y_batch,model:Network,loss_fn,beta,eta):\n",
        "    model.zero_grad()\n",
        "    for layer in model.layers:\n",
        "      layer.weights-=beta*layer.u_w\n",
        "      layer.bias-=beta*layer.u_b\n",
        "    Y_hat=model.forward_pass_network(X_batch)\n",
        "    batch_loss_vec=loss_fn(Y_hat,Y_batch)\n",
        "    batch_loss=np.mean(batch_loss_vec)\n",
        "    model.calculate_grad(Y_hat,Y_batch)\n",
        "    for layer in model.layers:\n",
        "      layer.u_w=beta*layer.u_w+eta*layer.grad_w\n",
        "      layer.u_b=beta*layer.u_b+eta*layer.grad_b\n",
        "      layer.weights-=layer.u_w\n",
        "      layer.bias-=layer.u_b\n",
        "    # print(batch_loss)\n",
        "    return batch_loss"
      ],
      "metadata": {
        "id": "HtufCPmjqCcT"
      },
      "execution_count": 11,
      "outputs": []
    },
    {
      "cell_type": "code",
      "source": [
        "\n",
        "net = Network()\n",
        "net.append_layer(fc_layer(n_inputs=n_features, n_output=5, activation_fn=Sigmoid()))\n",
        "net.append_layer(fc_layer(n_inputs=5, n_output=n_outputs, activation_fn=Softmax()))\n",
        "\n",
        "\n",
        "# Train using gradient descent with momentum:\n",
        "train_loop(X, Y, max_iter=10, model=net,  loss_fn=CrossEntropy, eta=0.01,beta=0.8,grad_algo=\"nesterov\")\n",
        "\n"
      ],
      "metadata": {
        "colab": {
          "base_uri": "https://localhost:8080/"
        },
        "id": "1XM10SxUvMn-",
        "outputId": "4f6a34fc-1f65-41d2-95d4-e556ffde34db"
      },
      "execution_count": null,
      "outputs": [
        {
          "output_type": "stream",
          "name": "stdout",
          "text": [
            "Epoch 0: Loss = 1.6038\n"
          ]
        }
      ]
    },
    {
      "cell_type": "markdown",
      "source": [
        "### RMSProp"
      ],
      "metadata": {
        "id": "8AtNwAPu3pUa"
      }
    },
    {
      "cell_type": "markdown",
      "source": [
        "### adam"
      ],
      "metadata": {
        "id": "Z-mtaYlD3tMI"
      }
    },
    {
      "cell_type": "markdown",
      "source": [
        "### nadam"
      ],
      "metadata": {
        "id": "QtoN_afs3up-"
      }
    },
    {
      "cell_type": "markdown",
      "source": [
        "## Question 4\n",
        "Best hyper parameter value"
      ],
      "metadata": {
        "id": "WqO7U8SU3za6"
      }
    },
    {
      "cell_type": "markdown",
      "source": [
        "- number of epochs: 5, 10\n",
        "- number of hidden layers:  3, 4, 5\n",
        "- size of every hidden layer:  32, 64, 128\n",
        "- weight decay (L2 regularisation): 0, 0.0005,  0.5\n",
        "- learning rate: 1e-3, 1 e-4\n",
        "- optimizer:  sgd, momentum, nesterov, rmsprop, adam, nadam\n",
        "- batch size: 16, 32, 64\n",
        "- weight initialisation: random, Xavier\n",
        "- activation functions: sigmoid, tanh, ReLU"
      ],
      "metadata": {
        "id": "BPS-_n9S4bK5"
      }
    },
    {
      "cell_type": "code",
      "source": [],
      "metadata": {
        "id": "inYP7YMpq_fi"
      },
      "execution_count": null,
      "outputs": []
    },
    {
      "cell_type": "code",
      "source": [
        "(x_train, y_train), (x_test, y_test) = fashion_mnist.load_data()\n",
        "x_train.shape"
      ],
      "metadata": {
        "id": "ksOjvhdKQ0wF",
        "outputId": "1a57266d-e2aa-47ea-b42f-63ec5cae41ef",
        "colab": {
          "base_uri": "https://localhost:8080/"
        }
      },
      "execution_count": 12,
      "outputs": [
        {
          "output_type": "stream",
          "name": "stdout",
          "text": [
            "Downloading data from https://storage.googleapis.com/tensorflow/tf-keras-datasets/train-labels-idx1-ubyte.gz\n",
            "\u001b[1m29515/29515\u001b[0m \u001b[32m━━━━━━━━━━━━━━━━━━━━\u001b[0m\u001b[37m\u001b[0m \u001b[1m0s\u001b[0m 0us/step\n",
            "Downloading data from https://storage.googleapis.com/tensorflow/tf-keras-datasets/train-images-idx3-ubyte.gz\n",
            "\u001b[1m26421880/26421880\u001b[0m \u001b[32m━━━━━━━━━━━━━━━━━━━━\u001b[0m\u001b[37m\u001b[0m \u001b[1m0s\u001b[0m 0us/step\n",
            "Downloading data from https://storage.googleapis.com/tensorflow/tf-keras-datasets/t10k-labels-idx1-ubyte.gz\n",
            "\u001b[1m5148/5148\u001b[0m \u001b[32m━━━━━━━━━━━━━━━━━━━━\u001b[0m\u001b[37m\u001b[0m \u001b[1m0s\u001b[0m 0us/step\n",
            "Downloading data from https://storage.googleapis.com/tensorflow/tf-keras-datasets/t10k-images-idx3-ubyte.gz\n",
            "\u001b[1m4422102/4422102\u001b[0m \u001b[32m━━━━━━━━━━━━━━━━━━━━\u001b[0m\u001b[37m\u001b[0m \u001b[1m0s\u001b[0m 0us/step\n"
          ]
        },
        {
          "output_type": "execute_result",
          "data": {
            "text/plain": [
              "(60000, 28, 28)"
            ]
          },
          "metadata": {},
          "execution_count": 12
        }
      ]
    },
    {
      "cell_type": "code",
      "source": [
        "x_train_flat=x_train.reshape(x_train.shape[0],-1)\n",
        "x_test_flat=x_test.reshape(x_test.shape[0],-1)\n",
        "x_train_flat.shape,x_test_flat.shape,y_train.shape,y_test.shape,np.unique(y_train).shape[0]"
      ],
      "metadata": {
        "id": "hjZ-Acx1Q0tT",
        "outputId": "1395dea0-c4cf-4bc3-c377-b15c218935e3",
        "colab": {
          "base_uri": "https://localhost:8080/"
        }
      },
      "execution_count": 13,
      "outputs": [
        {
          "output_type": "execute_result",
          "data": {
            "text/plain": [
              "((60000, 784), (10000, 784), (60000,), (10000,), 10)"
            ]
          },
          "metadata": {},
          "execution_count": 13
        }
      ]
    },
    {
      "cell_type": "code",
      "source": [
        "inp_shp=x_train_flat.shape[1]\n",
        "out_shp=np.unique(y_train).shape[0]\n",
        "one_hot_y_train=one_hot_encode(y_train,out_shp)"
      ],
      "metadata": {
        "id": "IdchyuHYQ0rI"
      },
      "execution_count": 14,
      "outputs": []
    },
    {
      "cell_type": "code",
      "source": [
        "\n",
        "net = Network()\n",
        "net.append_layer(fc_layer(n_inputs=inp_shp, n_output=128, activation_fn=Tanh()))\n",
        "net.append_layer(fc_layer(n_inputs=128, n_output=128, activation_fn=Tanh()))\n",
        "net.append_layer(fc_layer(n_inputs=128, n_output=128, activation_fn=Tanh()))\n",
        "net.append_layer(fc_layer(n_inputs=128, n_output=out_shp, activation_fn=Softmax()))"
      ],
      "metadata": {
        "id": "BD76M2KNTBRW"
      },
      "execution_count": 15,
      "outputs": []
    },
    {
      "cell_type": "code",
      "source": [
        "train_loop(X=x_train_flat, Y=one_hot_y_train, max_iter=100, batch_size=512,model=net,beta=0.9,  loss_fn=CrossEntropy, eta=0.005,print_iter=10,grad_algo=\"momentum\")"
      ],
      "metadata": {
        "id": "LlLhxqoaQ0ox",
        "outputId": "eacd7a2b-6a19-424e-841c-70da00d330de",
        "colab": {
          "base_uri": "https://localhost:8080/"
        }
      },
      "execution_count": 42,
      "outputs": [
        {
          "output_type": "stream",
          "name": "stdout",
          "text": [
            "Epoch 0: Loss = 1.2684\n",
            "Epoch 10: Loss = 0.6675\n",
            "Epoch 20: Loss = 0.6604\n",
            "Epoch 30: Loss = 0.6072\n",
            "Epoch 40: Loss = 0.6705\n",
            "Epoch 50: Loss = 0.5774\n",
            "Epoch 60: Loss = 0.6251\n",
            "Epoch 70: Loss = 0.5986\n",
            "Epoch 80: Loss = 0.6113\n",
            "Epoch 90: Loss = 0.5783\n"
          ]
        }
      ]
    },
    {
      "cell_type": "code",
      "source": [
        "y_pred=net.forward_pass_network(x_train_flat)\n",
        "accuracy(y_train,y_pred)"
      ],
      "metadata": {
        "id": "vU5U5sv8Q0mY",
        "colab": {
          "base_uri": "https://localhost:8080/"
        },
        "outputId": "657e0cea-8da4-4f90-c123-9ba8662fc273"
      },
      "execution_count": 16,
      "outputs": [
        {
          "output_type": "stream",
          "name": "stderr",
          "text": [
            "<ipython-input-2-abd793ab2455>:11: RuntimeWarning: overflow encountered in exp\n",
            "  return 1/(1 + np.exp(-X))\n"
          ]
        },
        {
          "output_type": "execute_result",
          "data": {
            "text/plain": [
              "0.8361333333333333"
            ]
          },
          "metadata": {},
          "execution_count": 16
        }
      ]
    },
    {
      "cell_type": "code",
      "source": [
        "y_pred=net.forward_pass_network(x_test_flat)\n",
        "accuracy(y_test,y_pred)"
      ],
      "metadata": {
        "id": "LvypX6LHQ0kI",
        "colab": {
          "base_uri": "https://localhost:8080/"
        },
        "outputId": "ade2eb7f-e6dc-49be-e044-17d25a697f3f"
      },
      "execution_count": 17,
      "outputs": [
        {
          "output_type": "stream",
          "name": "stderr",
          "text": [
            "<ipython-input-2-abd793ab2455>:11: RuntimeWarning: overflow encountered in exp\n",
            "  return 1/(1 + np.exp(-X))\n"
          ]
        },
        {
          "output_type": "execute_result",
          "data": {
            "text/plain": [
              "0.8154"
            ]
          },
          "metadata": {},
          "execution_count": 17
        }
      ]
    },
    {
      "cell_type": "code",
      "source": [
        "import wandb\n",
        "import datetime\n",
        "import time"
      ],
      "metadata": {
        "id": "XDJkDkDWQ0hp",
        "colab": {
          "base_uri": "https://localhost:8080/",
          "height": 145
        },
        "outputId": "b5fe21d0-9f97-4003-b6c0-a38094054722"
      },
      "execution_count": 15,
      "outputs": [
        {
          "output_type": "stream",
          "name": "stderr",
          "text": [
            "\u001b[34m\u001b[1mwandb\u001b[0m: Currently logged in as: \u001b[33mcs24m041\u001b[0m (\u001b[33mcs24m041-iit-madras\u001b[0m) to \u001b[32mhttps://api.wandb.ai\u001b[0m. Use \u001b[1m`wandb login --relogin`\u001b[0m to force relogin\n",
            "\u001b[34m\u001b[1mwandb\u001b[0m: Using wandb-core as the SDK backend.  Please refer to https://wandb.me/wandb-core for more information.\n"
          ]
        },
        {
          "output_type": "display_data",
          "data": {
            "text/plain": [
              "<IPython.core.display.HTML object>"
            ],
            "text/html": [
              "Tracking run with wandb version 0.19.6"
            ]
          },
          "metadata": {}
        },
        {
          "output_type": "display_data",
          "data": {
            "text/plain": [
              "<IPython.core.display.HTML object>"
            ],
            "text/html": [
              "Run data is saved locally in <code>/content/wandb/run-20250224_111653-ovb0u7dk</code>"
            ]
          },
          "metadata": {}
        },
        {
          "output_type": "display_data",
          "data": {
            "text/plain": [
              "<IPython.core.display.HTML object>"
            ],
            "text/html": [
              "Syncing run <strong><a href='https://wandb.ai/cs24m041-iit-madras/fmnist/runs/ovb0u7dk' target=\"_blank\">crisp-dust-1</a></strong> to <a href='https://wandb.ai/cs24m041-iit-madras/fmnist' target=\"_blank\">Weights & Biases</a> (<a href='https://wandb.me/developer-guide' target=\"_blank\">docs</a>)<br>"
            ]
          },
          "metadata": {}
        },
        {
          "output_type": "display_data",
          "data": {
            "text/plain": [
              "<IPython.core.display.HTML object>"
            ],
            "text/html": [
              " View project at <a href='https://wandb.ai/cs24m041-iit-madras/fmnist' target=\"_blank\">https://wandb.ai/cs24m041-iit-madras/fmnist</a>"
            ]
          },
          "metadata": {}
        },
        {
          "output_type": "display_data",
          "data": {
            "text/plain": [
              "<IPython.core.display.HTML object>"
            ],
            "text/html": [
              " View run at <a href='https://wandb.ai/cs24m041-iit-madras/fmnist/runs/ovb0u7dk' target=\"_blank\">https://wandb.ai/cs24m041-iit-madras/fmnist/runs/ovb0u7dk</a>"
            ]
          },
          "metadata": {}
        }
      ]
    },
    {
      "cell_type": "code",
      "source": [
        "log_accuracy_entry(0.8361333333333333)"
      ],
      "metadata": {
        "id": "x8rsztAkQ0ca"
      },
      "execution_count": 22,
      "outputs": []
    },
    {
      "cell_type": "code",
      "source": [],
      "metadata": {
        "id": "kWjOs_zuQ0Xq"
      },
      "execution_count": null,
      "outputs": []
    },
    {
      "cell_type": "code",
      "source": [
        "import wandb\n",
        "\n",
        "sweep_config = {\n",
        "    \"method\": \"grid\",\n",
        "    \"metric\": {\n",
        "        \"name\": \"val_accuracy\",\n",
        "        \"goal\": \"maximize\"\n",
        "    },\n",
        "    \"parameters\": {\n",
        "        \"learning_rate\": {\n",
        "            \"values\": [0.1, 0.01]\n",
        "        },\n",
        "        \"epochs\": {\n",
        "            \"values\": [10, 50]\n",
        "        },\n",
        "        \"batch_size\": {\n",
        "            \"values\": [256, 512]\n",
        "        }\n",
        "    }\n",
        "}\n",
        "\n",
        "sweep_id = wandb.sweep(sweep_config, project=\"sweep_trail_run\")\n",
        "print(\"Sweep ID:\", sweep_id)\n"
      ],
      "metadata": {
        "id": "smZoJSuLQ0VK",
        "colab": {
          "base_uri": "https://localhost:8080/"
        },
        "outputId": "310de2d3-8337-4f50-dc22-486bc8c40373"
      },
      "execution_count": 16,
      "outputs": [
        {
          "output_type": "stream",
          "name": "stdout",
          "text": [
            "Create sweep with ID: 55v73ha0\n",
            "Sweep URL: https://wandb.ai/cs24m041-iit-madras/sweep_trail_run/sweeps/55v73ha0\n",
            "Sweep ID: 55v73ha0\n"
          ]
        }
      ]
    },
    {
      "cell_type": "code",
      "source": [
        "def wandtrain(config=None):\n",
        "    with wandb.init(config=config):\n",
        "      config = wandb.config\n",
        "      lr=config.learning_rate\n",
        "      epochs=config.epochs\n",
        "      batch_size=config.batch_size\n",
        "      train_loop(X=x_train_flat, Y=one_hot_y_train, max_iter=epochs, batch_size=batch_size,model=net,beta=0.9,  loss_fn=CrossEntropy, eta=0.005,print_iter=10,grad_algo=\"momentum\")\n",
        "      y_pred=net.forward_pass_network(x_test_flat)\n",
        "      train_accuracy=accuracy(y_test,y_pred)\n",
        "      wandb.log({\"train_accuracy\":train_accuracy})"
      ],
      "metadata": {
        "id": "IpeQxxagQ0Sr"
      },
      "execution_count": 17,
      "outputs": []
    },
    {
      "cell_type": "code",
      "source": [
        "wandb.agent(sweep_id, wandtrain, count=5)"
      ],
      "metadata": {
        "id": "Bl3NEFSMQ0QG",
        "colab": {
          "base_uri": "https://localhost:8080/",
          "height": 1000,
          "referenced_widgets": [
            "623b64b8028d44e9b86177efa2e039a4",
            "6f923ba384824256b22f9cd4a962b2a6",
            "b1726fc5f7f94c4bb6b7b45aa58abe1f",
            "5eb55d96887e416d99a281bb112a9d55",
            "8ec20cea9958429f8464077b9fdfbed1",
            "8cb55f11e91d45dd92a19ae32c8c3af0",
            "56f5b84226684f24ba2f008ef7a05049",
            "bb9763d6582c40d6a3b76b221fd91037"
          ]
        },
        "outputId": "b5c40dd0-b336-4c1e-a9b5-09353615ca7d"
      },
      "execution_count": null,
      "outputs": [
        {
          "output_type": "stream",
          "name": "stderr",
          "text": [
            "\u001b[34m\u001b[1mwandb\u001b[0m: Agent Starting Run: yuiwn137 with config:\n",
            "\u001b[34m\u001b[1mwandb\u001b[0m: \tbatch_size: 256\n",
            "\u001b[34m\u001b[1mwandb\u001b[0m: \tepochs: 50\n",
            "\u001b[34m\u001b[1mwandb\u001b[0m: \tlearning_rate: 0.1\n"
          ]
        },
        {
          "output_type": "display_data",
          "data": {
            "text/plain": [
              "<IPython.core.display.HTML object>"
            ],
            "text/html": [
              "Tracking run with wandb version 0.19.6"
            ]
          },
          "metadata": {}
        },
        {
          "output_type": "display_data",
          "data": {
            "text/plain": [
              "<IPython.core.display.HTML object>"
            ],
            "text/html": [
              "Run data is saved locally in <code>/content/wandb/run-20250224_161548-yuiwn137</code>"
            ]
          },
          "metadata": {}
        },
        {
          "output_type": "display_data",
          "data": {
            "text/plain": [
              "<IPython.core.display.HTML object>"
            ],
            "text/html": [
              "Syncing run <strong><a href='https://wandb.ai/cs24m041-iit-madras/sweep_trail_run/runs/yuiwn137' target=\"_blank\">glamorous-sweep-3</a></strong> to <a href='https://wandb.ai/cs24m041-iit-madras/sweep_trail_run' target=\"_blank\">Weights & Biases</a> (<a href='https://wandb.me/developer-guide' target=\"_blank\">docs</a>)<br>Sweep page: <a href='https://wandb.ai/cs24m041-iit-madras/sweep_trail_run/sweeps/55v73ha0' target=\"_blank\">https://wandb.ai/cs24m041-iit-madras/sweep_trail_run/sweeps/55v73ha0</a>"
            ]
          },
          "metadata": {}
        },
        {
          "output_type": "display_data",
          "data": {
            "text/plain": [
              "<IPython.core.display.HTML object>"
            ],
            "text/html": [
              " View project at <a href='https://wandb.ai/cs24m041-iit-madras/sweep_trail_run' target=\"_blank\">https://wandb.ai/cs24m041-iit-madras/sweep_trail_run</a>"
            ]
          },
          "metadata": {}
        },
        {
          "output_type": "display_data",
          "data": {
            "text/plain": [
              "<IPython.core.display.HTML object>"
            ],
            "text/html": [
              " View sweep at <a href='https://wandb.ai/cs24m041-iit-madras/sweep_trail_run/sweeps/55v73ha0' target=\"_blank\">https://wandb.ai/cs24m041-iit-madras/sweep_trail_run/sweeps/55v73ha0</a>"
            ]
          },
          "metadata": {}
        },
        {
          "output_type": "display_data",
          "data": {
            "text/plain": [
              "<IPython.core.display.HTML object>"
            ],
            "text/html": [
              " View run at <a href='https://wandb.ai/cs24m041-iit-madras/sweep_trail_run/runs/yuiwn137' target=\"_blank\">https://wandb.ai/cs24m041-iit-madras/sweep_trail_run/runs/yuiwn137</a>"
            ]
          },
          "metadata": {}
        },
        {
          "output_type": "stream",
          "name": "stdout",
          "text": [
            "Epoch 0: Loss = 0.8239\n",
            "Epoch 10: Loss = 0.7553\n",
            "Epoch 20: Loss = 0.7132\n",
            "Epoch 30: Loss = 0.7279\n",
            "Epoch 40: Loss = 0.6695\n"
          ]
        },
        {
          "output_type": "display_data",
          "data": {
            "text/plain": [
              "<IPython.core.display.HTML object>"
            ],
            "text/html": []
          },
          "metadata": {}
        },
        {
          "output_type": "display_data",
          "data": {
            "text/plain": [
              "<IPython.core.display.HTML object>"
            ],
            "text/html": [
              "<br>    <style><br>        .wandb-row {<br>            display: flex;<br>            flex-direction: row;<br>            flex-wrap: wrap;<br>            justify-content: flex-start;<br>            width: 100%;<br>        }<br>        .wandb-col {<br>            display: flex;<br>            flex-direction: column;<br>            flex-basis: 100%;<br>            flex: 1;<br>            padding: 10px;<br>        }<br>    </style><br><div class=\"wandb-row\"><div class=\"wandb-col\"><h3>Run history:</h3><br/><table class=\"wandb\"><tr><td>train_accuracy</td><td>▁</td></tr></table><br/></div><div class=\"wandb-col\"><h3>Run summary:</h3><br/><table class=\"wandb\"><tr><td>train_accuracy</td><td>0.7362</td></tr></table><br/></div></div>"
            ]
          },
          "metadata": {}
        },
        {
          "output_type": "display_data",
          "data": {
            "text/plain": [
              "<IPython.core.display.HTML object>"
            ],
            "text/html": [
              " View run <strong style=\"color:#cdcd00\">glamorous-sweep-3</strong> at: <a href='https://wandb.ai/cs24m041-iit-madras/sweep_trail_run/runs/yuiwn137' target=\"_blank\">https://wandb.ai/cs24m041-iit-madras/sweep_trail_run/runs/yuiwn137</a><br> View project at: <a href='https://wandb.ai/cs24m041-iit-madras/sweep_trail_run' target=\"_blank\">https://wandb.ai/cs24m041-iit-madras/sweep_trail_run</a><br>Synced 5 W&B file(s), 0 media file(s), 0 artifact file(s) and 0 other file(s)"
            ]
          },
          "metadata": {}
        },
        {
          "output_type": "display_data",
          "data": {
            "text/plain": [
              "<IPython.core.display.HTML object>"
            ],
            "text/html": [
              "Find logs at: <code>./wandb/run-20250224_161548-yuiwn137/logs</code>"
            ]
          },
          "metadata": {}
        },
        {
          "output_type": "stream",
          "name": "stderr",
          "text": [
            "\u001b[34m\u001b[1mwandb\u001b[0m: Agent Starting Run: v8i1jomx with config:\n",
            "\u001b[34m\u001b[1mwandb\u001b[0m: \tbatch_size: 256\n",
            "\u001b[34m\u001b[1mwandb\u001b[0m: \tepochs: 50\n",
            "\u001b[34m\u001b[1mwandb\u001b[0m: \tlearning_rate: 0.01\n"
          ]
        },
        {
          "output_type": "display_data",
          "data": {
            "text/plain": [
              "<IPython.core.display.HTML object>"
            ],
            "text/html": [
              "Tracking run with wandb version 0.19.6"
            ]
          },
          "metadata": {}
        },
        {
          "output_type": "display_data",
          "data": {
            "text/plain": [
              "<IPython.core.display.HTML object>"
            ],
            "text/html": [
              "Run data is saved locally in <code>/content/wandb/run-20250224_162119-v8i1jomx</code>"
            ]
          },
          "metadata": {}
        },
        {
          "output_type": "display_data",
          "data": {
            "text/plain": [
              "<IPython.core.display.HTML object>"
            ],
            "text/html": [
              "Syncing run <strong><a href='https://wandb.ai/cs24m041-iit-madras/sweep_trail_run/runs/v8i1jomx' target=\"_blank\">winter-sweep-4</a></strong> to <a href='https://wandb.ai/cs24m041-iit-madras/sweep_trail_run' target=\"_blank\">Weights & Biases</a> (<a href='https://wandb.me/developer-guide' target=\"_blank\">docs</a>)<br>Sweep page: <a href='https://wandb.ai/cs24m041-iit-madras/sweep_trail_run/sweeps/55v73ha0' target=\"_blank\">https://wandb.ai/cs24m041-iit-madras/sweep_trail_run/sweeps/55v73ha0</a>"
            ]
          },
          "metadata": {}
        },
        {
          "output_type": "display_data",
          "data": {
            "text/plain": [
              "<IPython.core.display.HTML object>"
            ],
            "text/html": [
              " View project at <a href='https://wandb.ai/cs24m041-iit-madras/sweep_trail_run' target=\"_blank\">https://wandb.ai/cs24m041-iit-madras/sweep_trail_run</a>"
            ]
          },
          "metadata": {}
        },
        {
          "output_type": "display_data",
          "data": {
            "text/plain": [
              "<IPython.core.display.HTML object>"
            ],
            "text/html": [
              " View sweep at <a href='https://wandb.ai/cs24m041-iit-madras/sweep_trail_run/sweeps/55v73ha0' target=\"_blank\">https://wandb.ai/cs24m041-iit-madras/sweep_trail_run/sweeps/55v73ha0</a>"
            ]
          },
          "metadata": {}
        },
        {
          "output_type": "display_data",
          "data": {
            "text/plain": [
              "<IPython.core.display.HTML object>"
            ],
            "text/html": [
              " View run at <a href='https://wandb.ai/cs24m041-iit-madras/sweep_trail_run/runs/v8i1jomx' target=\"_blank\">https://wandb.ai/cs24m041-iit-madras/sweep_trail_run/runs/v8i1jomx</a>"
            ]
          },
          "metadata": {}
        },
        {
          "output_type": "stream",
          "name": "stdout",
          "text": [
            "Epoch 0: Loss = 0.6519\n",
            "Epoch 10: Loss = 0.6488\n",
            "Epoch 20: Loss = 0.6065\n",
            "Epoch 30: Loss = 0.6016\n",
            "Epoch 40: Loss = 0.6108\n"
          ]
        },
        {
          "output_type": "display_data",
          "data": {
            "text/plain": [
              "<IPython.core.display.HTML object>"
            ],
            "text/html": []
          },
          "metadata": {}
        },
        {
          "output_type": "display_data",
          "data": {
            "text/plain": [
              "<IPython.core.display.HTML object>"
            ],
            "text/html": [
              "<br>    <style><br>        .wandb-row {<br>            display: flex;<br>            flex-direction: row;<br>            flex-wrap: wrap;<br>            justify-content: flex-start;<br>            width: 100%;<br>        }<br>        .wandb-col {<br>            display: flex;<br>            flex-direction: column;<br>            flex-basis: 100%;<br>            flex: 1;<br>            padding: 10px;<br>        }<br>    </style><br><div class=\"wandb-row\"><div class=\"wandb-col\"><h3>Run history:</h3><br/><table class=\"wandb\"><tr><td>train_accuracy</td><td>▁</td></tr></table><br/></div><div class=\"wandb-col\"><h3>Run summary:</h3><br/><table class=\"wandb\"><tr><td>train_accuracy</td><td>0.7549</td></tr></table><br/></div></div>"
            ]
          },
          "metadata": {}
        },
        {
          "output_type": "display_data",
          "data": {
            "text/plain": [
              "<IPython.core.display.HTML object>"
            ],
            "text/html": [
              " View run <strong style=\"color:#cdcd00\">winter-sweep-4</strong> at: <a href='https://wandb.ai/cs24m041-iit-madras/sweep_trail_run/runs/v8i1jomx' target=\"_blank\">https://wandb.ai/cs24m041-iit-madras/sweep_trail_run/runs/v8i1jomx</a><br> View project at: <a href='https://wandb.ai/cs24m041-iit-madras/sweep_trail_run' target=\"_blank\">https://wandb.ai/cs24m041-iit-madras/sweep_trail_run</a><br>Synced 5 W&B file(s), 0 media file(s), 0 artifact file(s) and 0 other file(s)"
            ]
          },
          "metadata": {}
        },
        {
          "output_type": "display_data",
          "data": {
            "text/plain": [
              "<IPython.core.display.HTML object>"
            ],
            "text/html": [
              "Find logs at: <code>./wandb/run-20250224_162119-v8i1jomx/logs</code>"
            ]
          },
          "metadata": {}
        },
        {
          "output_type": "stream",
          "name": "stderr",
          "text": [
            "\u001b[34m\u001b[1mwandb\u001b[0m: Agent Starting Run: ffd744td with config:\n",
            "\u001b[34m\u001b[1mwandb\u001b[0m: \tbatch_size: 512\n",
            "\u001b[34m\u001b[1mwandb\u001b[0m: \tepochs: 10\n",
            "\u001b[34m\u001b[1mwandb\u001b[0m: \tlearning_rate: 0.1\n"
          ]
        },
        {
          "output_type": "display_data",
          "data": {
            "text/plain": [
              "VBox(children=(Label(value='Waiting for wandb.init()...\\r'), FloatProgress(value=0.011113313488888506, max=1.0…"
            ],
            "application/vnd.jupyter.widget-view+json": {
              "version_major": 2,
              "version_minor": 0,
              "model_id": "623b64b8028d44e9b86177efa2e039a4"
            }
          },
          "metadata": {}
        },
        {
          "output_type": "display_data",
          "data": {
            "text/plain": [
              "<IPython.core.display.HTML object>"
            ],
            "text/html": [
              "Tracking run with wandb version 0.19.6"
            ]
          },
          "metadata": {}
        },
        {
          "output_type": "display_data",
          "data": {
            "text/plain": [
              "<IPython.core.display.HTML object>"
            ],
            "text/html": [
              "Run data is saved locally in <code>/content/wandb/run-20250224_162646-ffd744td</code>"
            ]
          },
          "metadata": {}
        },
        {
          "output_type": "display_data",
          "data": {
            "text/plain": [
              "<IPython.core.display.HTML object>"
            ],
            "text/html": [
              "Syncing run <strong><a href='https://wandb.ai/cs24m041-iit-madras/sweep_trail_run/runs/ffd744td' target=\"_blank\">firm-sweep-5</a></strong> to <a href='https://wandb.ai/cs24m041-iit-madras/sweep_trail_run' target=\"_blank\">Weights & Biases</a> (<a href='https://wandb.me/developer-guide' target=\"_blank\">docs</a>)<br>Sweep page: <a href='https://wandb.ai/cs24m041-iit-madras/sweep_trail_run/sweeps/55v73ha0' target=\"_blank\">https://wandb.ai/cs24m041-iit-madras/sweep_trail_run/sweeps/55v73ha0</a>"
            ]
          },
          "metadata": {}
        },
        {
          "output_type": "display_data",
          "data": {
            "text/plain": [
              "<IPython.core.display.HTML object>"
            ],
            "text/html": [
              " View project at <a href='https://wandb.ai/cs24m041-iit-madras/sweep_trail_run' target=\"_blank\">https://wandb.ai/cs24m041-iit-madras/sweep_trail_run</a>"
            ]
          },
          "metadata": {}
        },
        {
          "output_type": "display_data",
          "data": {
            "text/plain": [
              "<IPython.core.display.HTML object>"
            ],
            "text/html": [
              " View sweep at <a href='https://wandb.ai/cs24m041-iit-madras/sweep_trail_run/sweeps/55v73ha0' target=\"_blank\">https://wandb.ai/cs24m041-iit-madras/sweep_trail_run/sweeps/55v73ha0</a>"
            ]
          },
          "metadata": {}
        },
        {
          "output_type": "display_data",
          "data": {
            "text/plain": [
              "<IPython.core.display.HTML object>"
            ],
            "text/html": [
              " View run at <a href='https://wandb.ai/cs24m041-iit-madras/sweep_trail_run/runs/ffd744td' target=\"_blank\">https://wandb.ai/cs24m041-iit-madras/sweep_trail_run/runs/ffd744td</a>"
            ]
          },
          "metadata": {}
        },
        {
          "output_type": "stream",
          "name": "stdout",
          "text": [
            "Epoch 0: Loss = 0.6067\n"
          ]
        },
        {
          "output_type": "display_data",
          "data": {
            "text/plain": [
              "<IPython.core.display.HTML object>"
            ],
            "text/html": []
          },
          "metadata": {}
        },
        {
          "output_type": "display_data",
          "data": {
            "text/plain": [
              "<IPython.core.display.HTML object>"
            ],
            "text/html": [
              "<br>    <style><br>        .wandb-row {<br>            display: flex;<br>            flex-direction: row;<br>            flex-wrap: wrap;<br>            justify-content: flex-start;<br>            width: 100%;<br>        }<br>        .wandb-col {<br>            display: flex;<br>            flex-direction: column;<br>            flex-basis: 100%;<br>            flex: 1;<br>            padding: 10px;<br>        }<br>    </style><br><div class=\"wandb-row\"><div class=\"wandb-col\"><h3>Run history:</h3><br/><table class=\"wandb\"><tr><td>train_accuracy</td><td>▁</td></tr></table><br/></div><div class=\"wandb-col\"><h3>Run summary:</h3><br/><table class=\"wandb\"><tr><td>train_accuracy</td><td>0.778</td></tr></table><br/></div></div>"
            ]
          },
          "metadata": {}
        },
        {
          "output_type": "display_data",
          "data": {
            "text/plain": [
              "<IPython.core.display.HTML object>"
            ],
            "text/html": [
              " View run <strong style=\"color:#cdcd00\">firm-sweep-5</strong> at: <a href='https://wandb.ai/cs24m041-iit-madras/sweep_trail_run/runs/ffd744td' target=\"_blank\">https://wandb.ai/cs24m041-iit-madras/sweep_trail_run/runs/ffd744td</a><br> View project at: <a href='https://wandb.ai/cs24m041-iit-madras/sweep_trail_run' target=\"_blank\">https://wandb.ai/cs24m041-iit-madras/sweep_trail_run</a><br>Synced 5 W&B file(s), 0 media file(s), 0 artifact file(s) and 0 other file(s)"
            ]
          },
          "metadata": {}
        },
        {
          "output_type": "display_data",
          "data": {
            "text/plain": [
              "<IPython.core.display.HTML object>"
            ],
            "text/html": [
              "Find logs at: <code>./wandb/run-20250224_162646-ffd744td/logs</code>"
            ]
          },
          "metadata": {}
        },
        {
          "output_type": "stream",
          "name": "stderr",
          "text": [
            "\u001b[34m\u001b[1mwandb\u001b[0m: Agent Starting Run: 8429a6jw with config:\n",
            "\u001b[34m\u001b[1mwandb\u001b[0m: \tbatch_size: 512\n",
            "\u001b[34m\u001b[1mwandb\u001b[0m: \tepochs: 10\n",
            "\u001b[34m\u001b[1mwandb\u001b[0m: \tlearning_rate: 0.01\n"
          ]
        },
        {
          "output_type": "display_data",
          "data": {
            "text/plain": [
              "<IPython.core.display.HTML object>"
            ],
            "text/html": [
              "Tracking run with wandb version 0.19.6"
            ]
          },
          "metadata": {}
        },
        {
          "output_type": "display_data",
          "data": {
            "text/plain": [
              "<IPython.core.display.HTML object>"
            ],
            "text/html": [
              "Run data is saved locally in <code>/content/wandb/run-20250224_162757-8429a6jw</code>"
            ]
          },
          "metadata": {}
        },
        {
          "output_type": "display_data",
          "data": {
            "text/plain": [
              "<IPython.core.display.HTML object>"
            ],
            "text/html": [
              "Syncing run <strong><a href='https://wandb.ai/cs24m041-iit-madras/sweep_trail_run/runs/8429a6jw' target=\"_blank\">quiet-sweep-6</a></strong> to <a href='https://wandb.ai/cs24m041-iit-madras/sweep_trail_run' target=\"_blank\">Weights & Biases</a> (<a href='https://wandb.me/developer-guide' target=\"_blank\">docs</a>)<br>Sweep page: <a href='https://wandb.ai/cs24m041-iit-madras/sweep_trail_run/sweeps/55v73ha0' target=\"_blank\">https://wandb.ai/cs24m041-iit-madras/sweep_trail_run/sweeps/55v73ha0</a>"
            ]
          },
          "metadata": {}
        },
        {
          "output_type": "display_data",
          "data": {
            "text/plain": [
              "<IPython.core.display.HTML object>"
            ],
            "text/html": [
              " View project at <a href='https://wandb.ai/cs24m041-iit-madras/sweep_trail_run' target=\"_blank\">https://wandb.ai/cs24m041-iit-madras/sweep_trail_run</a>"
            ]
          },
          "metadata": {}
        },
        {
          "output_type": "display_data",
          "data": {
            "text/plain": [
              "<IPython.core.display.HTML object>"
            ],
            "text/html": [
              " View sweep at <a href='https://wandb.ai/cs24m041-iit-madras/sweep_trail_run/sweeps/55v73ha0' target=\"_blank\">https://wandb.ai/cs24m041-iit-madras/sweep_trail_run/sweeps/55v73ha0</a>"
            ]
          },
          "metadata": {}
        },
        {
          "output_type": "display_data",
          "data": {
            "text/plain": [
              "<IPython.core.display.HTML object>"
            ],
            "text/html": [
              " View run at <a href='https://wandb.ai/cs24m041-iit-madras/sweep_trail_run/runs/8429a6jw' target=\"_blank\">https://wandb.ai/cs24m041-iit-madras/sweep_trail_run/runs/8429a6jw</a>"
            ]
          },
          "metadata": {}
        },
        {
          "output_type": "stream",
          "name": "stdout",
          "text": [
            "Epoch 0: Loss = 0.5633\n"
          ]
        },
        {
          "output_type": "display_data",
          "data": {
            "text/plain": [
              "<IPython.core.display.HTML object>"
            ],
            "text/html": []
          },
          "metadata": {}
        },
        {
          "output_type": "display_data",
          "data": {
            "text/plain": [
              "<IPython.core.display.HTML object>"
            ],
            "text/html": [
              "<br>    <style><br>        .wandb-row {<br>            display: flex;<br>            flex-direction: row;<br>            flex-wrap: wrap;<br>            justify-content: flex-start;<br>            width: 100%;<br>        }<br>        .wandb-col {<br>            display: flex;<br>            flex-direction: column;<br>            flex-basis: 100%;<br>            flex: 1;<br>            padding: 10px;<br>        }<br>    </style><br><div class=\"wandb-row\"><div class=\"wandb-col\"><h3>Run history:</h3><br/><table class=\"wandb\"><tr><td>train_accuracy</td><td>▁</td></tr></table><br/></div><div class=\"wandb-col\"><h3>Run summary:</h3><br/><table class=\"wandb\"><tr><td>train_accuracy</td><td>0.776</td></tr></table><br/></div></div>"
            ]
          },
          "metadata": {}
        },
        {
          "output_type": "display_data",
          "data": {
            "text/plain": [
              "<IPython.core.display.HTML object>"
            ],
            "text/html": [
              " View run <strong style=\"color:#cdcd00\">quiet-sweep-6</strong> at: <a href='https://wandb.ai/cs24m041-iit-madras/sweep_trail_run/runs/8429a6jw' target=\"_blank\">https://wandb.ai/cs24m041-iit-madras/sweep_trail_run/runs/8429a6jw</a><br> View project at: <a href='https://wandb.ai/cs24m041-iit-madras/sweep_trail_run' target=\"_blank\">https://wandb.ai/cs24m041-iit-madras/sweep_trail_run</a><br>Synced 5 W&B file(s), 0 media file(s), 0 artifact file(s) and 0 other file(s)"
            ]
          },
          "metadata": {}
        },
        {
          "output_type": "display_data",
          "data": {
            "text/plain": [
              "<IPython.core.display.HTML object>"
            ],
            "text/html": [
              "Find logs at: <code>./wandb/run-20250224_162757-8429a6jw/logs</code>"
            ]
          },
          "metadata": {}
        },
        {
          "output_type": "stream",
          "name": "stderr",
          "text": [
            "\u001b[34m\u001b[1mwandb\u001b[0m: Agent Starting Run: hbaayt91 with config:\n",
            "\u001b[34m\u001b[1mwandb\u001b[0m: \tbatch_size: 512\n",
            "\u001b[34m\u001b[1mwandb\u001b[0m: \tepochs: 50\n",
            "\u001b[34m\u001b[1mwandb\u001b[0m: \tlearning_rate: 0.1\n"
          ]
        },
        {
          "output_type": "display_data",
          "data": {
            "text/plain": [
              "<IPython.core.display.HTML object>"
            ],
            "text/html": [
              "Tracking run with wandb version 0.19.6"
            ]
          },
          "metadata": {}
        },
        {
          "output_type": "display_data",
          "data": {
            "text/plain": [
              "<IPython.core.display.HTML object>"
            ],
            "text/html": [
              "Run data is saved locally in <code>/content/wandb/run-20250224_162903-hbaayt91</code>"
            ]
          },
          "metadata": {}
        },
        {
          "output_type": "display_data",
          "data": {
            "text/plain": [
              "<IPython.core.display.HTML object>"
            ],
            "text/html": [
              "Syncing run <strong><a href='https://wandb.ai/cs24m041-iit-madras/sweep_trail_run/runs/hbaayt91' target=\"_blank\">comic-sweep-7</a></strong> to <a href='https://wandb.ai/cs24m041-iit-madras/sweep_trail_run' target=\"_blank\">Weights & Biases</a> (<a href='https://wandb.me/developer-guide' target=\"_blank\">docs</a>)<br>Sweep page: <a href='https://wandb.ai/cs24m041-iit-madras/sweep_trail_run/sweeps/55v73ha0' target=\"_blank\">https://wandb.ai/cs24m041-iit-madras/sweep_trail_run/sweeps/55v73ha0</a>"
            ]
          },
          "metadata": {}
        },
        {
          "output_type": "display_data",
          "data": {
            "text/plain": [
              "<IPython.core.display.HTML object>"
            ],
            "text/html": [
              " View project at <a href='https://wandb.ai/cs24m041-iit-madras/sweep_trail_run' target=\"_blank\">https://wandb.ai/cs24m041-iit-madras/sweep_trail_run</a>"
            ]
          },
          "metadata": {}
        },
        {
          "output_type": "display_data",
          "data": {
            "text/plain": [
              "<IPython.core.display.HTML object>"
            ],
            "text/html": [
              " View sweep at <a href='https://wandb.ai/cs24m041-iit-madras/sweep_trail_run/sweeps/55v73ha0' target=\"_blank\">https://wandb.ai/cs24m041-iit-madras/sweep_trail_run/sweeps/55v73ha0</a>"
            ]
          },
          "metadata": {}
        },
        {
          "output_type": "display_data",
          "data": {
            "text/plain": [
              "<IPython.core.display.HTML object>"
            ],
            "text/html": [
              " View run at <a href='https://wandb.ai/cs24m041-iit-madras/sweep_trail_run/runs/hbaayt91' target=\"_blank\">https://wandb.ai/cs24m041-iit-madras/sweep_trail_run/runs/hbaayt91</a>"
            ]
          },
          "metadata": {}
        },
        {
          "output_type": "stream",
          "name": "stdout",
          "text": [
            "Epoch 0: Loss = 0.5533\n"
          ]
        }
      ]
    },
    {
      "cell_type": "code",
      "source": [
        "wandb.finish()"
      ],
      "metadata": {
        "id": "hxUiZzroQ0BE"
      },
      "execution_count": null,
      "outputs": []
    },
    {
      "cell_type": "markdown",
      "source": [
        "## Question 5"
      ],
      "metadata": {
        "id": "wXdUULpD4kWX"
      }
    },
    {
      "cell_type": "markdown",
      "source": [
        "Best accuracy on validation set across all models"
      ],
      "metadata": {
        "id": "CLjWUWll4ync"
      }
    },
    {
      "cell_type": "markdown",
      "source": [
        "## Question 6"
      ],
      "metadata": {
        "id": "uMvdsY5147_Y"
      }
    },
    {
      "cell_type": "markdown",
      "source": [
        "inferences"
      ],
      "metadata": {
        "id": "HaKXJe4E5BPe"
      }
    },
    {
      "cell_type": "markdown",
      "source": [
        "## Question 7"
      ],
      "metadata": {
        "id": "IqhpT_LR5CKK"
      }
    },
    {
      "cell_type": "markdown",
      "source": [
        "Model with best accuracy on test set ,\n",
        "Plot confusion matrix"
      ],
      "metadata": {
        "id": "uofqR_Fc5RWB"
      }
    },
    {
      "cell_type": "markdown",
      "source": [
        "## Question 8"
      ],
      "metadata": {
        "id": "LDx-F51k5ZXF"
      }
    },
    {
      "cell_type": "markdown",
      "source": [
        "Compare MSE with cross entropy"
      ],
      "metadata": {
        "id": "_p2lXPB25fxJ"
      }
    },
    {
      "cell_type": "markdown",
      "source": [
        "## Quetion 9\n",
        "Link to github:https://github.com/sankarvinayak/DL-assignment1"
      ],
      "metadata": {
        "id": "m4cGkcOA5jyE"
      }
    },
    {
      "cell_type": "markdown",
      "source": [
        "## Question 10\n",
        "Recomendation of 3 set of hyperparameter for MNIST"
      ],
      "metadata": {
        "id": "NJjcwLZJ6BLO"
      }
    },
    {
      "cell_type": "code",
      "source": [],
      "metadata": {
        "id": "RifDWKCW6HKw"
      },
      "execution_count": null,
      "outputs": []
    }
  ]
}