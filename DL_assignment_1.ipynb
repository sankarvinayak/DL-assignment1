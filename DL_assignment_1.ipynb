{
  "nbformat": 4,
  "nbformat_minor": 0,
  "metadata": {
    "colab": {
      "provenance": [],
      "authorship_tag": "ABX9TyPMDmcWCYrhtNL6V5mfAXLd",
      "include_colab_link": true
    },
    "kernelspec": {
      "name": "python3",
      "display_name": "Python 3"
    },
    "language_info": {
      "name": "python"
    }
  },
  "cells": [
    {
      "cell_type": "markdown",
      "metadata": {
        "id": "view-in-github",
        "colab_type": "text"
      },
      "source": [
        "<a href=\"https://colab.research.google.com/github/sankarvinayak/DL-assignment1/blob/main/DL_assignment_1.ipynb\" target=\"_parent\"><img src=\"https://colab.research.google.com/assets/colab-badge.svg\" alt=\"Open In Colab\"/></a>"
      ]
    },
    {
      "cell_type": "markdown",
      "source": [
        "# Assignment 1 DA6401 Deeplearning\n",
        "## Sankar Vinayak E P"
      ],
      "metadata": {
        "id": "zZ9fpn6qxs04"
      }
    },
    {
      "cell_type": "code",
      "source": [
        "!pip install wandb\n",
        "!wandb login"
      ],
      "metadata": {
        "colab": {
          "base_uri": "https://localhost:8080/"
        },
        "id": "w08wqkqpxsRg",
        "outputId": "bb81fb6c-6549-4ff4-ab13-b26fcf223f5c"
      },
      "execution_count": 1,
      "outputs": [
        {
          "output_type": "stream",
          "name": "stdout",
          "text": [
            "Requirement already satisfied: wandb in /usr/local/lib/python3.11/dist-packages (0.19.6)\n",
            "Requirement already satisfied: click!=8.0.0,>=7.1 in /usr/local/lib/python3.11/dist-packages (from wandb) (8.1.8)\n",
            "Requirement already satisfied: docker-pycreds>=0.4.0 in /usr/local/lib/python3.11/dist-packages (from wandb) (0.4.0)\n",
            "Requirement already satisfied: gitpython!=3.1.29,>=1.0.0 in /usr/local/lib/python3.11/dist-packages (from wandb) (3.1.44)\n",
            "Requirement already satisfied: platformdirs in /usr/local/lib/python3.11/dist-packages (from wandb) (4.3.6)\n",
            "Requirement already satisfied: protobuf!=4.21.0,!=5.28.0,<6,>=3.19.0 in /usr/local/lib/python3.11/dist-packages (from wandb) (4.25.6)\n",
            "Requirement already satisfied: psutil>=5.0.0 in /usr/local/lib/python3.11/dist-packages (from wandb) (5.9.5)\n",
            "Requirement already satisfied: pydantic<3,>=2.6 in /usr/local/lib/python3.11/dist-packages (from wandb) (2.10.6)\n",
            "Requirement already satisfied: pyyaml in /usr/local/lib/python3.11/dist-packages (from wandb) (6.0.2)\n",
            "Requirement already satisfied: requests<3,>=2.0.0 in /usr/local/lib/python3.11/dist-packages (from wandb) (2.32.3)\n",
            "Requirement already satisfied: sentry-sdk>=2.0.0 in /usr/local/lib/python3.11/dist-packages (from wandb) (2.22.0)\n",
            "Requirement already satisfied: setproctitle in /usr/local/lib/python3.11/dist-packages (from wandb) (1.3.4)\n",
            "Requirement already satisfied: setuptools in /usr/local/lib/python3.11/dist-packages (from wandb) (75.1.0)\n",
            "Requirement already satisfied: typing-extensions<5,>=4.4 in /usr/local/lib/python3.11/dist-packages (from wandb) (4.12.2)\n",
            "Requirement already satisfied: six>=1.4.0 in /usr/local/lib/python3.11/dist-packages (from docker-pycreds>=0.4.0->wandb) (1.17.0)\n",
            "Requirement already satisfied: gitdb<5,>=4.0.1 in /usr/local/lib/python3.11/dist-packages (from gitpython!=3.1.29,>=1.0.0->wandb) (4.0.12)\n",
            "Requirement already satisfied: annotated-types>=0.6.0 in /usr/local/lib/python3.11/dist-packages (from pydantic<3,>=2.6->wandb) (0.7.0)\n",
            "Requirement already satisfied: pydantic-core==2.27.2 in /usr/local/lib/python3.11/dist-packages (from pydantic<3,>=2.6->wandb) (2.27.2)\n",
            "Requirement already satisfied: charset-normalizer<4,>=2 in /usr/local/lib/python3.11/dist-packages (from requests<3,>=2.0.0->wandb) (3.4.1)\n",
            "Requirement already satisfied: idna<4,>=2.5 in /usr/local/lib/python3.11/dist-packages (from requests<3,>=2.0.0->wandb) (3.10)\n",
            "Requirement already satisfied: urllib3<3,>=1.21.1 in /usr/local/lib/python3.11/dist-packages (from requests<3,>=2.0.0->wandb) (2.3.0)\n",
            "Requirement already satisfied: certifi>=2017.4.17 in /usr/local/lib/python3.11/dist-packages (from requests<3,>=2.0.0->wandb) (2025.1.31)\n",
            "Requirement already satisfied: smmap<6,>=3.0.1 in /usr/local/lib/python3.11/dist-packages (from gitdb<5,>=4.0.1->gitpython!=3.1.29,>=1.0.0->wandb) (5.0.2)\n",
            "\u001b[34m\u001b[1mwandb\u001b[0m: Logging into wandb.ai. (Learn how to deploy a W&B server locally: https://wandb.me/wandb-server)\n",
            "\u001b[34m\u001b[1mwandb\u001b[0m: You can find your API key in your browser here: https://wandb.ai/authorize\n",
            "\u001b[34m\u001b[1mwandb\u001b[0m: Paste an API key from your profile and hit enter, or press ctrl+c to quit: \n",
            "\u001b[34m\u001b[1mwandb\u001b[0m: Appending key for api.wandb.ai to your netrc file: /root/.netrc\n",
            "\u001b[34m\u001b[1mwandb\u001b[0m: Currently logged in as: \u001b[33mcs24m041\u001b[0m (\u001b[33mcs24m041-iit-madras\u001b[0m) to \u001b[32mhttps://api.wandb.ai\u001b[0m. Use \u001b[1m`wandb login --relogin`\u001b[0m to force relogin\n"
          ]
        }
      ]
    },
    {
      "cell_type": "code",
      "execution_count": 16,
      "metadata": {
        "id": "bjP80yJTvBUI"
      },
      "outputs": [],
      "source": [
        "import wandb\n",
        "import matplotlib.pyplot as plt\n",
        "from keras.datasets import fashion_mnist\n",
        "import numpy as np\n"
      ]
    },
    {
      "cell_type": "markdown",
      "source": [
        "## Question 1\n",
        "Plot fasion-mnist dataset\n"
      ],
      "metadata": {
        "id": "YtUM2IAmytUJ"
      }
    },
    {
      "cell_type": "code",
      "source": [
        "wandb.init(project=\"CS6401\")\n",
        "(train_images, train_labels), (test_images, test_labels) = fashion_mnist.load_data()"
      ],
      "metadata": {
        "colab": {
          "base_uri": "https://localhost:8080/",
          "height": 300
        },
        "id": "9kBr5UEoyzzM",
        "outputId": "0871db1d-3412-41a8-944f-2ca5c59a2ade"
      },
      "execution_count": 4,
      "outputs": [
        {
          "output_type": "stream",
          "name": "stderr",
          "text": [
            "\u001b[34m\u001b[1mwandb\u001b[0m: Currently logged in as: \u001b[33mcs24m041\u001b[0m (\u001b[33mcs24m041-iit-madras\u001b[0m) to \u001b[32mhttps://api.wandb.ai\u001b[0m. Use \u001b[1m`wandb login --relogin`\u001b[0m to force relogin\n",
            "\u001b[34m\u001b[1mwandb\u001b[0m: Using wandb-core as the SDK backend.  Please refer to https://wandb.me/wandb-core for more information.\n"
          ]
        },
        {
          "output_type": "display_data",
          "data": {
            "text/plain": [
              "<IPython.core.display.HTML object>"
            ],
            "text/html": [
              "Tracking run with wandb version 0.19.6"
            ]
          },
          "metadata": {}
        },
        {
          "output_type": "display_data",
          "data": {
            "text/plain": [
              "<IPython.core.display.HTML object>"
            ],
            "text/html": [
              "Run data is saved locally in <code>/content/wandb/run-20250222_035955-ccteo8uo</code>"
            ]
          },
          "metadata": {}
        },
        {
          "output_type": "display_data",
          "data": {
            "text/plain": [
              "<IPython.core.display.HTML object>"
            ],
            "text/html": [
              "Syncing run <strong><a href='https://wandb.ai/cs24m041-iit-madras/CS6401/runs/ccteo8uo' target=\"_blank\">ruby-sound-1</a></strong> to <a href='https://wandb.ai/cs24m041-iit-madras/CS6401' target=\"_blank\">Weights & Biases</a> (<a href='https://wandb.me/developer-guide' target=\"_blank\">docs</a>)<br>"
            ]
          },
          "metadata": {}
        },
        {
          "output_type": "display_data",
          "data": {
            "text/plain": [
              "<IPython.core.display.HTML object>"
            ],
            "text/html": [
              " View project at <a href='https://wandb.ai/cs24m041-iit-madras/CS6401' target=\"_blank\">https://wandb.ai/cs24m041-iit-madras/CS6401</a>"
            ]
          },
          "metadata": {}
        },
        {
          "output_type": "display_data",
          "data": {
            "text/plain": [
              "<IPython.core.display.HTML object>"
            ],
            "text/html": [
              " View run at <a href='https://wandb.ai/cs24m041-iit-madras/CS6401/runs/ccteo8uo' target=\"_blank\">https://wandb.ai/cs24m041-iit-madras/CS6401/runs/ccteo8uo</a>"
            ]
          },
          "metadata": {}
        },
        {
          "output_type": "stream",
          "name": "stdout",
          "text": [
            "Downloading data from https://storage.googleapis.com/tensorflow/tf-keras-datasets/train-labels-idx1-ubyte.gz\n",
            "\u001b[1m29515/29515\u001b[0m \u001b[32m━━━━━━━━━━━━━━━━━━━━\u001b[0m\u001b[37m\u001b[0m \u001b[1m0s\u001b[0m 0us/step\n",
            "Downloading data from https://storage.googleapis.com/tensorflow/tf-keras-datasets/train-images-idx3-ubyte.gz\n",
            "\u001b[1m26421880/26421880\u001b[0m \u001b[32m━━━━━━━━━━━━━━━━━━━━\u001b[0m\u001b[37m\u001b[0m \u001b[1m0s\u001b[0m 0us/step\n",
            "Downloading data from https://storage.googleapis.com/tensorflow/tf-keras-datasets/t10k-labels-idx1-ubyte.gz\n",
            "\u001b[1m5148/5148\u001b[0m \u001b[32m━━━━━━━━━━━━━━━━━━━━\u001b[0m\u001b[37m\u001b[0m \u001b[1m0s\u001b[0m 0us/step\n",
            "Downloading data from https://storage.googleapis.com/tensorflow/tf-keras-datasets/t10k-images-idx3-ubyte.gz\n",
            "\u001b[1m4422102/4422102\u001b[0m \u001b[32m━━━━━━━━━━━━━━━━━━━━\u001b[0m\u001b[37m\u001b[0m \u001b[1m0s\u001b[0m 0us/step\n"
          ]
        }
      ]
    },
    {
      "cell_type": "code",
      "source": [
        "train_labels"
      ],
      "metadata": {
        "colab": {
          "base_uri": "https://localhost:8080/"
        },
        "id": "7vFkebcQz8-X",
        "outputId": "64dae65b-445b-42f2-d07f-e57535ac796d"
      },
      "execution_count": 5,
      "outputs": [
        {
          "output_type": "execute_result",
          "data": {
            "text/plain": [
              "array([9, 0, 0, ..., 3, 0, 5], dtype=uint8)"
            ]
          },
          "metadata": {},
          "execution_count": 5
        }
      ]
    },
    {
      "cell_type": "code",
      "source": [
        "# Define class names (corresponds to the labels 0-9)\n",
        "class_names = ['T-shirt/top', 'Trouser', 'Pullover', 'Dress', 'Coat',\n",
        "               'Sandal', 'Shirt', 'Sneaker', 'Bag', 'Ankle boot']\n",
        "\n",
        "sample_images = {}\n",
        "for label in range(10):\n",
        "    idx = next(i for i, l in enumerate(train_labels) if l == label)\n",
        "    sample_images[label] = train_images[idx]\n",
        "\n",
        "fig, axs = plt.subplots(2, 5, figsize=(12, 6))\n",
        "axs = axs.ravel()\n",
        "\n",
        "for i in range(10):\n",
        "    axs[i].imshow(sample_images[i], cmap='gray')\n",
        "    axs[i].set_title(class_names[i])\n",
        "    axs[i].axis('off')\n",
        "\n",
        "plt.tight_layout()\n",
        "\n",
        "wandb.log({\"Fashion MNIST Samples\": wandb.Image(fig)})\n",
        "\n",
        "plt.show()\n",
        "\n",
        "wandb.finish()"
      ],
      "metadata": {
        "colab": {
          "base_uri": "https://localhost:8080/",
          "height": 631
        },
        "id": "0NB48sGX0GHX",
        "outputId": "7eb709d0-5482-4543-a39e-249f782e2daa"
      },
      "execution_count": 8,
      "outputs": [
        {
          "output_type": "display_data",
          "data": {
            "text/plain": [
              "<Figure size 1200x600 with 10 Axes>"
            ],
            "image/png": "[encoded data removed]"
          },
          "metadata": {}
        },
        {
          "output_type": "display_data",
          "data": {
            "text/plain": [
              "<IPython.core.display.HTML object>"
            ],
            "text/html": []
          },
          "metadata": {}
        },
        {
          "output_type": "display_data",
          "data": {
            "text/plain": [
              "<IPython.core.display.HTML object>"
            ],
            "text/html": [
              " View run <strong style=\"color:#cdcd00\">ruby-sound-1</strong> at: <a href='https://wandb.ai/cs24m041-iit-madras/CS6401/runs/ccteo8uo' target=\"_blank\">https://wandb.ai/cs24m041-iit-madras/CS6401/runs/ccteo8uo</a><br> View project at: <a href='https://wandb.ai/cs24m041-iit-madras/CS6401' target=\"_blank\">https://wandb.ai/cs24m041-iit-madras/CS6401</a><br>Synced 5 W&B file(s), 1 media file(s), 0 artifact file(s) and 0 other file(s)"
            ]
          },
          "metadata": {}
        },
        {
          "output_type": "display_data",
          "data": {
            "text/plain": [
              "<IPython.core.display.HTML object>"
            ],
            "text/html": [
              "Find logs at: <code>./wandb/run-20250222_035955-ccteo8uo/logs</code>"
            ]
          },
          "metadata": {}
        }
      ]
    },
    {
      "cell_type": "markdown",
      "source": [
        "## Question 2\n",
        "Impliment feedforward neural network"
      ],
      "metadata": {
        "id": "YV49Jkl63SAC"
      }
    },
    {
      "cell_type": "markdown",
      "source": [
        "#### Actvation functions"
      ],
      "metadata": {
        "id": "tZI23ywT7rgT"
      }
    },
    {
      "cell_type": "code",
      "source": [
        "from abc import abstractmethod\n",
        "class ActivationFn:\n",
        "  @abstractmethod\n",
        "  def forward(X):\n",
        "    pass\n",
        "  @abstractmethod\n",
        "  def grad():\n",
        "    pass\n",
        "class Sigmoid(ActivationFn):\n",
        "  def forward(self,X):\n",
        "    return 1/(1+np.exp(-X))\n",
        "  def grad(self,X):\n",
        "    fx=self.forward(X)\n",
        "    return fx*(1-fx)\n",
        "class Tanh(ActivationFn):\n",
        "  def forward(self,X):\n",
        "    return np.tanh(X)\n",
        "  def grad(self,X):\n",
        "    return 1-self.forward(X)**2\n",
        "class ReLU(ActivationFn):\n",
        "  def forward(self,X):\n",
        "    return np.maximum(0,X)\n",
        "  def grad():\n",
        "    pass\n",
        "class softmax(ActivationFn):\n",
        "  def forward(self,X):\n",
        "    exps=np.exp(X)\n",
        "    return exps/np.sum(exps,axis=1,keepdims=True)\n",
        "  def grad():\n",
        "    pass"
      ],
      "metadata": {
        "id": "68hmN7R_-cuv"
      },
      "execution_count": 54,
      "outputs": []
    },
    {
      "cell_type": "code",
      "source": [],
      "metadata": {
        "id": "LKtcqjZ7R91b"
      },
      "execution_count": null,
      "outputs": []
    },
    {
      "cell_type": "markdown",
      "source": [
        "#### Loss functions"
      ],
      "metadata": {
        "id": "z91LzAQRIqWh"
      }
    },
    {
      "cell_type": "code",
      "source": [
        "def MSE(prediction,actual):\n",
        "  assert prediction.shape == actual.shape, \"Shapes of prediction and actual must be the same\"\n",
        "  diff=prediction-actual\n",
        "  sqr=diff**2\n",
        "  return np.mean(sqr)\n",
        "def crossEntropy(prediction,actual):\n",
        "  return -np.sum(actual*np.log(prediction))"
      ],
      "metadata": {
        "id": "Jvj_N6QlIxma"
      },
      "execution_count": 49,
      "outputs": []
    },
    {
      "cell_type": "markdown",
      "source": [
        "#### Layer"
      ],
      "metadata": {
        "id": "klFmzTvp-70o"
      }
    },
    {
      "cell_type": "code",
      "source": [
        "class fc_layer:\n",
        "  def __init__(self,n_inputs,n_output,activation_fn:ActivationFn=Sigmoid(),initialization=\"random\") :\n",
        "    if initialization==\"Xavier\":\n",
        "      pass\n",
        "    else:\n",
        "      self.weights=np.random.randn(n_inputs,n_output)\n",
        "      self.bias=np.random.randn(1,n_output)\n",
        "    self.activation_fn=activation_fn\n",
        "  def forward_pass(self,h_prev):\n",
        "    self.a_layer=np.dot(h_prev,self.weights)+self.bias\n",
        "    self.h_this=self.activation_fn.forward(self.a_layer)\n",
        "    return self.h_this\n",
        "\n",
        ""
      ],
      "metadata": {
        "id": "IT1pKvU5-_Lg"
      },
      "execution_count": 55,
      "outputs": []
    },
    {
      "cell_type": "code",
      "source": [
        "class Network:\n",
        "  def __init__(self):\n",
        "    self.layers=[]\n",
        "\n",
        "  def append_layer(self,layer:fc_layer):\n",
        "    self.layers.append(layer)\n",
        "\n",
        "  def forwad_pass_network(self,X):\n",
        "    self.input=X\n",
        "    temp=X\n",
        "    for layer in self.layers:\n",
        "      temp=layer.forward_pass(temp)\n",
        "    Y=temp\n",
        "    return Y\n",
        "\n",
        "  def backward_pass(self,Y_hat_set,Y_set):\n",
        "\n",
        "    grad_aL=-(Y_set-Y_hat_set)\n",
        "    grad_ak=grad_aL\n",
        "\n",
        "    for k in reversed(range(len(self.layers))):\n",
        "      layer=self.layers[k]\n",
        "      if k==0:\n",
        "        h_prev=self.input\n",
        "        grad_Wk=np.outer(grad_ak,h_prev)\n",
        "        grad_bk=grad_ak\n",
        "        # grad_h=np.dot(layer.weights.T,grad_ak)\n",
        "        # grad_ak=grad_h*(layer.activation_fn.grad(self.input))\n",
        "      else:\n",
        "        prev=self.layers[k-1]\n",
        "        h_prev=self.layers[k-1].h_this\n",
        "        grad_Wk=np.outer(grad_ak,h_prev)\n",
        "        grad_bk=grad_ak\n",
        "        grad_h=np.dot(layer.weights.T,grad_ak)\n",
        "        grad_ak=grad_h*prev.activation_fn.grad(prev.a_layer)\n"
      ],
      "metadata": {
        "id": "KIDEK_OyBpEQ"
      },
      "execution_count": 56,
      "outputs": []
    },
    {
      "cell_type": "code",
      "source": [
        "np.random.seed(1)\n",
        "nn=Network()\n",
        "fc_layer1=fc_layer(n_inputs=2,n_output=3)\n",
        "fc_layer2=fc_layer(n_inputs=3,n_output=2,activation_fn=softmax())\n",
        "nn.append_layer(fc_layer1)\n",
        "nn.append_layer(fc_layer2)\n",
        "X=np.array([[1,2],[3,4],[5,6]])\n",
        "print(X.shape)\n",
        "Y=nn.forwad_pass_network(X)\n",
        "print(Y)"
      ],
      "metadata": {
        "colab": {
          "base_uri": "https://localhost:8080/"
        },
        "id": "ob1i4ya5C43O",
        "outputId": "3f3325a6-1946-40c0-f7c1-5ae619f65516"
      },
      "execution_count": 57,
      "outputs": [
        {
          "output_type": "stream",
          "name": "stdout",
          "text": [
            "(3, 2)\n",
            "[[0.03609885 0.96390115]\n",
            " [0.02390269 0.97609731]\n",
            " [0.01849657 0.98150343]]\n"
          ]
        }
      ]
    },
    {
      "cell_type": "code",
      "source": [
        "crossEntropy(Y,np.array([[1,0],[0,1],[0,1]]))"
      ],
      "metadata": {
        "colab": {
          "base_uri": "https://localhost:8080/"
        },
        "id": "XLAKxvAcO5Lj",
        "outputId": "83f1ab0f-65c1-442f-add6-5cbf52ac10aa"
      },
      "execution_count": 47,
      "outputs": [
        {
          "output_type": "execute_result",
          "data": {
            "text/plain": [
              "11.045428658370723"
            ]
          },
          "metadata": {},
          "execution_count": 47
        }
      ]
    },
    {
      "cell_type": "markdown",
      "source": [
        "## Question 3\n",
        "Impliment backprop"
      ],
      "metadata": {
        "id": "-xDfSkh10hN2"
      }
    },
    {
      "cell_type": "code",
      "source": [
        "def gradient_descent(input,output,max_iter:int,model:Network):\n",
        "  t=0;\n",
        "  while t<max_iter:\n",
        "    Y_hat_set=model.forwad_pass_network(input)\n",
        "    model.backward_pass(Y_hat_set,output)\n",
        "    t+=1\n",
        "\n"
      ],
      "metadata": {
        "id": "XHP4emhNQcDS"
      },
      "execution_count": null,
      "outputs": []
    },
    {
      "cell_type": "markdown",
      "source": [
        "### Gradient Descent"
      ],
      "metadata": {
        "id": "C-Pvx_Ap3FFe"
      }
    },
    {
      "cell_type": "markdown",
      "source": [
        "### Stochastic Gradient descent"
      ],
      "metadata": {
        "id": "_1qPJh6x3Ic8"
      }
    },
    {
      "cell_type": "markdown",
      "source": [
        "### Moementum based Gradient descent"
      ],
      "metadata": {
        "id": "zgyf4eS03Zj7"
      }
    },
    {
      "cell_type": "markdown",
      "source": [
        "### Nestrov accelerated gradient descent"
      ],
      "metadata": {
        "id": "YLj6nXRd3e0L"
      }
    },
    {
      "cell_type": "markdown",
      "source": [
        "### RMSProp"
      ],
      "metadata": {
        "id": "8AtNwAPu3pUa"
      }
    },
    {
      "cell_type": "markdown",
      "source": [
        "### adam"
      ],
      "metadata": {
        "id": "Z-mtaYlD3tMI"
      }
    },
    {
      "cell_type": "markdown",
      "source": [
        "### nadam"
      ],
      "metadata": {
        "id": "QtoN_afs3up-"
      }
    },
    {
      "cell_type": "markdown",
      "source": [
        "## Question 4\n",
        "Best hyper parameter value"
      ],
      "metadata": {
        "id": "WqO7U8SU3za6"
      }
    },
    {
      "cell_type": "markdown",
      "source": [
        "- number of epochs: 5, 10\n",
        "- number of hidden layers:  3, 4, 5\n",
        "- size of every hidden layer:  32, 64, 128\n",
        "- weight decay (L2 regularisation): 0, 0.0005,  0.5\n",
        "- learning rate: 1e-3, 1 e-4\n",
        "- optimizer:  sgd, momentum, nesterov, rmsprop, adam, nadam\n",
        "- batch size: 16, 32, 64\n",
        "- weight initialisation: random, Xavier\n",
        "- activation functions: sigmoid, tanh, ReLU"
      ],
      "metadata": {
        "id": "BPS-_n9S4bK5"
      }
    },
    {
      "cell_type": "markdown",
      "source": [
        "## Question 5"
      ],
      "metadata": {
        "id": "wXdUULpD4kWX"
      }
    },
    {
      "cell_type": "markdown",
      "source": [
        "Best accuracy on validation set across all models"
      ],
      "metadata": {
        "id": "CLjWUWll4ync"
      }
    },
    {
      "cell_type": "markdown",
      "source": [
        "## Question 6"
      ],
      "metadata": {
        "id": "uMvdsY5147_Y"
      }
    },
    {
      "cell_type": "markdown",
      "source": [
        "inferences"
      ],
      "metadata": {
        "id": "HaKXJe4E5BPe"
      }
    },
    {
      "cell_type": "markdown",
      "source": [
        "## Question 7"
      ],
      "metadata": {
        "id": "IqhpT_LR5CKK"
      }
    },
    {
      "cell_type": "markdown",
      "source": [
        "Model with best accuracy on test set ,\n",
        "Plot confusion matrix"
      ],
      "metadata": {
        "id": "uofqR_Fc5RWB"
      }
    },
    {
      "cell_type": "markdown",
      "source": [
        "## Question 8"
      ],
      "metadata": {
        "id": "LDx-F51k5ZXF"
      }
    },
    {
      "cell_type": "markdown",
      "source": [
        "Compare MSE with cross entropy"
      ],
      "metadata": {
        "id": "_p2lXPB25fxJ"
      }
    },
    {
      "cell_type": "markdown",
      "source": [
        "## Quetion 9\n",
        "Link to github:https://github.com/sankarvinayak/DL-assignment1"
      ],
      "metadata": {
        "id": "m4cGkcOA5jyE"
      }
    },
    {
      "cell_type": "markdown",
      "source": [
        "## Question 10\n",
        "Recomendation of 3 set of hyperparameter for MNIST"
      ],
      "metadata": {
        "id": "NJjcwLZJ6BLO"
      }
    },
    {
      "cell_type": "code",
      "source": [],
      "metadata": {
        "id": "RifDWKCW6HKw"
      },
      "execution_count": null,
      "outputs": []
    }
  ]
}