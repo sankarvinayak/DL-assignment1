{
  "nbformat": 4,
  "nbformat_minor": 0,
  "metadata": {
    "colab": {
      "provenance": [],
      "authorship_tag": "ABX9TyN8xCBdzo5PEy3U9/0CAQCF",
      "include_colab_link": true
    },
    "kernelspec": {
      "name": "python3",
      "display_name": "Python 3"
    },
    "language_info": {
      "name": "python"
    }
  },
  "cells": [
    {
      "cell_type": "markdown",
      "metadata": {
        "id": "view-in-github",
        "colab_type": "text"
      },
      "source": [
        "<a href=\"https://colab.research.google.com/github/sankarvinayak/DL-assignment1/blob/main/DL_assignment_1.ipynb\" target=\"_parent\"><img src=\"https://colab.research.google.com/assets/colab-badge.svg\" alt=\"Open In Colab\"/></a>"
      ]
    },
    {
      "cell_type": "markdown",
      "source": [
        "# Assignment 1 DA6401 Deeplearning\n",
        "## Sankar Vinayak E P"
      ],
      "metadata": {
        "id": "zZ9fpn6qxs04"
      }
    },
    {
      "cell_type": "code",
      "source": [
        "!pip install wandb\n",
        "!wandb login"
      ],
      "metadata": {
        "colab": {
          "base_uri": "https://localhost:8080/"
        },
        "id": "w08wqkqpxsRg",
        "outputId": "242e7beb-ae6d-401a-96d1-0ee5ae53c8da"
      },
      "execution_count": 23,
      "outputs": [
        {
          "output_type": "stream",
          "name": "stdout",
          "text": [
            "Requirement already satisfied: wandb in /usr/local/lib/python3.11/dist-packages (0.19.6)\n",
            "Requirement already satisfied: click!=8.0.0,>=7.1 in /usr/local/lib/python3.11/dist-packages (from wandb) (8.1.8)\n",
            "Requirement already satisfied: docker-pycreds>=0.4.0 in /usr/local/lib/python3.11/dist-packages (from wandb) (0.4.0)\n",
            "Requirement already satisfied: gitpython!=3.1.29,>=1.0.0 in /usr/local/lib/python3.11/dist-packages (from wandb) (3.1.44)\n",
            "Requirement already satisfied: platformdirs in /usr/local/lib/python3.11/dist-packages (from wandb) (4.3.6)\n",
            "Requirement already satisfied: protobuf!=4.21.0,!=5.28.0,<6,>=3.19.0 in /usr/local/lib/python3.11/dist-packages (from wandb) (4.25.6)\n",
            "Requirement already satisfied: psutil>=5.0.0 in /usr/local/lib/python3.11/dist-packages (from wandb) (5.9.5)\n",
            "Requirement already satisfied: pydantic<3,>=2.6 in /usr/local/lib/python3.11/dist-packages (from wandb) (2.10.6)\n",
            "Requirement already satisfied: pyyaml in /usr/local/lib/python3.11/dist-packages (from wandb) (6.0.2)\n",
            "Requirement already satisfied: requests<3,>=2.0.0 in /usr/local/lib/python3.11/dist-packages (from wandb) (2.32.3)\n",
            "Requirement already satisfied: sentry-sdk>=2.0.0 in /usr/local/lib/python3.11/dist-packages (from wandb) (2.22.0)\n",
            "Requirement already satisfied: setproctitle in /usr/local/lib/python3.11/dist-packages (from wandb) (1.3.4)\n",
            "Requirement already satisfied: setuptools in /usr/local/lib/python3.11/dist-packages (from wandb) (75.1.0)\n",
            "Requirement already satisfied: typing-extensions<5,>=4.4 in /usr/local/lib/python3.11/dist-packages (from wandb) (4.12.2)\n",
            "Requirement already satisfied: six>=1.4.0 in /usr/local/lib/python3.11/dist-packages (from docker-pycreds>=0.4.0->wandb) (1.17.0)\n",
            "Requirement already satisfied: gitdb<5,>=4.0.1 in /usr/local/lib/python3.11/dist-packages (from gitpython!=3.1.29,>=1.0.0->wandb) (4.0.12)\n",
            "Requirement already satisfied: annotated-types>=0.6.0 in /usr/local/lib/python3.11/dist-packages (from pydantic<3,>=2.6->wandb) (0.7.0)\n",
            "Requirement already satisfied: pydantic-core==2.27.2 in /usr/local/lib/python3.11/dist-packages (from pydantic<3,>=2.6->wandb) (2.27.2)\n",
            "Requirement already satisfied: charset-normalizer<4,>=2 in /usr/local/lib/python3.11/dist-packages (from requests<3,>=2.0.0->wandb) (3.4.1)\n",
            "Requirement already satisfied: idna<4,>=2.5 in /usr/local/lib/python3.11/dist-packages (from requests<3,>=2.0.0->wandb) (3.10)\n",
            "Requirement already satisfied: urllib3<3,>=1.21.1 in /usr/local/lib/python3.11/dist-packages (from requests<3,>=2.0.0->wandb) (2.3.0)\n",
            "Requirement already satisfied: certifi>=2017.4.17 in /usr/local/lib/python3.11/dist-packages (from requests<3,>=2.0.0->wandb) (2025.1.31)\n",
            "Requirement already satisfied: smmap<6,>=3.0.1 in /usr/local/lib/python3.11/dist-packages (from gitdb<5,>=4.0.1->gitpython!=3.1.29,>=1.0.0->wandb) (5.0.2)\n",
            "\u001b[34m\u001b[1mwandb\u001b[0m: Currently logged in as: \u001b[33mcs24m041\u001b[0m (\u001b[33mcs24m041-iit-madras\u001b[0m) to \u001b[32mhttps://api.wandb.ai\u001b[0m. Use \u001b[1m`wandb login --relogin`\u001b[0m to force relogin\n"
          ]
        }
      ]
    },
    {
      "cell_type": "code",
      "execution_count": 24,
      "metadata": {
        "id": "bjP80yJTvBUI"
      },
      "outputs": [],
      "source": [
        "import wandb\n",
        "import matplotlib.pyplot as plt\n",
        "from keras.datasets import fashion_mnist\n",
        "import numpy as np\n",
        "np.random.seed(42)"
      ]
    },
    {
      "cell_type": "markdown",
      "source": [
        "## Question 1\n",
        "Plot fasion-mnist dataset\n"
      ],
      "metadata": {
        "id": "YtUM2IAmytUJ"
      }
    },
    {
      "cell_type": "code",
      "source": [
        "wandb.init(project=\"CS6401\")\n",
        "(train_images, train_labels), (test_images, test_labels) = fashion_mnist.load_data()"
      ],
      "metadata": {
        "colab": {
          "base_uri": "https://localhost:8080/",
          "height": 300
        },
        "id": "9kBr5UEoyzzM",
        "outputId": "0871db1d-3412-41a8-944f-2ca5c59a2ade"
      },
      "execution_count": null,
      "outputs": [
        {
          "output_type": "stream",
          "name": "stderr",
          "text": [
            "\u001b[34m\u001b[1mwandb\u001b[0m: Currently logged in as: \u001b[33mcs24m041\u001b[0m (\u001b[33mcs24m041-iit-madras\u001b[0m) to \u001b[32mhttps://api.wandb.ai\u001b[0m. Use \u001b[1m`wandb login --relogin`\u001b[0m to force relogin\n",
            "\u001b[34m\u001b[1mwandb\u001b[0m: Using wandb-core as the SDK backend.  Please refer to https://wandb.me/wandb-core for more information.\n"
          ]
        },
        {
          "output_type": "display_data",
          "data": {
            "text/plain": [
              "<IPython.core.display.HTML object>"
            ],
            "text/html": [
              "Tracking run with wandb version 0.19.6"
            ]
          },
          "metadata": {}
        },
        {
          "output_type": "display_data",
          "data": {
            "text/plain": [
              "<IPython.core.display.HTML object>"
            ],
            "text/html": [
              "Run data is saved locally in <code>/content/wandb/run-20250222_035955-ccteo8uo</code>"
            ]
          },
          "metadata": {}
        },
        {
          "output_type": "display_data",
          "data": {
            "text/plain": [
              "<IPython.core.display.HTML object>"
            ],
            "text/html": [
              "Syncing run <strong><a href='https://wandb.ai/cs24m041-iit-madras/CS6401/runs/ccteo8uo' target=\"_blank\">ruby-sound-1</a></strong> to <a href='https://wandb.ai/cs24m041-iit-madras/CS6401' target=\"_blank\">Weights & Biases</a> (<a href='https://wandb.me/developer-guide' target=\"_blank\">docs</a>)<br>"
            ]
          },
          "metadata": {}
        },
        {
          "output_type": "display_data",
          "data": {
            "text/plain": [
              "<IPython.core.display.HTML object>"
            ],
            "text/html": [
              " View project at <a href='https://wandb.ai/cs24m041-iit-madras/CS6401' target=\"_blank\">https://wandb.ai/cs24m041-iit-madras/CS6401</a>"
            ]
          },
          "metadata": {}
        },
        {
          "output_type": "display_data",
          "data": {
            "text/plain": [
              "<IPython.core.display.HTML object>"
            ],
            "text/html": [
              " View run at <a href='https://wandb.ai/cs24m041-iit-madras/CS6401/runs/ccteo8uo' target=\"_blank\">https://wandb.ai/cs24m041-iit-madras/CS6401/runs/ccteo8uo</a>"
            ]
          },
          "metadata": {}
        },
        {
          "output_type": "stream",
          "name": "stdout",
          "text": [
            "Downloading data from https://storage.googleapis.com/tensorflow/tf-keras-datasets/train-labels-idx1-ubyte.gz\n",
            "\u001b[1m29515/29515\u001b[0m \u001b[32m━━━━━━━━━━━━━━━━━━━━\u001b[0m\u001b[37m\u001b[0m \u001b[1m0s\u001b[0m 0us/step\n",
            "Downloading data from https://storage.googleapis.com/tensorflow/tf-keras-datasets/train-images-idx3-ubyte.gz\n",
            "\u001b[1m26421880/26421880\u001b[0m \u001b[32m━━━━━━━━━━━━━━━━━━━━\u001b[0m\u001b[37m\u001b[0m \u001b[1m0s\u001b[0m 0us/step\n",
            "Downloading data from https://storage.googleapis.com/tensorflow/tf-keras-datasets/t10k-labels-idx1-ubyte.gz\n",
            "\u001b[1m5148/5148\u001b[0m \u001b[32m━━━━━━━━━━━━━━━━━━━━\u001b[0m\u001b[37m\u001b[0m \u001b[1m0s\u001b[0m 0us/step\n",
            "Downloading data from https://storage.googleapis.com/tensorflow/tf-keras-datasets/t10k-images-idx3-ubyte.gz\n",
            "\u001b[1m4422102/4422102\u001b[0m \u001b[32m━━━━━━━━━━━━━━━━━━━━\u001b[0m\u001b[37m\u001b[0m \u001b[1m0s\u001b[0m 0us/step\n"
          ]
        }
      ]
    },
    {
      "cell_type": "code",
      "source": [
        "train_labels"
      ],
      "metadata": {
        "colab": {
          "base_uri": "https://localhost:8080/"
        },
        "id": "7vFkebcQz8-X",
        "outputId": "64dae65b-445b-42f2-d07f-e57535ac796d"
      },
      "execution_count": null,
      "outputs": [
        {
          "output_type": "execute_result",
          "data": {
            "text/plain": [
              "array([9, 0, 0, ..., 3, 0, 5], dtype=uint8)"
            ]
          },
          "metadata": {},
          "execution_count": 5
        }
      ]
    },
    {
      "cell_type": "code",
      "source": [
        "import wandb\n",
        "import matplotlib.pyplot as plt\n",
        "import numpy as np\n",
        "from keras.datasets import fashion_mnist\n",
        "run=wandb.init(project=\"fmnist\")\n",
        "(train_images, train_labels), _ = fashion_mnist.load_data()\n",
        "class_names = ['T-shirt/top', 'Trouser', 'Pullover', 'Dress', 'Coat',\n",
        "               'Sandal', 'Shirt', 'Sneaker', 'Bag', 'Ankle boot']\n",
        "\n",
        "sample_images = {}\n",
        "for label in range(10):\n",
        "    idx = np.where(train_labels == label)[0][0]\n",
        "    sample_images[label] = train_images[idx]\n",
        "\n",
        "list_log = []\n",
        "for label in sorted(sample_images.keys()):\n",
        "    caption = class_names[label]\n",
        "    im = sample_images[label]\n",
        "    list_log.append(wandb.Image(im, caption=caption))\n",
        "wandb.log({\"fasion mnist each class samples\": list_log})\n",
        "\n",
        "wandb.finish()\n"
      ],
      "metadata": {
        "colab": {
          "base_uri": "https://localhost:8080/",
          "height": 177
        },
        "id": "0NB48sGX0GHX",
        "outputId": "8de00e20-54f3-4b3c-e39b-7cc1ad3e6cfb"
      },
      "execution_count": 26,
      "outputs": [
        {
          "output_type": "display_data",
          "data": {
            "text/plain": [
              "<IPython.core.display.HTML object>"
            ],
            "text/html": [
              "Tracking run with wandb version 0.19.6"
            ]
          },
          "metadata": {}
        },
        {
          "output_type": "display_data",
          "data": {
            "text/plain": [
              "<IPython.core.display.HTML object>"
            ],
            "text/html": [
              "Run data is saved locally in <code>/content/wandb/run-20250224_125501-lyyskqqp</code>"
            ]
          },
          "metadata": {}
        },
        {
          "output_type": "display_data",
          "data": {
            "text/plain": [
              "<IPython.core.display.HTML object>"
            ],
            "text/html": [
              "Syncing run <strong><a href='https://wandb.ai/cs24m041-iit-madras/fmnist/runs/lyyskqqp' target=\"_blank\">dashing-blaze-2</a></strong> to <a href='https://wandb.ai/cs24m041-iit-madras/fmnist' target=\"_blank\">Weights & Biases</a> (<a href='https://wandb.me/developer-guide' target=\"_blank\">docs</a>)<br>"
            ]
          },
          "metadata": {}
        },
        {
          "output_type": "display_data",
          "data": {
            "text/plain": [
              "<IPython.core.display.HTML object>"
            ],
            "text/html": [
              " View project at <a href='https://wandb.ai/cs24m041-iit-madras/fmnist' target=\"_blank\">https://wandb.ai/cs24m041-iit-madras/fmnist</a>"
            ]
          },
          "metadata": {}
        },
        {
          "output_type": "display_data",
          "data": {
            "text/plain": [
              "<IPython.core.display.HTML object>"
            ],
            "text/html": [
              " View run at <a href='https://wandb.ai/cs24m041-iit-madras/fmnist/runs/lyyskqqp' target=\"_blank\">https://wandb.ai/cs24m041-iit-madras/fmnist/runs/lyyskqqp</a>"
            ]
          },
          "metadata": {}
        },
        {
          "output_type": "display_data",
          "data": {
            "text/plain": [
              "<IPython.core.display.HTML object>"
            ],
            "text/html": []
          },
          "metadata": {}
        },
        {
          "output_type": "display_data",
          "data": {
            "text/plain": [
              "<IPython.core.display.HTML object>"
            ],
            "text/html": [
              " View run <strong style=\"color:#cdcd00\">dashing-blaze-2</strong> at: <a href='https://wandb.ai/cs24m041-iit-madras/fmnist/runs/lyyskqqp' target=\"_blank\">https://wandb.ai/cs24m041-iit-madras/fmnist/runs/lyyskqqp</a><br> View project at: <a href='https://wandb.ai/cs24m041-iit-madras/fmnist' target=\"_blank\">https://wandb.ai/cs24m041-iit-madras/fmnist</a><br>Synced 5 W&B file(s), 10 media file(s), 0 artifact file(s) and 0 other file(s)"
            ]
          },
          "metadata": {}
        },
        {
          "output_type": "display_data",
          "data": {
            "text/plain": [
              "<IPython.core.display.HTML object>"
            ],
            "text/html": [
              "Find logs at: <code>./wandb/run-20250224_125501-lyyskqqp/logs</code>"
            ]
          },
          "metadata": {}
        }
      ]
    },
    {
      "cell_type": "markdown",
      "source": [
        "## Question 2\n",
        "Impliment feedforward neural network"
      ],
      "metadata": {
        "id": "YV49Jkl63SAC"
      }
    },
    {
      "cell_type": "markdown",
      "source": [
        "#### Actvation functions"
      ],
      "metadata": {
        "id": "tZI23ywT7rgT"
      }
    },
    {
      "cell_type": "code",
      "source": [
        "from abc import abstractmethod\n",
        "class ActivationFn:\n",
        "  @abstractmethod\n",
        "  def forward(self,X):\n",
        "      pass\n",
        "  @abstractmethod\n",
        "  def grad(self,X):\n",
        "      pass\n",
        "class Sigmoid(ActivationFn):\n",
        "  def forward(self, X):\n",
        "      return 1/(1 + np.exp(-X))\n",
        "  def grad(self,X):\n",
        "      forward_x = self.forward(X)\n",
        "      return forward_x*(1 - forward_x)\n",
        "class Tanh(ActivationFn):\n",
        "  def forward(self,X):\n",
        "    return np.tanh(X)\n",
        "  def grad(self,X):\n",
        "    return 1-self.forward(X)**2\n",
        "class ReLU(ActivationFn):\n",
        "  def forward(self,X):\n",
        "    return np.maximum(0,X)\n",
        "  def grad(self,X):\n",
        "    return np.where(X > 0, 1, 0)\n",
        "class Softmax(ActivationFn):\n",
        "  def forward(self,X):\n",
        "    X=X-np.max(X,axis=1,keepdims=True)\n",
        "    # print(np.sum(X))\n",
        "    exps=np.exp(X)\n",
        "    return exps/np.sum(exps,axis=1,keepdims=True)\n",
        "  def grad():\n",
        "    pass\n",
        "class Linear(ActivationFn):\n",
        "  def forward(self,X):\n",
        "    return X\n",
        "  def grad():\n",
        "    return 1"
      ],
      "metadata": {
        "id": "68hmN7R_-cuv"
      },
      "execution_count": 13,
      "outputs": []
    },
    {
      "cell_type": "code",
      "source": [],
      "metadata": {
        "id": "LKtcqjZ7R91b"
      },
      "execution_count": 2,
      "outputs": []
    },
    {
      "cell_type": "markdown",
      "source": [
        "#### Loss functions"
      ],
      "metadata": {
        "id": "z91LzAQRIqWh"
      }
    },
    {
      "cell_type": "code",
      "source": [
        "def MSE(prediction,actual):\n",
        "  assert prediction.shape==actual.shape, \"Shapes of prediction and actual must be the same\"\n",
        "  diff=prediction-actual\n",
        "  sqr=diff**2\n",
        "  return np.mean(sqr)\n",
        "# def CrossEntropy(prediction,actual):\n",
        "#   return -np.sum(actual*np.log(prediction)+1e-8,axis=1)\n",
        "#   # return -np.log(prediction[np.arange(len(prediction)), np.argmax(actual, axis=1)])\n",
        "\n",
        "def CrossEntropy(prediction, actual):\n",
        "    # Clip predictions to avoid log(0)\n",
        "    prediction = np.clip(prediction, 1e-15, 1.0)\n",
        "    return -np.sum(actual * np.log(prediction), axis=1)"
      ],
      "metadata": {
        "id": "Jvj_N6QlIxma"
      },
      "execution_count": 3,
      "outputs": []
    },
    {
      "cell_type": "code",
      "source": [
        "def one_hot_encode(labels, num_classes):\n",
        "    return np.eye(num_classes)[labels]"
      ],
      "metadata": {
        "id": "MPVIcY6F5v8N"
      },
      "execution_count": 4,
      "outputs": []
    },
    {
      "cell_type": "code",
      "source": [
        "def accuracy(y_true,y_pred):\n",
        "  y_pred=np.argmax(y_pred,axis=1)\n",
        "  return np.mean(y_pred==y_true)"
      ],
      "metadata": {
        "id": "c089kRuYyeKN"
      },
      "execution_count": 5,
      "outputs": []
    },
    {
      "cell_type": "markdown",
      "source": [
        "#### Layer"
      ],
      "metadata": {
        "id": "klFmzTvp-70o"
      }
    },
    {
      "cell_type": "code",
      "source": [
        "class fc_layer:\n",
        "  def __init__(self,n_inputs,n_output,activation_fn:ActivationFn=Sigmoid(),initialization=\"random\"):\n",
        "    if initialization==\"Xavier\":\n",
        "      pass\n",
        "    else:\n",
        "      self.weights=np.random.randn(n_inputs, n_output)*0.1\n",
        "      self.bias=np.random.randn(1, n_output)\n",
        "    self.grad_w=np.zeros_like(self.weights)\n",
        "    self.grad_b=np.zeros_like(self.bias)\n",
        "    self.u_w=np.zeros_like(self.weights)\n",
        "    self.u_b=np.zeros_like(self.bias)\n",
        "    self.activation_fn=activation_fn\n",
        "  def forward_pass(self, h_prev):\n",
        "    self.h_prev=h_prev\n",
        "    self.a_layer=np.dot(h_prev,self.weights)+self.bias\n",
        "    self.h_this=self.activation_fn.forward(self.a_layer)\n",
        "    return self.h_this\n",
        "  def zeroGrad(self):\n",
        "    self.grad_w=np.zeros_like(self.weights)\n",
        "    self.grad_b=np.zeros_like(self.bias)"
      ],
      "metadata": {
        "id": "IT1pKvU5-_Lg"
      },
      "execution_count": 6,
      "outputs": []
    },
    {
      "cell_type": "markdown",
      "source": [
        "#### Network"
      ],
      "metadata": {
        "id": "BfS4zQTQutNJ"
      }
    },
    {
      "cell_type": "code",
      "source": [
        "class Network:\n",
        "  def __init__(self):\n",
        "    self.layers=[]\n",
        "  def append_layer(self,layer:fc_layer):\n",
        "    self.layers.append(layer)\n",
        "  def forward_pass_network(self,X):\n",
        "    self.input=X\n",
        "    temp=X\n",
        "    # print(temp.shape)\n",
        "    for layer in self.layers:\n",
        "        temp=layer.forward_pass(temp)\n",
        "    self.output=temp\n",
        "    return self.output\n",
        "  def calculate_grad(self,Y_hat,Y_true):\n",
        "    batch_size=Y_true.shape[0]\n",
        "    grad_aL=-(Y_true-Y_hat)/batch_size\n",
        "    grad_ak=grad_aL\n",
        "    for k in reversed(range(len(self.layers))):\n",
        "        layer=self.layers[k]\n",
        "        if k==0:\n",
        "            h_prev=self.input\n",
        "        else:\n",
        "            h_prev=self.layers[k-1].h_this\n",
        "        layer.grad_w=np.dot(h_prev.T,grad_ak)\n",
        "        layer.grad_b=np.sum(grad_ak,axis=0,keepdims=True)\n",
        "        if k > 0:\n",
        "            grad_h=np.dot(grad_ak, layer.weights.T)\n",
        "            prev_layer=self.layers[k-1]\n",
        "            grad_ak=grad_h*prev_layer.activation_fn.grad(prev_layer.a_layer)\n",
        "  def zero_grad(self):\n",
        "    for layer in self.layers:\n",
        "        layer.zeroGrad()"
      ],
      "metadata": {
        "id": "KIDEK_OyBpEQ"
      },
      "execution_count": 7,
      "outputs": []
    },
    {
      "cell_type": "code",
      "source": [
        "np.random.seed(1)\n",
        "nn=Network()\n",
        "fc_layer1=fc_layer(n_inputs=2,n_output=3)\n",
        "fc_layer2=fc_layer(n_inputs=3,n_output=2,activation_fn=Softmax())\n",
        "nn.append_layer(fc_layer1)\n",
        "nn.append_layer(fc_layer2)\n",
        "X=np.array([[1,2],[3,4],[5,6]])\n",
        "print(X.shape)\n",
        "Y=nn.forward_pass_network(X)\n",
        "print(Y)"
      ],
      "metadata": {
        "colab": {
          "base_uri": "https://localhost:8080/"
        },
        "id": "ob1i4ya5C43O",
        "outputId": "77a55f45-87a5-45fe-b49b-4cfdd39fae63"
      },
      "execution_count": 8,
      "outputs": [
        {
          "output_type": "stream",
          "name": "stdout",
          "text": [
            "(3, 2)\n",
            "[[0.23144163 0.76855837]\n",
            " [0.23426373 0.76573627]\n",
            " [0.23647384 0.76352616]]\n"
          ]
        }
      ]
    },
    {
      "cell_type": "code",
      "source": [
        "CrossEntropy(Y,np.array([[1,0],[0,1],[0,1]]))"
      ],
      "metadata": {
        "colab": {
          "base_uri": "https://localhost:8080/"
        },
        "id": "XLAKxvAcO5Lj",
        "outputId": "3d5e02da-5b76-42f3-bc22-a678227910cb"
      },
      "execution_count": null,
      "outputs": [
        {
          "output_type": "execute_result",
          "data": {
            "text/plain": [
              "array([3.3214944 , 0.02419299, 0.01866977])"
            ]
          },
          "metadata": {},
          "execution_count": 8
        }
      ]
    },
    {
      "cell_type": "markdown",
      "source": [
        "## Question 3\n",
        "Impliment backprop"
      ],
      "metadata": {
        "id": "-xDfSkh10hN2"
      }
    },
    {
      "cell_type": "code",
      "source": [
        "def train_loop(X,Y,max_iter:int,model:Network,batch_size:int=None,beta=0.0,loss_fn=CrossEntropy,eta=0.01,print_iter=10,grad_algo=None,gd_type=None):\n",
        "    n_samples=X.shape[0]\n",
        "    if batch_size is None:\n",
        "      batch_size=n_samples\n",
        "    elif gd_type==\"SGD\":\n",
        "      batch_size=1\n",
        "    for epoch in range(max_iter):\n",
        "      permutation=np.random.permutation(n_samples)\n",
        "      X_shuffled=X[permutation]\n",
        "      Y_shuffled=Y[permutation]\n",
        "      epoch_loss=0\n",
        "      num_batches=0\n",
        "\n",
        "      for i in range(0, n_samples, batch_size):\n",
        "        batch_end=min(i + batch_size, n_samples)\n",
        "        X_batch=X_shuffled[i:batch_end]\n",
        "        Y_batch=Y_shuffled[i:batch_end]\n",
        "        if grad_algo==None:\n",
        "          batch_loss=vanilla_gradient_descent(X_batch,Y_batch,model,loss_fn,beta,eta)\n",
        "        elif grad_algo==\"momentum\":\n",
        "          batch_loss=momentum_based_gradient_descent(X_batch,Y_batch,model,loss_fn,beta,eta)\n",
        "        elif grad_algo==\"nesterov\":\n",
        "          batch_loss=nestrov_accelerated_gradient_descent(X_batch,Y_batch,model,loss_fn,beta,eta)\n",
        "        num_batches += 1\n",
        "        epoch_loss+=batch_loss\n",
        "\n",
        "      epoch_loss/=num_batches\n",
        "      if epoch%print_iter==0:\n",
        "          print(f\"Epoch {epoch}: Loss = {epoch_loss:.4f}\")\n",
        "\n",
        "def vanilla_gradient_descent(X_batch,Y_batch,model:Network,loss_fn,beta,eta):\n",
        "  model.zero_grad()\n",
        "  Y_hat=model.forward_pass_network(X_batch)\n",
        "  batch_loss_vec=loss_fn(Y_hat,Y_batch)\n",
        "  batch_loss=np.mean(batch_loss_vec)\n",
        "  model.calculate_grad(Y_hat,Y_batch)\n",
        "  for layer in model.layers:\n",
        "    layer.u_w=beta*layer.u_w+eta*layer.grad_w\n",
        "    layer.u_b=beta*layer.u_b+eta*layer.grad_b\n",
        "    layer.weights-=layer.u_w\n",
        "    layer.bias-=layer.u_b\n",
        "  return batch_loss"
      ],
      "metadata": {
        "id": "XHP4emhNQcDS"
      },
      "execution_count": 9,
      "outputs": []
    },
    {
      "cell_type": "code",
      "source": [
        "# Create a dummy dataset for classification\n",
        "n_samples = 100    # number of samples\n",
        "n_features = 4       # input features\n",
        "n_outputs = 3        # number of classes\n",
        "\n",
        "X = np.random.randn(n_samples, n_features)\n",
        "\n",
        "# Generate dummy one-hot encoded labels:\n",
        "Y_indices = np.random.randint(0, n_outputs, size=n_samples)\n",
        "Y = np.zeros((n_samples, n_outputs))\n",
        "Y[np.arange(n_samples), Y_indices] = 1\n",
        "# Build the network:\n",
        "net = Network()\n",
        "net.append_layer(fc_layer(n_inputs=n_features, n_output=5, activation_fn=Sigmoid()))\n",
        "net.append_layer(fc_layer(n_inputs=5, n_output=n_outputs, activation_fn=Softmax()))\n",
        "\n",
        "# Train using gradient descent with momentum:\n",
        "train_loop(X, Y, max_iter=10, model=net,  loss_fn=CrossEntropy, eta=0.01)\n",
        "print(X.shape,Y.shape)\n"
      ],
      "metadata": {
        "colab": {
          "base_uri": "https://localhost:8080/"
        },
        "id": "GGPtv6gKUy_D",
        "outputId": "272cd94f-cc7f-4da6-fefd-c75f7d7110aa"
      },
      "execution_count": null,
      "outputs": [
        {
          "output_type": "stream",
          "name": "stdout",
          "text": [
            "Epoch 0: Loss = 1.3191\n",
            "(100, 4) (100, 3)\n"
          ]
        }
      ]
    },
    {
      "cell_type": "markdown",
      "source": [
        "#### Fasion Mnist"
      ],
      "metadata": {
        "id": "a2hSEkoKwxqn"
      }
    },
    {
      "cell_type": "code",
      "source": [],
      "metadata": {
        "colab": {
          "base_uri": "https://localhost:8080/"
        },
        "id": "O67DOumww0dW",
        "outputId": "523e33c7-2bb6-41a8-b833-bc6fd041c0c3"
      },
      "execution_count": null,
      "outputs": [
        {
          "output_type": "stream",
          "name": "stdout",
          "text": [
            "Downloading data from https://storage.googleapis.com/tensorflow/tf-keras-datasets/train-labels-idx1-ubyte.gz\n",
            "\u001b[1m29515/29515\u001b[0m \u001b[32m━━━━━━━━━━━━━━━━━━━━\u001b[0m\u001b[37m\u001b[0m \u001b[1m0s\u001b[0m 0us/step\n",
            "Downloading data from https://storage.googleapis.com/tensorflow/tf-keras-datasets/train-images-idx3-ubyte.gz\n",
            "\u001b[1m26421880/26421880\u001b[0m \u001b[32m━━━━━━━━━━━━━━━━━━━━\u001b[0m\u001b[37m\u001b[0m \u001b[1m0s\u001b[0m 0us/step\n",
            "Downloading data from https://storage.googleapis.com/tensorflow/tf-keras-datasets/t10k-labels-idx1-ubyte.gz\n",
            "\u001b[1m5148/5148\u001b[0m \u001b[32m━━━━━━━━━━━━━━━━━━━━\u001b[0m\u001b[37m\u001b[0m \u001b[1m0s\u001b[0m 0us/step\n",
            "Downloading data from https://storage.googleapis.com/tensorflow/tf-keras-datasets/t10k-images-idx3-ubyte.gz\n",
            "\u001b[1m4422102/4422102\u001b[0m \u001b[32m━━━━━━━━━━━━━━━━━━━━\u001b[0m\u001b[37m\u001b[0m \u001b[1m0s\u001b[0m 0us/step\n"
          ]
        },
        {
          "output_type": "execute_result",
          "data": {
            "text/plain": [
              "(60000, 28, 28)"
            ]
          },
          "metadata": {},
          "execution_count": 13
        }
      ]
    },
    {
      "cell_type": "code",
      "source": [],
      "metadata": {
        "colab": {
          "base_uri": "https://localhost:8080/"
        },
        "id": "LtDuk6Mvw2px",
        "outputId": "8d2bb3c9-2591-4f7d-f5c3-6530a102641d"
      },
      "execution_count": null,
      "outputs": [
        {
          "output_type": "execute_result",
          "data": {
            "text/plain": [
              "((60000, 784), (10000, 784), (60000,), (10000,), 10)"
            ]
          },
          "metadata": {},
          "execution_count": 14
        }
      ]
    },
    {
      "cell_type": "code",
      "source": [],
      "metadata": {
        "id": "uau5F4Jjw4SA"
      },
      "execution_count": null,
      "outputs": []
    },
    {
      "cell_type": "code",
      "source": [],
      "metadata": {
        "colab": {
          "base_uri": "https://localhost:8080/"
        },
        "id": "6fANNvDHw4kU",
        "outputId": "da3fc966-8a48-4cd1-c767-da8d8c778522"
      },
      "execution_count": null,
      "outputs": [
        {
          "output_type": "stream",
          "name": "stderr",
          "text": [
            "<ipython-input-2-20d5c034241c>:11: RuntimeWarning: overflow encountered in exp\n",
            "  return 1/(1 + np.exp(-X))\n"
          ]
        },
        {
          "output_type": "stream",
          "name": "stdout",
          "text": [
            "Epoch 0: Loss = 2.6389\n",
            "Epoch 10: Loss = 2.3533\n",
            "Epoch 20: Loss = 2.3101\n",
            "Epoch 30: Loss = 2.3032\n",
            "Epoch 40: Loss = 2.3021\n",
            "Epoch 50: Loss = 2.3018\n",
            "Epoch 60: Loss = 2.3016\n",
            "Epoch 70: Loss = 2.3014\n",
            "Epoch 80: Loss = 2.3013\n",
            "Epoch 90: Loss = 2.3011\n"
          ]
        }
      ]
    },
    {
      "cell_type": "code",
      "source": [],
      "metadata": {
        "id": "__ymZHnryeHd",
        "colab": {
          "base_uri": "https://localhost:8080/"
        },
        "outputId": "34dc7b2e-2e8a-400c-b649-cf1b10e6e8e1"
      },
      "execution_count": null,
      "outputs": [
        {
          "output_type": "stream",
          "name": "stderr",
          "text": [
            "<ipython-input-2-20d5c034241c>:11: RuntimeWarning: overflow encountered in exp\n",
            "  return 1/(1 + np.exp(-X))\n"
          ]
        },
        {
          "output_type": "execute_result",
          "data": {
            "text/plain": [
              "0.21468333333333334"
            ]
          },
          "metadata": {},
          "execution_count": 62
        }
      ]
    },
    {
      "cell_type": "code",
      "source": [],
      "metadata": {
        "id": "bvQT8_ILyeE3"
      },
      "execution_count": null,
      "outputs": []
    },
    {
      "cell_type": "code",
      "source": [],
      "metadata": {
        "id": "axZvG-qwyeC1"
      },
      "execution_count": null,
      "outputs": []
    },
    {
      "cell_type": "code",
      "source": [],
      "metadata": {
        "id": "YSAnNZKTyeBn"
      },
      "execution_count": null,
      "outputs": []
    },
    {
      "cell_type": "code",
      "source": [],
      "metadata": {
        "id": "BTzA5tijyd9F"
      },
      "execution_count": null,
      "outputs": []
    },
    {
      "cell_type": "markdown",
      "source": [
        "### Gradient Descent"
      ],
      "metadata": {
        "id": "C-Pvx_Ap3FFe"
      }
    },
    {
      "cell_type": "markdown",
      "source": [
        "### Stochastic Gradient descent"
      ],
      "metadata": {
        "id": "_1qPJh6x3Ic8"
      }
    },
    {
      "cell_type": "code",
      "source": [],
      "metadata": {
        "id": "7WaihuCPP13Y"
      },
      "execution_count": null,
      "outputs": []
    },
    {
      "cell_type": "code",
      "source": [
        "\n",
        "# Build the network:\n",
        "net = Network()\n",
        "net.append_layer(fc_layer(n_inputs=n_features, n_output=5, activation_fn=Sigmoid()))\n",
        "net.append_layer(fc_layer(n_inputs=5, n_output=n_outputs, activation_fn=Softmax()))\n",
        "\n",
        "\n",
        "# SGD\n",
        "train_loop(X, Y, max_iter=10, model=net,  loss_fn=CrossEntropy, eta=0.01,gd_type=\"SGD\")\n",
        "\n"
      ],
      "metadata": {
        "colab": {
          "base_uri": "https://localhost:8080/"
        },
        "id": "anR9oYpEoDsK",
        "outputId": "446e4c74-cbb7-45c5-db88-bf218fced800"
      },
      "execution_count": null,
      "outputs": [
        {
          "output_type": "stream",
          "name": "stdout",
          "text": [
            "Epoch 0: Loss = 1.3723\n"
          ]
        }
      ]
    },
    {
      "cell_type": "markdown",
      "source": [
        "### Moementum based Gradient descent"
      ],
      "metadata": {
        "id": "zgyf4eS03Zj7"
      }
    },
    {
      "cell_type": "code",
      "source": [
        "def momentum_based_gradient_descent(X_batch,Y_batch,model:Network,loss_fn,beta,eta):\n",
        "  return vanilla_gradient_descent(X_batch,Y_batch,model,loss_fn,beta,eta)"
      ],
      "metadata": {
        "id": "zAhA9LsgQPYs"
      },
      "execution_count": 8,
      "outputs": []
    },
    {
      "cell_type": "code",
      "source": [
        "\n",
        "net = Network()\n",
        "net.append_layer(fc_layer(n_inputs=n_features, n_output=5, activation_fn=Sigmoid()))\n",
        "net.append_layer(fc_layer(n_inputs=5, n_output=n_outputs, activation_fn=Softmax()))\n",
        "\n",
        "\n",
        "# Train using gradient descent with momentum:\n",
        "train_loop(X, Y, max_iter=100, model=net,  loss_fn=CrossEntropy, eta=0.01,beta=0.8,grad_algo=\"momentum\")\n",
        "\n"
      ],
      "metadata": {
        "colab": {
          "base_uri": "https://localhost:8080/"
        },
        "id": "CQdSr0vsocVz",
        "outputId": "4f4c6713-eea7-4816-f16e-85b89737427b"
      },
      "execution_count": null,
      "outputs": [
        {
          "output_type": "stream",
          "name": "stdout",
          "text": [
            "Epoch 0: Loss = 1.3796\n",
            "Epoch 10: Loss = 1.2808\n",
            "Epoch 20: Loss = 1.1870\n",
            "Epoch 30: Loss = 1.1367\n",
            "Epoch 40: Loss = 1.1127\n",
            "Epoch 50: Loss = 1.1020\n",
            "Epoch 60: Loss = 1.0975\n",
            "Epoch 70: Loss = 1.0956\n",
            "Epoch 80: Loss = 1.0948\n",
            "Epoch 90: Loss = 1.0944\n"
          ]
        }
      ]
    },
    {
      "cell_type": "markdown",
      "source": [
        "### Nestrov accelerated gradient descent"
      ],
      "metadata": {
        "id": "YLj6nXRd3e0L"
      }
    },
    {
      "cell_type": "code",
      "source": [
        "# def nestrov_accelerated_gradient_descent(X,Y,max_iter:int,model:Network,batch_size:int=None,beta=0.0,loss_fn=CrossEntropy,eta=0.01):\n",
        "#     n_samples=X.shape[0]\n",
        "#     if batch_size is None:\n",
        "#       batch_size=n_samples\n",
        "#     for epoch in range(max_iter):\n",
        "#       permutation=np.random.permutation(n_samples)\n",
        "#       X_shuffled=X[permutation]\n",
        "#       Y_shuffled=Y[permutation]\n",
        "#       epoch_loss=0\n",
        "#       num_batches=0\n",
        "#       for i in range(0, n_samples, batch_size):\n",
        "#         batch_end=min(i + batch_size, n_samples)\n",
        "#         X_batch=X_shuffled[i:batch_end]\n",
        "#         Y_batch=Y_shuffled[i:batch_end]\n",
        "#         batch_loss=nestrov_accelerated_gradient_descent(X_batch,Y_batch,model:Network,loss_fn,beta,eta)\n",
        "#       epoch_loss/=num_batches\n",
        "#       if epoch%100==0:\n",
        "#           print(f\"Epoch {epoch}: Loss = {epoch_loss:.4f}\")\n",
        "def nestrov_accelerated_gradient_descent(X_batch,Y_batch,model:Network,loss_fn,beta,eta):\n",
        "    model.zero_grad()\n",
        "    for layer in model.layers:\n",
        "      layer.weights-=beta*layer.u_w\n",
        "      layer.bias-=beta*layer.u_b\n",
        "    Y_hat=model.forward_pass_network(X_batch)\n",
        "    batch_loss_vec=loss_fn(Y_hat,Y_batch)\n",
        "    batch_loss=np.mean(batch_loss_vec)\n",
        "    model.calculate_grad(Y_hat,Y_batch)\n",
        "    for layer in model.layers:\n",
        "      layer.u_w=beta*layer.u_w+eta*layer.grad_w\n",
        "      layer.u_b=beta*layer.u_b+eta*layer.grad_b\n",
        "      layer.weights-=layer.u_w\n",
        "      layer.bias-=layer.u_b\n",
        "    # print(batch_loss)\n",
        "    return batch_loss"
      ],
      "metadata": {
        "id": "HtufCPmjqCcT"
      },
      "execution_count": 10,
      "outputs": []
    },
    {
      "cell_type": "code",
      "source": [
        "\n",
        "net = Network()\n",
        "net.append_layer(fc_layer(n_inputs=n_features, n_output=5, activation_fn=Sigmoid()))\n",
        "net.append_layer(fc_layer(n_inputs=5, n_output=n_outputs, activation_fn=Softmax()))\n",
        "\n",
        "\n",
        "# Train using gradient descent with momentum:\n",
        "train_loop(X, Y, max_iter=10, model=net,  loss_fn=CrossEntropy, eta=0.01,beta=0.8,grad_algo=\"nesterov\")\n",
        "\n"
      ],
      "metadata": {
        "colab": {
          "base_uri": "https://localhost:8080/"
        },
        "id": "1XM10SxUvMn-",
        "outputId": "4f6a34fc-1f65-41d2-95d4-e556ffde34db"
      },
      "execution_count": null,
      "outputs": [
        {
          "output_type": "stream",
          "name": "stdout",
          "text": [
            "Epoch 0: Loss = 1.6038\n"
          ]
        }
      ]
    },
    {
      "cell_type": "markdown",
      "source": [
        "### RMSProp"
      ],
      "metadata": {
        "id": "8AtNwAPu3pUa"
      }
    },
    {
      "cell_type": "markdown",
      "source": [
        "### adam"
      ],
      "metadata": {
        "id": "Z-mtaYlD3tMI"
      }
    },
    {
      "cell_type": "markdown",
      "source": [
        "### nadam"
      ],
      "metadata": {
        "id": "QtoN_afs3up-"
      }
    },
    {
      "cell_type": "markdown",
      "source": [
        "## Question 4\n",
        "Best hyper parameter value"
      ],
      "metadata": {
        "id": "WqO7U8SU3za6"
      }
    },
    {
      "cell_type": "markdown",
      "source": [
        "- number of epochs: 5, 10\n",
        "- number of hidden layers:  3, 4, 5\n",
        "- size of every hidden layer:  32, 64, 128\n",
        "- weight decay (L2 regularisation): 0, 0.0005,  0.5\n",
        "- learning rate: 1e-3, 1 e-4\n",
        "- optimizer:  sgd, momentum, nesterov, rmsprop, adam, nadam\n",
        "- batch size: 16, 32, 64\n",
        "- weight initialisation: random, Xavier\n",
        "- activation functions: sigmoid, tanh, ReLU"
      ],
      "metadata": {
        "id": "BPS-_n9S4bK5"
      }
    },
    {
      "cell_type": "code",
      "source": [],
      "metadata": {
        "id": "inYP7YMpq_fi"
      },
      "execution_count": null,
      "outputs": []
    },
    {
      "cell_type": "code",
      "source": [
        "(x_train, y_train), (x_test, y_test) = fashion_mnist.load_data()\n",
        "x_train.shape"
      ],
      "metadata": {
        "id": "ksOjvhdKQ0wF",
        "outputId": "4bbc5dc3-0a2c-479b-9c5b-5d1553dcae3c",
        "colab": {
          "base_uri": "https://localhost:8080/"
        }
      },
      "execution_count": 37,
      "outputs": [
        {
          "output_type": "execute_result",
          "data": {
            "text/plain": [
              "(60000, 28, 28)"
            ]
          },
          "metadata": {},
          "execution_count": 37
        }
      ]
    },
    {
      "cell_type": "code",
      "source": [
        "x_train_flat=x_train.reshape(x_train.shape[0],-1)\n",
        "x_test_flat=x_test.reshape(x_test.shape[0],-1)\n",
        "x_train_flat.shape,x_test_flat.shape,y_train.shape,y_test.shape,np.unique(y_train).shape[0]"
      ],
      "metadata": {
        "id": "hjZ-Acx1Q0tT",
        "outputId": "16d54da2-d018-4f6e-8c42-3ffe57be50d0",
        "colab": {
          "base_uri": "https://localhost:8080/"
        }
      },
      "execution_count": 38,
      "outputs": [
        {
          "output_type": "execute_result",
          "data": {
            "text/plain": [
              "((60000, 784), (10000, 784), (60000,), (10000,), 10)"
            ]
          },
          "metadata": {},
          "execution_count": 38
        }
      ]
    },
    {
      "cell_type": "code",
      "source": [
        "inp_shp=x_train_flat.shape[1]\n",
        "out_shp=np.unique(y_train).shape[0]\n",
        "one_hot_y_train=one_hot_encode(y_train,out_shp)"
      ],
      "metadata": {
        "id": "IdchyuHYQ0rI"
      },
      "execution_count": 39,
      "outputs": []
    },
    {
      "cell_type": "code",
      "source": [
        "\n",
        "net = Network()\n",
        "net.append_layer(fc_layer(n_inputs=inp_shp, n_output=128, activation_fn=Tanh()))\n",
        "net.append_layer(fc_layer(n_inputs=128, n_output=128, activation_fn=Tanh()))\n",
        "net.append_layer(fc_layer(n_inputs=128, n_output=128, activation_fn=Tanh()))\n",
        "net.append_layer(fc_layer(n_inputs=128, n_output=out_shp, activation_fn=Softmax()))"
      ],
      "metadata": {
        "id": "BD76M2KNTBRW"
      },
      "execution_count": 40,
      "outputs": []
    },
    {
      "cell_type": "code",
      "source": [
        "train_loop(X=x_train_flat, Y=one_hot_y_train, max_iter=100, batch_size=512,model=net,beta=0.9,  loss_fn=CrossEntropy, eta=0.005,print_iter=10,grad_algo=\"momentum\")"
      ],
      "metadata": {
        "id": "LlLhxqoaQ0ox",
        "outputId": "eacd7a2b-6a19-424e-841c-70da00d330de",
        "colab": {
          "base_uri": "https://localhost:8080/"
        }
      },
      "execution_count": 42,
      "outputs": [
        {
          "output_type": "stream",
          "name": "stdout",
          "text": [
            "Epoch 0: Loss = 1.2684\n",
            "Epoch 10: Loss = 0.6675\n",
            "Epoch 20: Loss = 0.6604\n",
            "Epoch 30: Loss = 0.6072\n",
            "Epoch 40: Loss = 0.6705\n",
            "Epoch 50: Loss = 0.5774\n",
            "Epoch 60: Loss = 0.6251\n",
            "Epoch 70: Loss = 0.5986\n",
            "Epoch 80: Loss = 0.6113\n",
            "Epoch 90: Loss = 0.5783\n"
          ]
        }
      ]
    },
    {
      "cell_type": "code",
      "source": [
        "y_pred=net.forward_pass_network(x_train_flat)\n",
        "accuracy(y_train,y_pred)"
      ],
      "metadata": {
        "id": "vU5U5sv8Q0mY",
        "colab": {
          "base_uri": "https://localhost:8080/"
        },
        "outputId": "657e0cea-8da4-4f90-c123-9ba8662fc273"
      },
      "execution_count": 16,
      "outputs": [
        {
          "output_type": "stream",
          "name": "stderr",
          "text": [
            "<ipython-input-2-abd793ab2455>:11: RuntimeWarning: overflow encountered in exp\n",
            "  return 1/(1 + np.exp(-X))\n"
          ]
        },
        {
          "output_type": "execute_result",
          "data": {
            "text/plain": [
              "0.8361333333333333"
            ]
          },
          "metadata": {},
          "execution_count": 16
        }
      ]
    },
    {
      "cell_type": "code",
      "source": [
        "y_pred=net.forward_pass_network(x_test_flat)\n",
        "accuracy(y_test,y_pred)"
      ],
      "metadata": {
        "id": "LvypX6LHQ0kI",
        "colab": {
          "base_uri": "https://localhost:8080/"
        },
        "outputId": "ade2eb7f-e6dc-49be-e044-17d25a697f3f"
      },
      "execution_count": 17,
      "outputs": [
        {
          "output_type": "stream",
          "name": "stderr",
          "text": [
            "<ipython-input-2-abd793ab2455>:11: RuntimeWarning: overflow encountered in exp\n",
            "  return 1/(1 + np.exp(-X))\n"
          ]
        },
        {
          "output_type": "execute_result",
          "data": {
            "text/plain": [
              "0.8154"
            ]
          },
          "metadata": {},
          "execution_count": 17
        }
      ]
    },
    {
      "cell_type": "code",
      "source": [
        "import wandb\n",
        "import datetime\n",
        "import time"
      ],
      "metadata": {
        "id": "XDJkDkDWQ0hp",
        "colab": {
          "base_uri": "https://localhost:8080/",
          "height": 145
        },
        "outputId": "b5fe21d0-9f97-4003-b6c0-a38094054722"
      },
      "execution_count": 15,
      "outputs": [
        {
          "output_type": "stream",
          "name": "stderr",
          "text": [
            "\u001b[34m\u001b[1mwandb\u001b[0m: Currently logged in as: \u001b[33mcs24m041\u001b[0m (\u001b[33mcs24m041-iit-madras\u001b[0m) to \u001b[32mhttps://api.wandb.ai\u001b[0m. Use \u001b[1m`wandb login --relogin`\u001b[0m to force relogin\n",
            "\u001b[34m\u001b[1mwandb\u001b[0m: Using wandb-core as the SDK backend.  Please refer to https://wandb.me/wandb-core for more information.\n"
          ]
        },
        {
          "output_type": "display_data",
          "data": {
            "text/plain": [
              "<IPython.core.display.HTML object>"
            ],
            "text/html": [
              "Tracking run with wandb version 0.19.6"
            ]
          },
          "metadata": {}
        },
        {
          "output_type": "display_data",
          "data": {
            "text/plain": [
              "<IPython.core.display.HTML object>"
            ],
            "text/html": [
              "Run data is saved locally in <code>/content/wandb/run-20250224_111653-ovb0u7dk</code>"
            ]
          },
          "metadata": {}
        },
        {
          "output_type": "display_data",
          "data": {
            "text/plain": [
              "<IPython.core.display.HTML object>"
            ],
            "text/html": [
              "Syncing run <strong><a href='https://wandb.ai/cs24m041-iit-madras/fmnist/runs/ovb0u7dk' target=\"_blank\">crisp-dust-1</a></strong> to <a href='https://wandb.ai/cs24m041-iit-madras/fmnist' target=\"_blank\">Weights & Biases</a> (<a href='https://wandb.me/developer-guide' target=\"_blank\">docs</a>)<br>"
            ]
          },
          "metadata": {}
        },
        {
          "output_type": "display_data",
          "data": {
            "text/plain": [
              "<IPython.core.display.HTML object>"
            ],
            "text/html": [
              " View project at <a href='https://wandb.ai/cs24m041-iit-madras/fmnist' target=\"_blank\">https://wandb.ai/cs24m041-iit-madras/fmnist</a>"
            ]
          },
          "metadata": {}
        },
        {
          "output_type": "display_data",
          "data": {
            "text/plain": [
              "<IPython.core.display.HTML object>"
            ],
            "text/html": [
              " View run at <a href='https://wandb.ai/cs24m041-iit-madras/fmnist/runs/ovb0u7dk' target=\"_blank\">https://wandb.ai/cs24m041-iit-madras/fmnist/runs/ovb0u7dk</a>"
            ]
          },
          "metadata": {}
        }
      ]
    },
    {
      "cell_type": "code",
      "source": [
        "run = wandb.init(project=\"fmnist\")\n",
        "global_table = wandb.Table(columns=[\"created\", \"accuracy\"])\n",
        "\n",
        "\n",
        "def log_accuracy_entry(current_accuracy):\n",
        "    # Get the current timestamp in epoch seconds (numerical, which works well for plotting)\n",
        "    # Get the current time\n",
        "    now = datetime.datetime.now()\n",
        "    # Numeric timestamp (for plotting)\n",
        "    created = now.timestamp()\n",
        "    # Formatted timestamp string (date, time)\n",
        "    created_str = now.strftime(\"%Y-%m-%d, %H:%M:%S\")\n",
        "\n",
        "    # Append a new row to the global table\n",
        "    global_table.add_data(created_str, current_accuracy)\n",
        "\n",
        "    # Log a scatter plot; using the same key \"accuracy_vs_created\" will update the same plot each time.\n",
        "    wandb.log({\n",
        "        \"accuracy_vs_created\": wandb.plot.scatter(\n",
        "            global_table,\n",
        "            \"created\",  # x-axis: timestamp\n",
        "            \"accuracy\", # y-axis: accuracy\n",
        "            title=\"Accuracy vs Created\"\n",
        "        )\n",
        "    })\n"
      ],
      "metadata": {
        "id": "OYmc4qKfQ0fN"
      },
      "execution_count": 21,
      "outputs": []
    },
    {
      "cell_type": "code",
      "source": [
        "log_accuracy_entry(0.8361333333333333)"
      ],
      "metadata": {
        "id": "x8rsztAkQ0ca"
      },
      "execution_count": 22,
      "outputs": []
    },
    {
      "cell_type": "code",
      "source": [
        "import wandb\n",
        "import datetime\n",
        "import time\n",
        "\n",
        "# Initialize wandb run\n",
        "run = wandb.init(project=\"my-awesome-project\")\n",
        "\n",
        "# Create a global table with three columns:\n",
        "# \"created\" (numeric timestamp), \"accuracy\", and \"created_str\" (formatted timestamp)\n",
        "global_table = wandb.Table(columns=[\"created\", \"accuracy\", \"created_str\"])\n",
        "\n",
        "def log_accuracy_entry(current_accuracy):\n",
        "    # Get the current time\n",
        "    now = datetime.datetime.now()\n",
        "    # Numeric timestamp (for plotting)\n",
        "    created = now.timestamp()\n",
        "    # Formatted timestamp string (date, time)\n",
        "    created_str = now.strftime(\"%Y-%m-%d, %H:%M:%S\")\n",
        "\n",
        "    # Add a new row to the table\n",
        "    global_table.add_data(created, current_accuracy, created_str)\n",
        "\n",
        "    # Create a scatter plot using the numeric \"created\" column as the x-axis and \"accuracy\" as y-axis.\n",
        "    # Although the x-axis uses the numeric value, you can reference \"created_str\" in the table for display.\n",
        "    scatter_plot = wandb.plot.scatter(\n",
        "        global_table,\n",
        "        \"created\",\n",
        "        \"accuracy\",\n",
        "        title=\"Accuracy vs Created\"\n",
        "    )\n",
        "\n",
        "    # Log the updated scatter plot under the same key.\n",
        "    wandb.log({\"accuracy_vs_created\": scatter_plot})\n",
        "\n",
        "# Example usage: log a few entries with a short delay between them\n",
        "log_accuracy_entry(0.85)\n",
        "time.sleep(1)\n",
        "log_accuracy_entry(0.87)\n",
        "time.sleep(1)\n",
        "log_accuracy_entry(0.90)\n"
      ],
      "metadata": {
        "id": "kybCJpjgQ0Z8"
      },
      "execution_count": 18,
      "outputs": []
    },
    {
      "cell_type": "code",
      "source": [],
      "metadata": {
        "id": "kWjOs_zuQ0Xq"
      },
      "execution_count": null,
      "outputs": []
    },
    {
      "cell_type": "code",
      "source": [
        "import wandb\n",
        "\n",
        "sweep_config = {\n",
        "    \"method\": \"grid\",\n",
        "    \"metric\": {\n",
        "        \"name\": \"val_accuracy\",\n",
        "        \"goal\": \"maximize\"\n",
        "    },\n",
        "    \"parameters\": {\n",
        "        \"learning_rate\": {\n",
        "            \"values\": [0.1, 0.01]\n",
        "        },\n",
        "        \"epochs\": {\n",
        "            \"values\": [10, 50]\n",
        "        },\n",
        "        \"batch_size\": {\n",
        "            \"values\": [256, 512]\n",
        "        }\n",
        "    }\n",
        "}\n",
        "\n",
        "sweep_id = wandb.sweep(sweep_config, project=\"sweep_trail_run\")\n",
        "print(\"Sweep ID:\", sweep_id)\n"
      ],
      "metadata": {
        "id": "smZoJSuLQ0VK",
        "colab": {
          "base_uri": "https://localhost:8080/"
        },
        "outputId": "b4178667-2473-47fd-da52-fc36b847c772"
      },
      "execution_count": 45,
      "outputs": [
        {
          "output_type": "stream",
          "name": "stdout",
          "text": [
            "Create sweep with ID: tspojoe6\n",
            "Sweep URL: https://wandb.ai/cs24m041-iit-madras/sweep_trail_run/sweeps/tspojoe6\n",
            "Sweep ID: tspojoe6\n"
          ]
        }
      ]
    },
    {
      "cell_type": "code",
      "source": [
        "def wandtrain(config=None):\n",
        "    with wandb.init(config=config):\n",
        "      config = wandb.config\n",
        "      lr=config.learning_rate\n",
        "      epochs=config.epochs\n",
        "      batch_size=config.batch_size\n",
        "      train_loop(X=x_train_flat, Y=one_hot_y_train, max_iter=epochs, batch_size=batch_size,model=net,beta=0.9,  loss_fn=CrossEntropy, eta=0.005,print_iter=10,grad_algo=\"momentum\")\n",
        "      y_pred=net.forward_pass_network(x_test_flat)\n",
        "      train_accuracy=accuracy(y_test,y_pred)\n",
        "      wandb.log({\"train_accuracy\":train_accuracy})"
      ],
      "metadata": {
        "id": "IpeQxxagQ0Sr"
      },
      "execution_count": 46,
      "outputs": []
    },
    {
      "cell_type": "code",
      "source": [
        "wandb.agent(sweep_id, wandtrain, count=5)"
      ],
      "metadata": {
        "id": "Bl3NEFSMQ0QG",
        "colab": {
          "base_uri": "https://localhost:8080/",
          "height": 1000
        },
        "outputId": "268efe03-b694-4a93-ed57-0875116fe49b"
      },
      "execution_count": 48,
      "outputs": [
        {
          "output_type": "stream",
          "name": "stderr",
          "text": [
            "\u001b[34m\u001b[1mwandb\u001b[0m: \u001b[33mWARNING\u001b[0m Calling wandb.login() after wandb.init() has no effect.\n",
            "\u001b[34m\u001b[1mwandb\u001b[0m: Agent Starting Run: qj6rtszn with config:\n",
            "\u001b[34m\u001b[1mwandb\u001b[0m: \tbatch_size: 256\n",
            "\u001b[34m\u001b[1mwandb\u001b[0m: \tepochs: 10\n",
            "\u001b[34m\u001b[1mwandb\u001b[0m: \tlearning_rate: 0.01\n",
            "Exception in thread Thread-36 (_run_job):\n",
            "Traceback (most recent call last):\n",
            "  File \"/usr/local/lib/python3.11/dist-packages/wandb/agents/pyagent.py\", line 306, in _run_job\n",
            "    self._function()\n",
            "  File \"<ipython-input-46-5ba848d86590>\", line 2, in wandtrain\n",
            "  File \"/usr/local/lib/python3.11/dist-packages/wandb/sdk/wandb_init.py\", line 1485, in init\n",
            "    wandb._sentry.reraise(e)\n",
            "  File \"/usr/local/lib/python3.11/dist-packages/wandb/analytics/sentry.py\", line 156, in reraise\n",
            "    raise exc.with_traceback(sys.exc_info()[2])\n",
            "  File \"/usr/local/lib/python3.11/dist-packages/wandb/sdk/wandb_init.py\", line 1471, in init\n",
            "    return wi.init(run_settings, run_config)\n",
            "           ^^^^^^^^^^^^^^^^^^^^^^^^^^^^^^^^^\n",
            "  File \"/usr/local/lib/python3.11/dist-packages/wandb/sdk/wandb_init.py\", line 784, in init\n",
            "    with telemetry.context() as tel:\n",
            "  File \"/usr/local/lib/python3.11/dist-packages/wandb/sdk/lib/telemetry.py\", line 42, in __exit__\n",
            "    self._run._telemetry_callback(self._obj)\n",
            "  File \"/usr/local/lib/python3.11/dist-packages/wandb/sdk/wandb_run.py\", line 741, in _telemetry_callback\n",
            "    self._telemetry_flush()\n",
            "  File \"/usr/local/lib/python3.11/dist-packages/wandb/sdk/wandb_run.py\", line 754, in _telemetry_flush\n",
            "    self._backend.interface._publish_telemetry(self._telemetry_obj)\n",
            "  File \"/usr/local/lib/python3.11/dist-packages/wandb/sdk/interface/interface_shared.py\", line 101, in _publish_telemetry\n",
            "    self._publish(rec)\n",
            "  File \"/usr/local/lib/python3.11/dist-packages/wandb/sdk/interface/interface_sock.py\", line 47, in _publish\n",
            "    self._sock_client.send_record_publish(record)\n",
            "  File \"/usr/local/lib/python3.11/dist-packages/wandb/sdk/lib/sock_client.py\", line 222, in send_record_publish\n",
            "    self.send_server_request(server_req)\n",
            "  File \"/usr/local/lib/python3.11/dist-packages/wandb/sdk/lib/sock_client.py\", line 154, in send_server_request\n",
            "    self._send_message(msg)\n",
            "  File \"/usr/local/lib/python3.11/dist-packages/wandb/sdk/lib/sock_client.py\", line 151, in _send_message\n",
            "    self._sendall_with_error_handle(header + data)\n",
            "  File \"/usr/local/lib/python3.11/dist-packages/wandb/sdk/lib/sock_client.py\", line 130, in _sendall_with_error_handle\n",
            "    sent = self._sock.send(data)\n",
            "           ^^^^^^^^^^^^^^^^^^^^^\n",
            "BrokenPipeError: [Errno 32] Broken pipe\n",
            "\n",
            "During handling of the above exception, another exception occurred:\n",
            "\n",
            "Traceback (most recent call last):\n",
            "  File \"/usr/lib/python3.11/threading.py\", line 1045, in _bootstrap_inner\n",
            "    self.run()\n",
            "  File \"/usr/lib/python3.11/threading.py\", line 982, in run\n",
            "    self._target(*self._args, **self._kwargs)\n",
            "  File \"/usr/local/lib/python3.11/dist-packages/wandb/agents/pyagent.py\", line 311, in _run_job\n",
            "    wandb.finish(exit_code=1)\n",
            "  File \"/usr/local/lib/python3.11/dist-packages/wandb/sdk/wandb_run.py\", line 4137, in finish\n",
            "    wandb.run.finish(exit_code=exit_code, quiet=quiet)\n",
            "  File \"/usr/local/lib/python3.11/dist-packages/wandb/sdk/wandb_run.py\", line 441, in wrapper\n",
            "    return func(self, *args, **kwargs)\n",
            "           ^^^^^^^^^^^^^^^^^^^^^^^^^^^\n",
            "  File \"/usr/local/lib/python3.11/dist-packages/wandb/sdk/wandb_run.py\", line 383, in wrapper\n",
            "    return func(self, *args, **kwargs)\n",
            "           ^^^^^^^^^^^^^^^^^^^^^^^^^^^\n",
            "  File \"/usr/local/lib/python3.11/dist-packages/wandb/sdk/wandb_run.py\", line 2104, in finish\n",
            "    return self._finish(exit_code)\n",
            "           ^^^^^^^^^^^^^^^^^^^^^^^\n",
            "  File \"/usr/local/lib/python3.11/dist-packages/wandb/sdk/wandb_run.py\", line 2111, in _finish\n",
            "    with telemetry.context(run=self) as tel:\n",
            "  File \"/usr/local/lib/python3.11/dist-packages/wandb/sdk/lib/telemetry.py\", line 42, in __exit__\n",
            "    self._run._telemetry_callback(self._obj)\n",
            "  File \"/usr/local/lib/python3.11/dist-packages/wandb/sdk/wandb_run.py\", line 741, in _telemetry_callback\n",
            "    self._telemetry_flush()\n",
            "  File \"/usr/local/lib/python3.11/dist-packages/wandb/sdk/wandb_run.py\", line 754, in _telemetry_flush\n",
            "    self._backend.interface._publish_telemetry(self._telemetry_obj)\n",
            "  File \"/usr/local/lib/python3.11/dist-packages/wandb/sdk/interface/interface_shared.py\", line 101, in _publish_telemetry\n",
            "    self._publish(rec)\n",
            "  File \"/usr/local/lib/python3.11/dist-packages/wandb/sdk/interface/interface_sock.py\", line 47, in _publish\n",
            "    self._sock_client.send_record_publish(record)\n",
            "  File \"/usr/local/lib/python3.11/dist-packages/wandb/sdk/lib/sock_client.py\", line 222, in send_record_publish\n",
            "    self.send_server_request(server_req)\n",
            "  File \"/usr/local/lib/python3.11/dist-packages/wandb/sdk/lib/sock_client.py\", line 154, in send_server_request\n",
            "    self._send_message(msg)\n",
            "  File \"/usr/local/lib/python3.11/dist-packages/wandb/sdk/lib/sock_client.py\", line 151, in _send_message\n",
            "    self._sendall_with_error_handle(header + data)\n",
            "  File \"/usr/local/lib/python3.11/dist-packages/wandb/sdk/lib/sock_client.py\", line 130, in _sendall_with_error_handle\n",
            "    sent = self._sock.send(data)\n",
            "           ^^^^^^^^^^^^^^^^^^^^^\n",
            "BrokenPipeError: [Errno 32] Broken pipe\n"
          ]
        },
        {
          "output_type": "stream",
          "name": "stdout",
          "text": [
            "Epoch 0: Loss = 0.6312\n"
          ]
        },
        {
          "output_type": "stream",
          "name": "stderr",
          "text": [
            "\u001b[34m\u001b[1mwandb\u001b[0m: Agent Starting Run: s55v6fqo with config:\n",
            "\u001b[34m\u001b[1mwandb\u001b[0m: \tbatch_size: 256\n",
            "\u001b[34m\u001b[1mwandb\u001b[0m: \tepochs: 50\n",
            "\u001b[34m\u001b[1mwandb\u001b[0m: \tlearning_rate: 0.1\n",
            "Exception in thread Thread-37 (_run_job):\n",
            "Traceback (most recent call last):\n",
            "  File \"/usr/local/lib/python3.11/dist-packages/wandb/agents/pyagent.py\", line 306, in _run_job\n",
            "    self._function()\n",
            "  File \"<ipython-input-46-5ba848d86590>\", line 2, in wandtrain\n",
            "  File \"/usr/local/lib/python3.11/dist-packages/wandb/sdk/wandb_init.py\", line 1485, in init\n",
            "    wandb._sentry.reraise(e)\n",
            "  File \"/usr/local/lib/python3.11/dist-packages/wandb/analytics/sentry.py\", line 156, in reraise\n",
            "    raise exc.with_traceback(sys.exc_info()[2])\n",
            "  File \"/usr/local/lib/python3.11/dist-packages/wandb/sdk/wandb_init.py\", line 1471, in init\n",
            "    return wi.init(run_settings, run_config)\n",
            "           ^^^^^^^^^^^^^^^^^^^^^^^^^^^^^^^^^\n",
            "  File \"/usr/local/lib/python3.11/dist-packages/wandb/sdk/wandb_init.py\", line 784, in init\n",
            "    with telemetry.context() as tel:\n",
            "  File \"/usr/local/lib/python3.11/dist-packages/wandb/sdk/lib/telemetry.py\", line 42, in __exit__\n",
            "    self._run._telemetry_callback(self._obj)\n",
            "  File \"/usr/local/lib/python3.11/dist-packages/wandb/sdk/wandb_run.py\", line 741, in _telemetry_callback\n",
            "    self._telemetry_flush()\n",
            "  File \"/usr/local/lib/python3.11/dist-packages/wandb/sdk/wandb_run.py\", line 754, in _telemetry_flush\n",
            "    self._backend.interface._publish_telemetry(self._telemetry_obj)\n",
            "  File \"/usr/local/lib/python3.11/dist-packages/wandb/sdk/interface/interface_shared.py\", line 101, in _publish_telemetry\n",
            "    self._publish(rec)\n",
            "  File \"/usr/local/lib/python3.11/dist-packages/wandb/sdk/interface/interface_sock.py\", line 47, in _publish\n",
            "    self._sock_client.send_record_publish(record)\n",
            "  File \"/usr/local/lib/python3.11/dist-packages/wandb/sdk/lib/sock_client.py\", line 222, in send_record_publish\n",
            "    self.send_server_request(server_req)\n",
            "  File \"/usr/local/lib/python3.11/dist-packages/wandb/sdk/lib/sock_client.py\", line 154, in send_server_request\n",
            "    self._send_message(msg)\n",
            "  File \"/usr/local/lib/python3.11/dist-packages/wandb/sdk/lib/sock_client.py\", line 151, in _send_message\n",
            "    self._sendall_with_error_handle(header + data)\n",
            "  File \"/usr/local/lib/python3.11/dist-packages/wandb/sdk/lib/sock_client.py\", line 130, in _sendall_with_error_handle\n",
            "    sent = self._sock.send(data)\n",
            "           ^^^^^^^^^^^^^^^^^^^^^\n",
            "BrokenPipeError: [Errno 32] Broken pipe\n",
            "\n",
            "During handling of the above exception, another exception occurred:\n",
            "\n",
            "Traceback (most recent call last):\n",
            "  File \"/usr/lib/python3.11/threading.py\", line 1045, in _bootstrap_inner\n",
            "    self.run()\n",
            "  File \"/usr/lib/python3.11/threading.py\", line 982, in run\n",
            "    self._target(*self._args, **self._kwargs)\n",
            "  File \"/usr/local/lib/python3.11/dist-packages/wandb/agents/pyagent.py\", line 311, in _run_job\n",
            "    wandb.finish(exit_code=1)\n",
            "  File \"/usr/local/lib/python3.11/dist-packages/wandb/sdk/wandb_run.py\", line 4137, in finish\n",
            "    wandb.run.finish(exit_code=exit_code, quiet=quiet)\n",
            "  File \"/usr/local/lib/python3.11/dist-packages/wandb/sdk/wandb_run.py\", line 441, in wrapper\n",
            "    return func(self, *args, **kwargs)\n",
            "           ^^^^^^^^^^^^^^^^^^^^^^^^^^^\n",
            "  File \"/usr/local/lib/python3.11/dist-packages/wandb/sdk/wandb_run.py\", line 383, in wrapper\n",
            "    return func(self, *args, **kwargs)\n",
            "           ^^^^^^^^^^^^^^^^^^^^^^^^^^^\n",
            "  File \"/usr/local/lib/python3.11/dist-packages/wandb/sdk/wandb_run.py\", line 2104, in finish\n",
            "    return self._finish(exit_code)\n",
            "           ^^^^^^^^^^^^^^^^^^^^^^^\n",
            "  File \"/usr/local/lib/python3.11/dist-packages/wandb/sdk/wandb_run.py\", line 2111, in _finish\n",
            "    with telemetry.context(run=self) as tel:\n",
            "  File \"/usr/local/lib/python3.11/dist-packages/wandb/sdk/lib/telemetry.py\", line 42, in __exit__\n",
            "    self._run._telemetry_callback(self._obj)\n",
            "  File \"/usr/local/lib/python3.11/dist-packages/wandb/sdk/wandb_run.py\", line 741, in _telemetry_callback\n",
            "    self._telemetry_flush()\n",
            "  File \"/usr/local/lib/python3.11/dist-packages/wandb/sdk/wandb_run.py\", line 754, in _telemetry_flush\n",
            "    self._backend.interface._publish_telemetry(self._telemetry_obj)\n",
            "  File \"/usr/local/lib/python3.11/dist-packages/wandb/sdk/interface/interface_shared.py\", line 101, in _publish_telemetry\n",
            "    self._publish(rec)\n",
            "  File \"/usr/local/lib/python3.11/dist-packages/wandb/sdk/interface/interface_sock.py\", line 47, in _publish\n",
            "    self._sock_client.send_record_publish(record)\n",
            "  File \"/usr/local/lib/python3.11/dist-packages/wandb/sdk/lib/sock_client.py\", line 222, in send_record_publish\n",
            "    self.send_server_request(server_req)\n",
            "  File \"/usr/local/lib/python3.11/dist-packages/wandb/sdk/lib/sock_client.py\", line 154, in send_server_request\n",
            "    self._send_message(msg)\n",
            "  File \"/usr/local/lib/python3.11/dist-packages/wandb/sdk/lib/sock_client.py\", line 151, in _send_message\n",
            "    self._sendall_with_error_handle(header + data)\n",
            "  File \"/usr/local/lib/python3.11/dist-packages/wandb/sdk/lib/sock_client.py\", line 130, in _sendall_with_error_handle\n",
            "    sent = self._sock.send(data)\n",
            "           ^^^^^^^^^^^^^^^^^^^^^\n",
            "BrokenPipeError: [Errno 32] Broken pipe\n",
            "\u001b[34m\u001b[1mwandb\u001b[0m: Sweep Agent: Waiting for job.\n",
            "\u001b[34m\u001b[1mwandb\u001b[0m: Job received.\n",
            "\u001b[34m\u001b[1mwandb\u001b[0m: Agent Starting Run: zmb5q0yy with config:\n",
            "\u001b[34m\u001b[1mwandb\u001b[0m: \tbatch_size: 256\n",
            "\u001b[34m\u001b[1mwandb\u001b[0m: \tepochs: 50\n",
            "\u001b[34m\u001b[1mwandb\u001b[0m: \tlearning_rate: 0.01\n",
            "Exception in thread Thread-38 (_run_job):\n",
            "Traceback (most recent call last):\n",
            "  File \"/usr/local/lib/python3.11/dist-packages/wandb/agents/pyagent.py\", line 306, in _run_job\n",
            "    self._function()\n",
            "  File \"<ipython-input-46-5ba848d86590>\", line 2, in wandtrain\n",
            "  File \"/usr/local/lib/python3.11/dist-packages/wandb/sdk/wandb_init.py\", line 1485, in init\n",
            "    wandb._sentry.reraise(e)\n",
            "  File \"/usr/local/lib/python3.11/dist-packages/wandb/analytics/sentry.py\", line 156, in reraise\n",
            "    raise exc.with_traceback(sys.exc_info()[2])\n",
            "  File \"/usr/local/lib/python3.11/dist-packages/wandb/sdk/wandb_init.py\", line 1471, in init\n",
            "    return wi.init(run_settings, run_config)\n",
            "           ^^^^^^^^^^^^^^^^^^^^^^^^^^^^^^^^^\n",
            "  File \"/usr/local/lib/python3.11/dist-packages/wandb/sdk/wandb_init.py\", line 784, in init\n",
            "    with telemetry.context() as tel:\n",
            "  File \"/usr/local/lib/python3.11/dist-packages/wandb/sdk/lib/telemetry.py\", line 42, in __exit__\n",
            "    self._run._telemetry_callback(self._obj)\n",
            "  File \"/usr/local/lib/python3.11/dist-packages/wandb/sdk/wandb_run.py\", line 741, in _telemetry_callback\n",
            "    self._telemetry_flush()\n",
            "  File \"/usr/local/lib/python3.11/dist-packages/wandb/sdk/wandb_run.py\", line 754, in _telemetry_flush\n",
            "    self._backend.interface._publish_telemetry(self._telemetry_obj)\n",
            "  File \"/usr/local/lib/python3.11/dist-packages/wandb/sdk/interface/interface_shared.py\", line 101, in _publish_telemetry\n",
            "    self._publish(rec)\n",
            "  File \"/usr/local/lib/python3.11/dist-packages/wandb/sdk/interface/interface_sock.py\", line 47, in _publish\n",
            "    self._sock_client.send_record_publish(record)\n",
            "  File \"/usr/local/lib/python3.11/dist-packages/wandb/sdk/lib/sock_client.py\", line 222, in send_record_publish\n",
            "    self.send_server_request(server_req)\n",
            "  File \"/usr/local/lib/python3.11/dist-packages/wandb/sdk/lib/sock_client.py\", line 154, in send_server_request\n",
            "    self._send_message(msg)\n",
            "  File \"/usr/local/lib/python3.11/dist-packages/wandb/sdk/lib/sock_client.py\", line 151, in _send_message\n",
            "    self._sendall_with_error_handle(header + data)\n",
            "  File \"/usr/local/lib/python3.11/dist-packages/wandb/sdk/lib/sock_client.py\", line 130, in _sendall_with_error_handle\n",
            "    sent = self._sock.send(data)\n",
            "           ^^^^^^^^^^^^^^^^^^^^^\n",
            "BrokenPipeError: [Errno 32] Broken pipe\n",
            "\n",
            "During handling of the above exception, another exception occurred:\n",
            "\n",
            "Traceback (most recent call last):\n",
            "  File \"/usr/lib/python3.11/threading.py\", line 1045, in _bootstrap_inner\n",
            "    self.run()\n",
            "  File \"/usr/lib/python3.11/threading.py\", line 982, in run\n",
            "    self._target(*self._args, **self._kwargs)\n",
            "  File \"/usr/local/lib/python3.11/dist-packages/wandb/agents/pyagent.py\", line 311, in _run_job\n",
            "    wandb.finish(exit_code=1)\n",
            "  File \"/usr/local/lib/python3.11/dist-packages/wandb/sdk/wandb_run.py\", line 4137, in finish\n",
            "    wandb.run.finish(exit_code=exit_code, quiet=quiet)\n",
            "  File \"/usr/local/lib/python3.11/dist-packages/wandb/sdk/wandb_run.py\", line 441, in wrapper\n",
            "    return func(self, *args, **kwargs)\n",
            "           ^^^^^^^^^^^^^^^^^^^^^^^^^^^\n",
            "  File \"/usr/local/lib/python3.11/dist-packages/wandb/sdk/wandb_run.py\", line 383, in wrapper\n",
            "    return func(self, *args, **kwargs)\n",
            "           ^^^^^^^^^^^^^^^^^^^^^^^^^^^\n",
            "  File \"/usr/local/lib/python3.11/dist-packages/wandb/sdk/wandb_run.py\", line 2104, in finish\n",
            "    return self._finish(exit_code)\n",
            "           ^^^^^^^^^^^^^^^^^^^^^^^\n",
            "  File \"/usr/local/lib/python3.11/dist-packages/wandb/sdk/wandb_run.py\", line 2111, in _finish\n",
            "    with telemetry.context(run=self) as tel:\n",
            "  File \"/usr/local/lib/python3.11/dist-packages/wandb/sdk/lib/telemetry.py\", line 42, in __exit__\n",
            "    self._run._telemetry_callback(self._obj)\n",
            "  File \"/usr/local/lib/python3.11/dist-packages/wandb/sdk/wandb_run.py\", line 741, in _telemetry_callback\n",
            "    self._telemetry_flush()\n",
            "  File \"/usr/local/lib/python3.11/dist-packages/wandb/sdk/wandb_run.py\", line 754, in _telemetry_flush\n",
            "    self._backend.interface._publish_telemetry(self._telemetry_obj)\n",
            "  File \"/usr/local/lib/python3.11/dist-packages/wandb/sdk/interface/interface_shared.py\", line 101, in _publish_telemetry\n",
            "    self._publish(rec)\n",
            "  File \"/usr/local/lib/python3.11/dist-packages/wandb/sdk/interface/interface_sock.py\", line 47, in _publish\n",
            "    self._sock_client.send_record_publish(record)\n",
            "  File \"/usr/local/lib/python3.11/dist-packages/wandb/sdk/lib/sock_client.py\", line 222, in send_record_publish\n",
            "    self.send_server_request(server_req)\n",
            "  File \"/usr/local/lib/python3.11/dist-packages/wandb/sdk/lib/sock_client.py\", line 154, in send_server_request\n",
            "    self._send_message(msg)\n",
            "  File \"/usr/local/lib/python3.11/dist-packages/wandb/sdk/lib/sock_client.py\", line 151, in _send_message\n",
            "    self._sendall_with_error_handle(header + data)\n",
            "  File \"/usr/local/lib/python3.11/dist-packages/wandb/sdk/lib/sock_client.py\", line 130, in _sendall_with_error_handle\n",
            "    sent = self._sock.send(data)\n",
            "           ^^^^^^^^^^^^^^^^^^^^^\n",
            "BrokenPipeError: [Errno 32] Broken pipe\n",
            "\u001b[34m\u001b[1mwandb\u001b[0m: Ctrl + C detected. Stopping sweep.\n"
          ]
        },
        {
          "output_type": "stream",
          "name": "stdout",
          "text": [
            "Error in callback <bound method _WandbInit._pause_backend of <wandb.sdk.wandb_init._WandbInit object at 0x7bc032805a10>> (for post_run_cell):\n"
          ]
        },
        {
          "output_type": "error",
          "ename": "BrokenPipeError",
          "evalue": "[Errno 32] Broken pipe",
          "traceback": [
            "\u001b[0;31m---------------------------------------------------------------------------\u001b[0m",
            "\u001b[0;31mBrokenPipeError\u001b[0m                           Traceback (most recent call last)",
            "\u001b[0;32m/usr/local/lib/python3.11/dist-packages/wandb/sdk/wandb_init.py\u001b[0m in \u001b[0;36m_pause_backend\u001b[0;34m(self, *args, **kwargs)\u001b[0m\n\u001b[1;32m    553\u001b[0m         \u001b[0;32mif\u001b[0m \u001b[0mself\u001b[0m\u001b[0;34m.\u001b[0m\u001b[0mbackend\u001b[0m\u001b[0;34m.\u001b[0m\u001b[0minterface\u001b[0m \u001b[0;32mis\u001b[0m \u001b[0;32mnot\u001b[0m \u001b[0;32mNone\u001b[0m\u001b[0;34m:\u001b[0m\u001b[0;34m\u001b[0m\u001b[0;34m\u001b[0m\u001b[0m\n\u001b[1;32m    554\u001b[0m             \u001b[0mself\u001b[0m\u001b[0;34m.\u001b[0m\u001b[0m_logger\u001b[0m\u001b[0;34m.\u001b[0m\u001b[0minfo\u001b[0m\u001b[0;34m(\u001b[0m\u001b[0;34m\"pausing backend\"\u001b[0m\u001b[0;34m)\u001b[0m  \u001b[0;31m# type: ignore\u001b[0m\u001b[0;34m\u001b[0m\u001b[0;34m\u001b[0m\u001b[0m\n\u001b[0;32m--> 555\u001b[0;31m             \u001b[0mself\u001b[0m\u001b[0;34m.\u001b[0m\u001b[0mbackend\u001b[0m\u001b[0;34m.\u001b[0m\u001b[0minterface\u001b[0m\u001b[0;34m.\u001b[0m\u001b[0mpublish_pause\u001b[0m\u001b[0;34m(\u001b[0m\u001b[0;34m)\u001b[0m\u001b[0;34m\u001b[0m\u001b[0;34m\u001b[0m\u001b[0m\n\u001b[0m\u001b[1;32m    556\u001b[0m \u001b[0;34m\u001b[0m\u001b[0m\n\u001b[1;32m    557\u001b[0m     \u001b[0;32mdef\u001b[0m \u001b[0m_resume_backend\u001b[0m\u001b[0;34m(\u001b[0m\u001b[0mself\u001b[0m\u001b[0;34m,\u001b[0m \u001b[0;34m*\u001b[0m\u001b[0margs\u001b[0m\u001b[0;34m:\u001b[0m \u001b[0mAny\u001b[0m\u001b[0;34m,\u001b[0m \u001b[0;34m**\u001b[0m\u001b[0mkwargs\u001b[0m\u001b[0;34m:\u001b[0m \u001b[0mAny\u001b[0m\u001b[0;34m)\u001b[0m \u001b[0;34m->\u001b[0m \u001b[0;32mNone\u001b[0m\u001b[0;34m:\u001b[0m  \u001b[0;31m#  noqa\u001b[0m\u001b[0;34m\u001b[0m\u001b[0;34m\u001b[0m\u001b[0m\n",
            "\u001b[0;32m/usr/local/lib/python3.11/dist-packages/wandb/sdk/interface/interface.py\u001b[0m in \u001b[0;36mpublish_pause\u001b[0;34m(self)\u001b[0m\n\u001b[1;32m    769\u001b[0m     \u001b[0;32mdef\u001b[0m \u001b[0mpublish_pause\u001b[0m\u001b[0;34m(\u001b[0m\u001b[0mself\u001b[0m\u001b[0;34m)\u001b[0m \u001b[0;34m->\u001b[0m \u001b[0;32mNone\u001b[0m\u001b[0;34m:\u001b[0m\u001b[0;34m\u001b[0m\u001b[0;34m\u001b[0m\u001b[0m\n\u001b[1;32m    770\u001b[0m         \u001b[0mpause\u001b[0m \u001b[0;34m=\u001b[0m \u001b[0mpb\u001b[0m\u001b[0;34m.\u001b[0m\u001b[0mPauseRequest\u001b[0m\u001b[0;34m(\u001b[0m\u001b[0;34m)\u001b[0m\u001b[0;34m\u001b[0m\u001b[0;34m\u001b[0m\u001b[0m\n\u001b[0;32m--> 771\u001b[0;31m         \u001b[0mself\u001b[0m\u001b[0;34m.\u001b[0m\u001b[0m_publish_pause\u001b[0m\u001b[0;34m(\u001b[0m\u001b[0mpause\u001b[0m\u001b[0;34m)\u001b[0m\u001b[0;34m\u001b[0m\u001b[0;34m\u001b[0m\u001b[0m\n\u001b[0m\u001b[1;32m    772\u001b[0m \u001b[0;34m\u001b[0m\u001b[0m\n\u001b[1;32m    773\u001b[0m     \u001b[0;34m@\u001b[0m\u001b[0mabstractmethod\u001b[0m\u001b[0;34m\u001b[0m\u001b[0;34m\u001b[0m\u001b[0m\n",
            "\u001b[0;32m/usr/local/lib/python3.11/dist-packages/wandb/sdk/interface/interface_shared.py\u001b[0m in \u001b[0;36m_publish_pause\u001b[0;34m(self, pause)\u001b[0m\n\u001b[1;32m    366\u001b[0m     \u001b[0;32mdef\u001b[0m \u001b[0m_publish_pause\u001b[0m\u001b[0;34m(\u001b[0m\u001b[0mself\u001b[0m\u001b[0;34m,\u001b[0m \u001b[0mpause\u001b[0m\u001b[0;34m:\u001b[0m \u001b[0mpb\u001b[0m\u001b[0;34m.\u001b[0m\u001b[0mPauseRequest\u001b[0m\u001b[0;34m)\u001b[0m \u001b[0;34m->\u001b[0m \u001b[0;32mNone\u001b[0m\u001b[0;34m:\u001b[0m\u001b[0;34m\u001b[0m\u001b[0;34m\u001b[0m\u001b[0m\n\u001b[1;32m    367\u001b[0m         \u001b[0mrec\u001b[0m \u001b[0;34m=\u001b[0m \u001b[0mself\u001b[0m\u001b[0;34m.\u001b[0m\u001b[0m_make_request\u001b[0m\u001b[0;34m(\u001b[0m\u001b[0mpause\u001b[0m\u001b[0;34m=\u001b[0m\u001b[0mpause\u001b[0m\u001b[0;34m)\u001b[0m\u001b[0;34m\u001b[0m\u001b[0;34m\u001b[0m\u001b[0m\n\u001b[0;32m--> 368\u001b[0;31m         \u001b[0mself\u001b[0m\u001b[0;34m.\u001b[0m\u001b[0m_publish\u001b[0m\u001b[0;34m(\u001b[0m\u001b[0mrec\u001b[0m\u001b[0;34m)\u001b[0m\u001b[0;34m\u001b[0m\u001b[0;34m\u001b[0m\u001b[0m\n\u001b[0m\u001b[1;32m    369\u001b[0m \u001b[0;34m\u001b[0m\u001b[0m\n\u001b[1;32m    370\u001b[0m     \u001b[0;32mdef\u001b[0m \u001b[0m_publish_resume\u001b[0m\u001b[0;34m(\u001b[0m\u001b[0mself\u001b[0m\u001b[0;34m,\u001b[0m \u001b[0mresume\u001b[0m\u001b[0;34m:\u001b[0m \u001b[0mpb\u001b[0m\u001b[0;34m.\u001b[0m\u001b[0mResumeRequest\u001b[0m\u001b[0;34m)\u001b[0m \u001b[0;34m->\u001b[0m \u001b[0;32mNone\u001b[0m\u001b[0;34m:\u001b[0m\u001b[0;34m\u001b[0m\u001b[0;34m\u001b[0m\u001b[0m\n",
            "\u001b[0;32m/usr/local/lib/python3.11/dist-packages/wandb/sdk/interface/interface_sock.py\u001b[0m in \u001b[0;36m_publish\u001b[0;34m(self, record, local)\u001b[0m\n\u001b[1;32m     45\u001b[0m     \u001b[0;32mdef\u001b[0m \u001b[0m_publish\u001b[0m\u001b[0;34m(\u001b[0m\u001b[0mself\u001b[0m\u001b[0;34m,\u001b[0m \u001b[0mrecord\u001b[0m\u001b[0;34m:\u001b[0m \u001b[0;34m\"pb.Record\"\u001b[0m\u001b[0;34m,\u001b[0m \u001b[0mlocal\u001b[0m\u001b[0;34m:\u001b[0m \u001b[0mOptional\u001b[0m\u001b[0;34m[\u001b[0m\u001b[0mbool\u001b[0m\u001b[0;34m]\u001b[0m \u001b[0;34m=\u001b[0m \u001b[0;32mNone\u001b[0m\u001b[0;34m)\u001b[0m \u001b[0;34m->\u001b[0m \u001b[0;32mNone\u001b[0m\u001b[0;34m:\u001b[0m\u001b[0;34m\u001b[0m\u001b[0;34m\u001b[0m\u001b[0m\n\u001b[1;32m     46\u001b[0m         \u001b[0mself\u001b[0m\u001b[0;34m.\u001b[0m\u001b[0m_assign\u001b[0m\u001b[0;34m(\u001b[0m\u001b[0mrecord\u001b[0m\u001b[0;34m)\u001b[0m\u001b[0;34m\u001b[0m\u001b[0;34m\u001b[0m\u001b[0m\n\u001b[0;32m---> 47\u001b[0;31m         \u001b[0mself\u001b[0m\u001b[0;34m.\u001b[0m\u001b[0m_sock_client\u001b[0m\u001b[0;34m.\u001b[0m\u001b[0msend_record_publish\u001b[0m\u001b[0;34m(\u001b[0m\u001b[0mrecord\u001b[0m\u001b[0;34m)\u001b[0m\u001b[0;34m\u001b[0m\u001b[0;34m\u001b[0m\u001b[0m\n\u001b[0m\u001b[1;32m     48\u001b[0m \u001b[0;34m\u001b[0m\u001b[0m\n\u001b[1;32m     49\u001b[0m     def _communicate_async(\n",
            "\u001b[0;32m/usr/local/lib/python3.11/dist-packages/wandb/sdk/lib/sock_client.py\u001b[0m in \u001b[0;36msend_record_publish\u001b[0;34m(self, record)\u001b[0m\n\u001b[1;32m    220\u001b[0m         \u001b[0mserver_req\u001b[0m \u001b[0;34m=\u001b[0m \u001b[0mspb\u001b[0m\u001b[0;34m.\u001b[0m\u001b[0mServerRequest\u001b[0m\u001b[0;34m(\u001b[0m\u001b[0;34m)\u001b[0m\u001b[0;34m\u001b[0m\u001b[0;34m\u001b[0m\u001b[0m\n\u001b[1;32m    221\u001b[0m         \u001b[0mserver_req\u001b[0m\u001b[0;34m.\u001b[0m\u001b[0mrecord_publish\u001b[0m\u001b[0;34m.\u001b[0m\u001b[0mCopyFrom\u001b[0m\u001b[0;34m(\u001b[0m\u001b[0mrecord\u001b[0m\u001b[0;34m)\u001b[0m\u001b[0;34m\u001b[0m\u001b[0;34m\u001b[0m\u001b[0m\n\u001b[0;32m--> 222\u001b[0;31m         \u001b[0mself\u001b[0m\u001b[0;34m.\u001b[0m\u001b[0msend_server_request\u001b[0m\u001b[0;34m(\u001b[0m\u001b[0mserver_req\u001b[0m\u001b[0;34m)\u001b[0m\u001b[0;34m\u001b[0m\u001b[0;34m\u001b[0m\u001b[0m\n\u001b[0m\u001b[1;32m    223\u001b[0m \u001b[0;34m\u001b[0m\u001b[0m\n\u001b[1;32m    224\u001b[0m     \u001b[0;32mdef\u001b[0m \u001b[0m_extract_packet_bytes\u001b[0m\u001b[0;34m(\u001b[0m\u001b[0mself\u001b[0m\u001b[0;34m)\u001b[0m \u001b[0;34m->\u001b[0m \u001b[0mOptional\u001b[0m\u001b[0;34m[\u001b[0m\u001b[0mbytes\u001b[0m\u001b[0;34m]\u001b[0m\u001b[0;34m:\u001b[0m\u001b[0;34m\u001b[0m\u001b[0;34m\u001b[0m\u001b[0m\n",
            "\u001b[0;32m/usr/local/lib/python3.11/dist-packages/wandb/sdk/lib/sock_client.py\u001b[0m in \u001b[0;36msend_server_request\u001b[0;34m(self, msg)\u001b[0m\n\u001b[1;32m    152\u001b[0m \u001b[0;34m\u001b[0m\u001b[0m\n\u001b[1;32m    153\u001b[0m     \u001b[0;32mdef\u001b[0m \u001b[0msend_server_request\u001b[0m\u001b[0;34m(\u001b[0m\u001b[0mself\u001b[0m\u001b[0;34m,\u001b[0m \u001b[0mmsg\u001b[0m\u001b[0;34m:\u001b[0m \u001b[0mAny\u001b[0m\u001b[0;34m)\u001b[0m \u001b[0;34m->\u001b[0m \u001b[0;32mNone\u001b[0m\u001b[0;34m:\u001b[0m\u001b[0;34m\u001b[0m\u001b[0;34m\u001b[0m\u001b[0m\n\u001b[0;32m--> 154\u001b[0;31m         \u001b[0mself\u001b[0m\u001b[0;34m.\u001b[0m\u001b[0m_send_message\u001b[0m\u001b[0;34m(\u001b[0m\u001b[0mmsg\u001b[0m\u001b[0;34m)\u001b[0m\u001b[0;34m\u001b[0m\u001b[0;34m\u001b[0m\u001b[0m\n\u001b[0m\u001b[1;32m    155\u001b[0m \u001b[0;34m\u001b[0m\u001b[0m\n\u001b[1;32m    156\u001b[0m     \u001b[0;32mdef\u001b[0m \u001b[0msend_server_response\u001b[0m\u001b[0;34m(\u001b[0m\u001b[0mself\u001b[0m\u001b[0;34m,\u001b[0m \u001b[0mmsg\u001b[0m\u001b[0;34m:\u001b[0m \u001b[0mAny\u001b[0m\u001b[0;34m)\u001b[0m \u001b[0;34m->\u001b[0m \u001b[0;32mNone\u001b[0m\u001b[0;34m:\u001b[0m\u001b[0;34m\u001b[0m\u001b[0;34m\u001b[0m\u001b[0m\n",
            "\u001b[0;32m/usr/local/lib/python3.11/dist-packages/wandb/sdk/lib/sock_client.py\u001b[0m in \u001b[0;36m_send_message\u001b[0;34m(self, msg)\u001b[0m\n\u001b[1;32m    149\u001b[0m         \u001b[0mheader\u001b[0m \u001b[0;34m=\u001b[0m \u001b[0mstruct\u001b[0m\u001b[0;34m.\u001b[0m\u001b[0mpack\u001b[0m\u001b[0;34m(\u001b[0m\u001b[0;34m\"<BI\"\u001b[0m\u001b[0;34m,\u001b[0m \u001b[0mord\u001b[0m\u001b[0;34m(\u001b[0m\u001b[0;34m\"W\"\u001b[0m\u001b[0;34m)\u001b[0m\u001b[0;34m,\u001b[0m \u001b[0mraw_size\u001b[0m\u001b[0;34m)\u001b[0m\u001b[0;34m\u001b[0m\u001b[0;34m\u001b[0m\u001b[0m\n\u001b[1;32m    150\u001b[0m         \u001b[0;32mwith\u001b[0m \u001b[0mself\u001b[0m\u001b[0;34m.\u001b[0m\u001b[0m_lock\u001b[0m\u001b[0;34m:\u001b[0m\u001b[0;34m\u001b[0m\u001b[0;34m\u001b[0m\u001b[0m\n\u001b[0;32m--> 151\u001b[0;31m             \u001b[0mself\u001b[0m\u001b[0;34m.\u001b[0m\u001b[0m_sendall_with_error_handle\u001b[0m\u001b[0;34m(\u001b[0m\u001b[0mheader\u001b[0m \u001b[0;34m+\u001b[0m \u001b[0mdata\u001b[0m\u001b[0;34m)\u001b[0m\u001b[0;34m\u001b[0m\u001b[0;34m\u001b[0m\u001b[0m\n\u001b[0m\u001b[1;32m    152\u001b[0m \u001b[0;34m\u001b[0m\u001b[0m\n\u001b[1;32m    153\u001b[0m     \u001b[0;32mdef\u001b[0m \u001b[0msend_server_request\u001b[0m\u001b[0;34m(\u001b[0m\u001b[0mself\u001b[0m\u001b[0;34m,\u001b[0m \u001b[0mmsg\u001b[0m\u001b[0;34m:\u001b[0m \u001b[0mAny\u001b[0m\u001b[0;34m)\u001b[0m \u001b[0;34m->\u001b[0m \u001b[0;32mNone\u001b[0m\u001b[0;34m:\u001b[0m\u001b[0;34m\u001b[0m\u001b[0;34m\u001b[0m\u001b[0m\n",
            "\u001b[0;32m/usr/local/lib/python3.11/dist-packages/wandb/sdk/lib/sock_client.py\u001b[0m in \u001b[0;36m_sendall_with_error_handle\u001b[0;34m(self, data)\u001b[0m\n\u001b[1;32m    128\u001b[0m             \u001b[0mstart_time\u001b[0m \u001b[0;34m=\u001b[0m \u001b[0mtime\u001b[0m\u001b[0;34m.\u001b[0m\u001b[0mmonotonic\u001b[0m\u001b[0;34m(\u001b[0m\u001b[0;34m)\u001b[0m\u001b[0;34m\u001b[0m\u001b[0;34m\u001b[0m\u001b[0m\n\u001b[1;32m    129\u001b[0m             \u001b[0;32mtry\u001b[0m\u001b[0;34m:\u001b[0m\u001b[0;34m\u001b[0m\u001b[0;34m\u001b[0m\u001b[0m\n\u001b[0;32m--> 130\u001b[0;31m                 \u001b[0msent\u001b[0m \u001b[0;34m=\u001b[0m \u001b[0mself\u001b[0m\u001b[0;34m.\u001b[0m\u001b[0m_sock\u001b[0m\u001b[0;34m.\u001b[0m\u001b[0msend\u001b[0m\u001b[0;34m(\u001b[0m\u001b[0mdata\u001b[0m\u001b[0;34m)\u001b[0m\u001b[0;34m\u001b[0m\u001b[0;34m\u001b[0m\u001b[0m\n\u001b[0m\u001b[1;32m    131\u001b[0m                 \u001b[0;31m# sent equal to 0 indicates a closed socket\u001b[0m\u001b[0;34m\u001b[0m\u001b[0;34m\u001b[0m\u001b[0m\n\u001b[1;32m    132\u001b[0m                 \u001b[0;32mif\u001b[0m \u001b[0msent\u001b[0m \u001b[0;34m==\u001b[0m \u001b[0;36m0\u001b[0m\u001b[0;34m:\u001b[0m\u001b[0;34m\u001b[0m\u001b[0;34m\u001b[0m\u001b[0m\n",
            "\u001b[0;31mBrokenPipeError\u001b[0m: [Errno 32] Broken pipe"
          ]
        }
      ]
    },
    {
      "cell_type": "code",
      "source": [
        "y_pred=net.forward_pass_network(x_test_flat)\n",
        "accuracy(y_test,y_pred)\n",
        "train_accuracy=accuracy(y_test,y_pred)\n",
        "train_accuracy"
      ],
      "metadata": {
        "id": "hxUiZzroQ0BE",
        "colab": {
          "base_uri": "https://localhost:8080/"
        },
        "outputId": "54a95134-f22b-45d1-ba92-fa8580987fc4"
      },
      "execution_count": 43,
      "outputs": [
        {
          "output_type": "execute_result",
          "data": {
            "text/plain": [
              "0.7575"
            ]
          },
          "metadata": {},
          "execution_count": 43
        }
      ]
    },
    {
      "cell_type": "markdown",
      "source": [
        "## Question 5"
      ],
      "metadata": {
        "id": "wXdUULpD4kWX"
      }
    },
    {
      "cell_type": "markdown",
      "source": [
        "Best accuracy on validation set across all models"
      ],
      "metadata": {
        "id": "CLjWUWll4ync"
      }
    },
    {
      "cell_type": "markdown",
      "source": [
        "## Question 6"
      ],
      "metadata": {
        "id": "uMvdsY5147_Y"
      }
    },
    {
      "cell_type": "markdown",
      "source": [
        "inferences"
      ],
      "metadata": {
        "id": "HaKXJe4E5BPe"
      }
    },
    {
      "cell_type": "markdown",
      "source": [
        "## Question 7"
      ],
      "metadata": {
        "id": "IqhpT_LR5CKK"
      }
    },
    {
      "cell_type": "markdown",
      "source": [
        "Model with best accuracy on test set ,\n",
        "Plot confusion matrix"
      ],
      "metadata": {
        "id": "uofqR_Fc5RWB"
      }
    },
    {
      "cell_type": "markdown",
      "source": [
        "## Question 8"
      ],
      "metadata": {
        "id": "LDx-F51k5ZXF"
      }
    },
    {
      "cell_type": "markdown",
      "source": [
        "Compare MSE with cross entropy"
      ],
      "metadata": {
        "id": "_p2lXPB25fxJ"
      }
    },
    {
      "cell_type": "markdown",
      "source": [
        "## Quetion 9\n",
        "Link to github:https://github.com/sankarvinayak/DL-assignment1"
      ],
      "metadata": {
        "id": "m4cGkcOA5jyE"
      }
    },
    {
      "cell_type": "markdown",
      "source": [
        "## Question 10\n",
        "Recomendation of 3 set of hyperparameter for MNIST"
      ],
      "metadata": {
        "id": "NJjcwLZJ6BLO"
      }
    },
    {
      "cell_type": "code",
      "source": [],
      "metadata": {
        "id": "RifDWKCW6HKw"
      },
      "execution_count": null,
      "outputs": []
    }
  ]
}